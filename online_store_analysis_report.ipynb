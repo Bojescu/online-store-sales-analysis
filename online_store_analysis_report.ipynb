{
 "cells": [
  {
   "cell_type": "markdown",
   "id": "09593532",
   "metadata": {},
   "source": [
    "# Sales Analysis Report - Online Store Data 📊\n",
    "Author: Ana Bojescu\n",
    "\n",
    "This notebook presents a comprehensive analysis of the dataset online_store_data.csv.\n",
    "My main objective is to transform raw data into actionable insights that help identify:\n",
    "\n",
    "🔝 Best-selling products,\n",
    "\n",
    "🗂️ The most and least successful product categories,\n",
    "\n",
    "📈 Key factors that drive product performance (such as price, rating, stock availability).\n",
    "\n",
    "To perform this analysis, I will use:\n",
    "\n",
    "-pandas for data cleaning and processing,\n",
    "\n",
    "-matplotlib and seaborn for building insightful visualizations,\n",
    "\n",
    "-plotly.express for creating interactive and visually appealing plots with minimal code, \n",
    "\n",
    "-and well-structured Markdown commentary to guide interpretation and support business decision-making.\n"
   ]
  },
  {
   "cell_type": "markdown",
   "id": "a3f145d7",
   "metadata": {},
   "source": [
    "## Step 1: Importing libraries"
   ]
  },
  {
   "cell_type": "code",
   "execution_count": 169,
   "id": "1d0e0200",
   "metadata": {},
   "outputs": [],
   "source": [
    "import pandas as pd\n",
    "import matplotlib.pyplot as plt\n",
    "import seaborn as sns\n",
    "import numpy as np\n",
    "import plotly.express as px"
   ]
  },
  {
   "cell_type": "markdown",
   "id": "a23e9809",
   "metadata": {},
   "source": [
    "## Load dataset"
   ]
  },
  {
   "cell_type": "code",
   "execution_count": 170,
   "id": "53b831d7",
   "metadata": {},
   "outputs": [],
   "source": [
    "df = pd.read_csv(\"PDV5_03-Task_3-online_store_data.csv\")"
   ]
  },
  {
   "cell_type": "markdown",
   "id": "488e1313",
   "metadata": {},
   "source": [
    "## Preview of the Dataset\n",
    "\n",
    "To get a quick sense of what the data looks like, I display the first few rows using `df.head()`."
   ]
  },
  {
   "cell_type": "code",
   "execution_count": 171,
   "id": "3e745e1b",
   "metadata": {},
   "outputs": [
    {
     "data": {
      "text/html": [
       "<div>\n",
       "<style scoped>\n",
       "    .dataframe tbody tr th:only-of-type {\n",
       "        vertical-align: middle;\n",
       "    }\n",
       "\n",
       "    .dataframe tbody tr th {\n",
       "        vertical-align: top;\n",
       "    }\n",
       "\n",
       "    .dataframe thead th {\n",
       "        text-align: right;\n",
       "    }\n",
       "</style>\n",
       "<table border=\"1\" class=\"dataframe\">\n",
       "  <thead>\n",
       "    <tr style=\"text-align: right;\">\n",
       "      <th></th>\n",
       "      <th>product_name</th>\n",
       "      <th>category</th>\n",
       "      <th>price</th>\n",
       "      <th>quantity_in_stock</th>\n",
       "      <th>quantity_sold</th>\n",
       "      <th>brand</th>\n",
       "      <th>rating</th>\n",
       "      <th>num_of_ratings</th>\n",
       "      <th>date_added</th>\n",
       "      <th>color</th>\n",
       "      <th>revenue</th>\n",
       "    </tr>\n",
       "  </thead>\n",
       "  <tbody>\n",
       "    <tr>\n",
       "      <th>0</th>\n",
       "      <td>iPad mini (2021) (64GB, Blue)</td>\n",
       "      <td>Tablets</td>\n",
       "      <td>499.00</td>\n",
       "      <td>266.0</td>\n",
       "      <td>807.0</td>\n",
       "      <td>Apple</td>\n",
       "      <td>8.75</td>\n",
       "      <td>151.0</td>\n",
       "      <td>2/2/2022</td>\n",
       "      <td>blue</td>\n",
       "      <td>402693.00</td>\n",
       "    </tr>\n",
       "    <tr>\n",
       "      <th>1</th>\n",
       "      <td>K55 RGB (Red)</td>\n",
       "      <td>Keyboards</td>\n",
       "      <td>49.99</td>\n",
       "      <td>0.0</td>\n",
       "      <td>1117.0</td>\n",
       "      <td>Corsair</td>\n",
       "      <td>8.50</td>\n",
       "      <td>455.0</td>\n",
       "      <td>8/14/2022</td>\n",
       "      <td>red</td>\n",
       "      <td>55838.83</td>\n",
       "    </tr>\n",
       "    <tr>\n",
       "      <th>2</th>\n",
       "      <td>Fenix 7 (Purple)</td>\n",
       "      <td>Watches</td>\n",
       "      <td>699.99</td>\n",
       "      <td>0.0</td>\n",
       "      <td>530.0</td>\n",
       "      <td>Garmin</td>\n",
       "      <td>9.20</td>\n",
       "      <td>305.0</td>\n",
       "      <td>4/20/2022</td>\n",
       "      <td>purple</td>\n",
       "      <td>370994.70</td>\n",
       "    </tr>\n",
       "    <tr>\n",
       "      <th>3</th>\n",
       "      <td>Mate 40 (256GB, Orange)</td>\n",
       "      <td>Smartphones</td>\n",
       "      <td>899.00</td>\n",
       "      <td>182.0</td>\n",
       "      <td>1030.0</td>\n",
       "      <td>Huawei</td>\n",
       "      <td>8.50</td>\n",
       "      <td>500.0</td>\n",
       "      <td>10/23/2024</td>\n",
       "      <td>orange</td>\n",
       "      <td>925970.00</td>\n",
       "    </tr>\n",
       "    <tr>\n",
       "      <th>4</th>\n",
       "      <td>Rival 600 (Red)</td>\n",
       "      <td>Mice</td>\n",
       "      <td>79.99</td>\n",
       "      <td>35.0</td>\n",
       "      <td>1439.0</td>\n",
       "      <td>SteelSeries</td>\n",
       "      <td>9.25</td>\n",
       "      <td>556.0</td>\n",
       "      <td>9/29/2020</td>\n",
       "      <td>red</td>\n",
       "      <td>115105.61</td>\n",
       "    </tr>\n",
       "  </tbody>\n",
       "</table>\n",
       "</div>"
      ],
      "text/plain": [
       "                    product_name     category   price  quantity_in_stock  \\\n",
       "0  iPad mini (2021) (64GB, Blue)      Tablets  499.00              266.0   \n",
       "1                  K55 RGB (Red)    Keyboards   49.99                0.0   \n",
       "2               Fenix 7 (Purple)      Watches  699.99                0.0   \n",
       "3        Mate 40 (256GB, Orange)  Smartphones  899.00              182.0   \n",
       "4                Rival 600 (Red)         Mice   79.99               35.0   \n",
       "\n",
       "   quantity_sold        brand  rating  num_of_ratings  date_added   color  \\\n",
       "0          807.0        Apple    8.75           151.0    2/2/2022    blue   \n",
       "1         1117.0      Corsair    8.50           455.0   8/14/2022     red   \n",
       "2          530.0       Garmin    9.20           305.0   4/20/2022  purple   \n",
       "3         1030.0       Huawei    8.50           500.0  10/23/2024  orange   \n",
       "4         1439.0  SteelSeries    9.25           556.0   9/29/2020     red   \n",
       "\n",
       "     revenue  \n",
       "0  402693.00  \n",
       "1   55838.83  \n",
       "2  370994.70  \n",
       "3  925970.00  \n",
       "4  115105.61  "
      ]
     },
     "execution_count": 171,
     "metadata": {},
     "output_type": "execute_result"
    }
   ],
   "source": [
    "df.head()"
   ]
  },
  {
   "cell_type": "markdown",
   "id": "7be07472",
   "metadata": {},
   "source": [
    "## Step 2: Exploratory Data Analysis 🔍\n",
    "\n",
    "I start by inspecting the overall dataset structure and familiarizing myself with the types of data available.\n"
   ]
  },
  {
   "cell_type": "markdown",
   "id": "5209a820",
   "metadata": {},
   "source": [
    "## Step 3: Distribution of Quantity Sold 📦\n",
    "\n",
    "I examine how units sold are distributed across all products. This helps me identify outliers and top-performing items\n"
   ]
  },
  {
   "cell_type": "code",
   "execution_count": 172,
   "id": "89c0846c",
   "metadata": {},
   "outputs": [
    {
     "data": {
      "image/png": "[encoded data removed]",
      "text/plain": [
       "<Figure size 1000x600 with 1 Axes>"
      ]
     },
     "metadata": {},
     "output_type": "display_data"
    },
    {
     "data": {
      "image/png": "[encoded data removed]",
      "text/plain": [
       "<Figure size 1000x600 with 1 Axes>"
      ]
     },
     "metadata": {},
     "output_type": "display_data"
    }
   ],
   "source": [
    "plt.figure(figsize=(10, 6))\n",
    "sns.histplot(df['quantity_sold'], bins=50, kde=True)\n",
    "plt.title('Distribution of Quantity Sold')\n",
    "plt.xlabel('Units Sold')\n",
    "plt.ylabel('Number of Products')\n",
    "plt.grid(True)\n",
    "plt.show()\n",
    "\n",
    "plt.figure(figsize=(10, 6))\n",
    "sns.boxplot(x=df['quantity_sold'])\n",
    "plt.title('Boxplot of Quantity Sold')\n",
    "plt.xlabel('Units Sold')\n",
    "plt.grid(True)\n",
    "plt.show()\n"
   ]
  },
  {
   "cell_type": "markdown",
   "id": "a80488bf",
   "metadata": {},
   "source": [
    "## Step 4: Sales Performance by Category 🗂️\n",
    "\n",
    "I compare units sold across categories using boxplots to reveal which categories are performing the best.\n"
   ]
  },
  {
   "cell_type": "code",
   "execution_count": 173,
   "id": "0655554d",
   "metadata": {},
   "outputs": [
    {
     "data": {
      "image/png": "[encoded data removed]",
      "text/plain": [
       "<Figure size 1200x600 with 1 Axes>"
      ]
     },
     "metadata": {},
     "output_type": "display_data"
    }
   ],
   "source": [
    "plt.figure(figsize=(12, 6))\n",
    "sns.boxplot(data=df, x='category', y='quantity_sold')\n",
    "plt.title('Quantity Sold per Category')\n",
    "plt.xticks(rotation=45)\n",
    "plt.ylabel('Units Sold')\n",
    "plt.grid(True)\n",
    "plt.show()\n"
   ]
  },
  {
   "cell_type": "markdown",
   "id": "22d5090d",
   "metadata": {},
   "source": [
    "## Step 5: Correlation Analysis 📈\n",
    "\n",
    "I calculate and visualize the correlations between numeric variables like price, rating, stock, and revenue to better understand which factors are driving sales."
   ]
  },
  {
   "cell_type": "code",
   "execution_count": 174,
   "id": "5e5856d0",
   "metadata": {},
   "outputs": [
    {
     "data": {
      "image/png": "[encoded data removed]",
      "text/plain": [
       "<Figure size 1000x800 with 2 Axes>"
      ]
     },
     "metadata": {},
     "output_type": "display_data"
    }
   ],
   "source": [
    "correlation_matrix = df.corr(numeric_only=True)\n",
    "plt.figure(figsize=(10, 8))\n",
    "sns.heatmap(correlation_matrix, annot=True, cmap='coolwarm', fmt=\".2f\")\n",
    "plt.title('Correlation Heatmap')\n",
    "plt.show()\n"
   ]
  },
  {
   "cell_type": "markdown",
   "id": "ccae101f",
   "metadata": {},
   "source": [
    "## Step 6: Key Success Factors - Scatter Analysis 🎯\n",
    "\n",
    "I’ll visualize how specific features (such as price and rating) relate to quantity sold, and I’ll optionally enhance the plots by adding color or size mappings to enrich the visual insight.\n"
   ]
  },
  {
   "cell_type": "code",
   "execution_count": 175,
   "id": "6ae74d06",
   "metadata": {},
   "outputs": [
    {
     "data": {
      "image/png": "[encoded data removed]",
      "text/plain": [
       "<Figure size 1000x600 with 1 Axes>"
      ]
     },
     "metadata": {},
     "output_type": "display_data"
    }
   ],
   "source": [
    "plt.figure(figsize=(10, 6))\n",
    "sns.scatterplot(data=df, x='price', y='quantity_sold', size='revenue', hue='rating', palette='viridis', alpha=0.7)\n",
    "plt.title('Price vs Quantity Sold (Size = Revenue, Color = Rating)')\n",
    "plt.xlabel('Price')\n",
    "plt.ylabel('Quantity Sold')\n",
    "plt.legend(bbox_to_anchor=(1.05, 1), loc='upper left')\n",
    "plt.grid(True)\n",
    "plt.show()\n"
   ]
  },
  {
   "cell_type": "markdown",
   "id": "9fe5c4c3",
   "metadata": {},
   "source": [
    "## Interactive: Price vs Quantity Sold"
   ]
  },
  {
   "cell_type": "code",
   "execution_count": 176,
   "id": "cffb90bc",
   "metadata": {},
   "outputs": [
    {
     "data": {
      "application/vnd.plotly.v1+json": {
       "config": {
        "plotlyServerURL": "https://plot.ly"
       },
       "data": [
        {
         "customdata": [
          [
           "iPad mini (2021) (64GB, Blue)",
           8.75
          ],
          [
           "MediaPad T5 (64GB, Brown)",
           7.8
          ],
          [
           "MatePad T10s (512GB, Yellow)",
           7.5
          ],
          [
           "iPad Pro 11 (2018) (128GB, Purple)",
           8.5
          ],
          [
           "Surface Pro 9 (256GB, Purple)",
           8.75
          ],
          [
           "Surface Pro 7 (64GB, Black)",
           8.6
          ],
          [
           "MatePad Pro 12.6 (128GB, White)",
           8.5
          ],
          [
           "iPad Pro 11 (2018) (128GB, Green)",
           9.2
          ],
          [
           "Tab P11 (256GB, White)",
           8.5
          ],
          [
           "MediaPad T5 (512GB, Yellow)",
           8.2
          ],
          [
           "MediaPad T5 (512GB, Purple)",
           7.5
          ],
          [
           "Galaxy Tab S4 (256GB, Purple)",
           8.5
          ],
          [
           "iPad mini (2021) (512GB, White)",
           8.75
          ],
          [
           "Surface Go 3 (1TB, Red)",
           8.2
          ],
          [
           "MediaPad M6 (64GB, Green)",
           8.5
          ],
          [
           "Galaxy Tab S4 (64GB, White)",
           8.5
          ],
          [
           "iPad Pro 11 (2018) (1TB, Blue)",
           8.7
          ],
          [
           "iPad Air (2019) (256GB, Orange)",
           8.7
          ],
          [
           "Galaxy Tab S6 (512GB, Gray)",
           8.7
          ],
          [
           "Yoga Smart Tab (1TB, Purple)",
           8.5
          ],
          [
           "ThinkPad X12 Detachable (512GB, White)",
           8.2
          ],
          [
           "Surface Pro 7 (1TB, Gray)",
           8.5
          ],
          [
           "Tab P12 Pro (512GB, Orange)",
           8.5
          ],
          [
           "Surface Go (1TB, Blue)",
           8.25
          ],
          [
           "Galaxy Tab A7 (128GB, Green)",
           8.5
          ],
          [
           "iPad Pro 12.9 (2021) (1TB, Blue)",
           9.2
          ],
          [
           "iPad Air (2020) (1TB, Gray)",
           9.2
          ],
          [
           "Galaxy Tab S6 (128GB, Red)",
           8.5
          ],
          [
           "Surface Pro 6 (256GB, Orange)",
           8.5
          ],
          [
           "Surface Pro 7+ (1TB, Brown)",
           8.5
          ],
          [
           "iPad Pro 11 (2020) (512GB, Red)",
           9.5
          ],
          [
           "MediaPad M6 (1TB, Brown)",
           7.8
          ],
          [
           "IdeaPad Duet Chromebook (512GB, Green)",
           8.5
          ],
          [
           "MatePad Pro 12.6 (1TB, Yellow)",
           8.3
          ],
          [
           "iPad Pro 11 (2020) (256GB, Brown)",
           9.3
          ],
          [
           "MatePad 11 (512GB, Blue)",
           8.4
          ],
          [
           "iPad Air (2019) (512GB, Brown)",
           9.2
          ],
          [
           "iPad (2017) (64GB, White)",
           8.5
          ],
          [
           "Tab P11 Pro (128GB, Brown)",
           8.5
          ],
          [
           "Tab P11 Pro (1TB, Green)",
           8.3
          ],
          [
           "Tab M8 (256GB, Purple)",
           8.2
          ],
          [
           "Surface Pro 7 (256GB, Blue)",
           8.75
          ],
          [
           "iPad Air (2020) (256GB, Red)",
           8.75
          ],
          [
           "Tab M8 (512GB, White)",
           7.85
          ],
          [
           "Galaxy Tab S7 (512GB, Brown)",
           8.5
          ],
          [
           "Tab P12 Pro (1TB, White)",
           8.5
          ],
          [
           "Galaxy Tab S7 FE (256GB, Black)",
           8.6
          ],
          [
           "iPad Air (2020) (256GB, White)",
           9.2
          ],
          [
           "MatePad T10 (64GB, Blue)",
           7.5
          ],
          [
           "IdeaPad Duet 3 (1TB, Orange)",
           8.2
          ],
          [
           "Surface Pro 8 (1TB, Brown)",
           8.85
          ],
          [
           "MatePad T8 (512GB, Red)",
           7.5
          ],
          [
           "Surface Go (256GB, Red)",
           8.5
          ],
          [
           "Surface Go 2 (1TB, Orange)",
           8.5
          ],
          [
           "MatePad T8 (256GB, Green)",
           7.5
          ],
          [
           "iPad Pro 11 (2020) (64GB, Black)",
           9.5
          ],
          [
           "Galaxy Tab S7 (512GB, Yellow)",
           8.8
          ],
          [
           "Yoga Smart Tab (256GB, Brown)",
           8.5
          ],
          [
           "Galaxy Tab S7 FE (64GB, Brown)",
           7.8
          ],
          [
           "Galaxy Tab Active3 (256GB, Red)",
           8.25
          ],
          [
           "iPad Pro 12.9 (2021) (1TB, White)",
           9.55
          ],
          [
           "Surface Go 3 (256GB, Yellow)",
           7.8
          ],
          [
           "ThinkPad X12 Detachable (64GB, Brown)",
           8.75
          ],
          [
           "Surface Pro 7+ (256GB, Blue)",
           8.5
          ],
          [
           "iPad mini (2021) (64GB, Green)",
           9
          ],
          [
           "Galaxy Tab S5e (64GB, Orange)",
           8.5
          ],
          [
           "Galaxy Tab S7 FE (1TB, Orange)",
           8.5
          ],
          [
           "iPad Pro 12.9 (2021) (512GB, Green)",
           9.2
          ],
          [
           "IdeaPad Duet Chromebook (512GB, Brown)",
           8.5
          ],
          [
           "iPad (2020) (1TB, Brown)",
           8.5
          ],
          [
           "Galaxy Tab Active3 (512GB, Orange)",
           8.5
          ],
          [
           "MatePad T8 (256GB, Gray)",
           7.8
          ],
          [
           "Surface Pro 8 (256GB, Red)",
           8.5
          ],
          [
           "IdeaPad Duet Chromebook (128GB, Orange)",
           8.5
          ],
          [
           "Galaxy Tab S8 Ultra (64GB, Yellow)",
           9.2
          ],
          [
           "MediaPad M6 (1TB, White)",
           8
          ],
          [
           "Galaxy Tab A8 (128GB, Gray)",
           8.5
          ],
          [
           "Tab P12 Pro (128GB, Brown)",
           8.5
          ],
          [
           "MatePad T10s (128GB, Gray)",
           7.5
          ],
          [
           "Surface Pro X (128GB, Purple)",
           8.3
          ],
          [
           "IdeaPad Duet 3 (64GB, White)",
           8.25
          ],
          [
           "Surface Go 2 (512GB, Orange)",
           8.25
          ],
          [
           "Tab P11 Pro (512GB, Brown)",
           8.4
          ],
          [
           "iPad (2018) (64GB, Gray)",
           8.5
          ],
          [
           "IdeaPad Duet 3 (1TB, White)",
           8.25
          ],
          [
           "MediaPad T5 (128GB, Orange)",
           8.2
          ],
          [
           "Galaxy Tab Active3 (256GB, Yellow)",
           8.5
          ],
          [
           "Surface Pro 7+ (64GB, Gray)",
           8.5
          ],
          [
           "Surface Book 3 (1TB, Orange)",
           8.75
          ],
          [
           "MatePad T8 (1TB, Black)",
           7.5
          ],
          [
           "Tab P12 Pro (128GB, Blue)",
           8.5
          ],
          [
           "Tab M8 (512GB, Black)",
           7.85
          ],
          [
           "Surface Pro 6 (256GB, Purple)",
           8.5
          ],
          [
           "Tab P11 Pro (512GB, White)",
           8.5
          ],
          [
           "MatePad T10s (1TB, Gray)",
           7.5
          ],
          [
           "Galaxy Tab A7 (128GB, Gray)",
           8.5
          ],
          [
           "MatePad Pro (64GB, Blue)",
           8.2
          ],
          [
           "Tab P11 (256GB, Yellow)",
           8.2
          ],
          [
           "Tab P12 Pro (256GB, Red)",
           8.5
          ],
          [
           "Surface Go (1TB, Black)",
           7.8
          ],
          [
           "Galaxy Tab S4 (128GB, Gray)",
           8.5
          ],
          [
           "Galaxy Tab S8 Ultra (64GB, Purple)",
           8.75
          ],
          [
           "Galaxy Tab S8 Ultra (256GB, Brown)",
           9.2
          ],
          [
           "Tab M8 (1TB, White)",
           7.8
          ],
          [
           "Surface Go 2 (512GB, Yellow)",
           8.2
          ],
          [
           "MediaPad M5 (128GB, Red)",
           8.2
          ],
          [
           "Galaxy Tab S4 (1TB, Purple)",
           8.75
          ],
          [
           "MatePad Pro (128GB, Green)",
           8.2
          ],
          [
           "Surface Pro X (512GB, White)",
           8.5
          ],
          [
           "Tab P11 (64GB, Blue)",
           8.2
          ],
          [
           "Tab M10 FHD Plus (128GB, White)",
           8.3
          ],
          [
           "Surface Pro 6 (1TB, Red)",
           8.5
          ],
          [
           "Surface Go 2 (256GB, Brown)",
           8.5
          ],
          [
           "Galaxy Tab S4 (64GB, Red)",
           8.5
          ],
          [
           "Tab M8 (128GB, Purple)",
           7.5
          ],
          [
           "MatePad Pro 12.6 (1TB, Green)",
           8.5
          ],
          [
           "Tab P11 (128GB, Green)",
           8.5
          ],
          [
           "iPad Pro 11 (2018) (256GB, Brown)",
           9
          ],
          [
           "iPad Air (2019) (128GB, Brown)",
           8.75
          ],
          [
           "MatePad Pro (64GB, Orange)",
           8
          ],
          [
           "Galaxy Tab S8 Ultra (512GB, White)",
           9.25
          ],
          [
           "Galaxy Tab S8 (1TB, Gray)",
           8.7
          ],
          [
           "Galaxy Tab A8 (64GB, Red)",
           8.2
          ],
          [
           "Galaxy Tab S8 (128GB, Brown)",
           8.75
          ],
          [
           "MatePad T10 (64GB, Red)",
           7.85
          ],
          [
           "Surface Go 3 (64GB, Brown)",
           7.8
          ],
          [
           "IdeaPad Duet Chromebook (256GB, Green)",
           8.5
          ],
          [
           "MatePad 11 (1TB, Green)",
           8.5
          ],
          [
           "iPad Air (2020) (512GB, Purple)",
           8.75
          ],
          [
           "MediaPad M5 (64GB, Black)",
           8.25
          ],
          [
           "Yoga Tab 13 (256GB, Gray)",
           8.3
          ],
          [
           "iPad mini (2021) (256GB, Black)",
           8.75
          ],
          [
           "Tab M10 FHD Plus (128GB, Gray)",
           8.2
          ],
          [
           "iPad Air (2022) (256GB, Blue)",
           8.5
          ],
          [
           "iPad (2017) (256GB, Orange)",
           8.5
          ],
          [
           "MatePad 11 (128GB, Green)",
           8.5
          ],
          [
           "Galaxy Tab S5e (128GB, Black)",
           8.5
          ],
          [
           "MatePad T10 (512GB, Purple)",
           7.8
          ],
          [
           "Surface Go 3 (64GB, White)",
           7.8
          ],
          [
           "Surface Pro 7 (64GB, White)",
           8.5
          ],
          [
           "Galaxy Tab Active3 (256GB, White)",
           8.5
          ],
          [
           "iPad mini (2021) (256GB, Orange)",
           8.75
          ],
          [
           "MatePad Paper (512GB, Brown)",
           7.8
          ],
          [
           "MatePad 11 (64GB, Brown)",
           8.2
          ],
          [
           "Galaxy Tab S8 (1TB, Blue)",
           8.7
          ],
          [
           "Surface Pro 6 (128GB, Red)",
           8.5
          ],
          [
           "iPad (2020) (512GB, Brown)",
           8.5
          ],
          [
           "Surface Pro 9 (256GB, Red)",
           8.5
          ],
          [
           "Galaxy Tab Active3 (256GB, Green)",
           8.1
          ],
          [
           "Surface Go 3 (256GB, Green)",
           7.8
          ],
          [
           "Galaxy Tab A8 (128GB, Yellow)",
           8.65
          ],
          [
           "MatePad Paper (64GB, Orange)",
           8.2
          ],
          [
           "MatePad 11 (512GB, Yellow)",
           8.5
          ],
          [
           "Surface Pro 8 (128GB, Green)",
           8.5
          ],
          [
           "Surface Pro 9 (64GB, Yellow)",
           8.5
          ],
          [
           "Galaxy Tab S7 FE (1TB, White)",
           8.3
          ],
          [
           "Surface Pro X (64GB, Gray)",
           8.25
          ],
          [
           "MediaPad M5 (256GB, Black)",
           8.2
          ],
          [
           "Surface Pro 7+ (64GB, Yellow)",
           8.5
          ],
          [
           "iPad (2018) (256GB, Brown)",
           8.5
          ],
          [
           "Galaxy Tab A7 (1TB, Gray)",
           8.2
          ],
          [
           "MatePad Paper (256GB, Yellow)",
           7.8
          ],
          [
           "iPad Air (2020) (512GB, White)",
           9.2
          ],
          [
           "MatePad T10s (256GB, Blue)",
           7.5
          ],
          [
           "MatePad Pro (64GB, Black)",
           8.3
          ],
          [
           "Galaxy Tab S5e (64GB, Yellow)",
           8.5
          ],
          [
           "MatePad T8 (512GB, Blue)",
           7.5
          ],
          [
           "iPad (2018) (128GB, Brown)",
           8.5
          ],
          [
           "iPad (2020) (1TB, Blue)",
           8.75
          ],
          [
           "iPad Pro 11 (2020) (256GB, Red)",
           9.5
          ],
          [
           "iPad (2017) (64GB, Yellow)",
           8.5
          ],
          [
           "ThinkPad X12 Detachable (128GB, White)",
           8.5
          ],
          [
           "Tab M10 FHD Plus (512GB, Green)",
           8.2
          ],
          [
           "IdeaPad Duet 3 (64GB, Yellow)",
           8.5
          ],
          [
           "Yoga Smart Tab (64GB, White)",
           8.5
          ],
          [
           "Tab M10 FHD Plus (1TB, Yellow)",
           8.2
          ],
          [
           "MediaPad M6 (64GB, Purple)",
           7.5
          ],
          [
           "Surface Book 3 (128GB, Brown)",
           8.5
          ],
          [
           "iPad (2017) (128GB, Orange)",
           8.5
          ],
          [
           "Surface Pro 9 (128GB, Brown)",
           8.75
          ],
          [
           "Surface Pro X (512GB, Green)",
           8.75
          ],
          [
           "Galaxy Tab A8 (64GB, White)",
           8.5
          ],
          [
           "Yoga Tab 13 (256GB, White)",
           8.5
          ],
          [
           "Yoga Tab 13 (128GB, Red)",
           8.5
          ],
          [
           "Yoga Smart Tab (512GB, Orange)",
           8.25
          ],
          [
           "Galaxy Tab S8 (64GB, Gray)",
           8.75
          ],
          [
           "Tab P11 Pro (1TB, Black)",
           8.5
          ],
          [
           "Surface Book 3 (64GB, Brown)",
           8.5
          ],
          [
           "iPad (2020) (512GB, Gray)",
           8.5
          ],
          [
           "MediaPad M5 (64GB, Brown)",
           8.25
          ],
          [
           "Galaxy Tab A7 (128GB, Orange)",
           8.3
          ],
          [
           "Surface Pro 7 (512GB, Gray)",
           8.65
          ],
          [
           "Galaxy Tab S8 Ultra (128GB, Green)",
           8.75
          ],
          [
           "iPad Air (2022) (64GB, Green)",
           9.3
          ],
          [
           "Tab P11 (64GB, Black)",
           8.25
          ],
          [
           "Surface Go (256GB, White)",
           7.8
          ],
          [
           "Galaxy Tab S5e (1TB, Black)",
           8.5
          ],
          [
           "Surface Pro X (256GB, Orange)",
           8.5
          ],
          [
           "Galaxy Tab S6 (128GB, Blue)",
           8.75
          ],
          [
           "MatePad Paper (128GB, Green)",
           8.3
          ],
          [
           "MatePad Pro 12.6 (128GB, Yellow)",
           8.5
          ],
          [
           "MediaPad M6 (128GB, Black)",
           8.4
          ],
          [
           "MatePad T10s (64GB, Yellow)",
           7.5
          ],
          [
           "ThinkPad X12 Detachable (256GB, White)",
           8.5
          ],
          [
           "MatePad T10 (512GB, Yellow)",
           7.5
          ],
          [
           "iPad Air (2022) (256GB, Red)",
           9.3
          ],
          [
           "Surface Pro 6 (512GB, Red)",
           8.5
          ],
          [
           "Surface Go (512GB, Orange)",
           8.2
          ],
          [
           "Yoga Tab 13 (64GB, Gray)",
           8.5
          ],
          [
           "ThinkPad X12 Detachable (128GB, Brown)",
           8.5
          ],
          [
           "iPad (2017) (1TB, Brown)",
           8.75
          ],
          [
           "iPad Air (2022) (128GB, Yellow)",
           9.2
          ],
          [
           "MediaPad T5 (1TB, Blue)",
           7.8
          ],
          [
           "Galaxy Tab S6 (64GB, Red)",
           8.5
          ],
          [
           "Galaxy Tab A7 (512GB, White)",
           8.5
          ],
          [
           "IdeaPad Duet Chromebook (256GB, Red)",
           8.5
          ],
          [
           "MediaPad M5 (512GB, Green)",
           8
          ],
          [
           "MatePad T10s (64GB, Yellow)",
           7.5
          ],
          [
           "Galaxy Tab S7 (1TB, White)",
           8.5
          ],
          [
           "iPad Pro 11 (2018) (512GB, Orange)",
           8.5
          ],
          [
           "Galaxy Tab A8 (512GB, Green)",
           7.8
          ],
          [
           "iPad Air (2019) (128GB, Purple)",
           8.75
          ],
          [
           "Surface Pro 8 (64GB, Purple)",
           8.75
          ],
          [
           "Galaxy Tab S5e (256GB, Brown)",
           8.5
          ],
          [
           "Galaxy Tab S6 (64GB, Green)",
           8.5
          ]
         ],
         "hovertemplate": "category=Tablets<br>price=%{x}<br>quantity_sold=%{y}<br>revenue=%{marker.size}<br>product_name=%{customdata[0]}<br>rating=%{customdata[1]}<extra></extra>",
         "legendgroup": "Tablets",
         "marker": {
          "color": "#636efa",
          "size": {
           "bdata": "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",
           "dtype": "f8"
          },
          "sizemode": "area",
          "sizeref": 9670.1,
          "symbol": "circle"
         },
         "mode": "markers",
         "name": "Tablets",
         "showlegend": true,
         "type": "scattergl",
         "x": {
          "bdata": "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",
          "dtype": "f8"
         },
         "xaxis": "x",
         "y": {
          "bdata": "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",
          "dtype": "f8"
         },
         "yaxis": "y"
        },
        {
         "customdata": [
          [
           "K55 RGB (Red)",
           8.5
          ],
          [
           "Natural Ergonomic Keyboard 4000 (Green)",
           8.2
          ],
          [
           "BlackWidow Elite (Blue)",
           8.75
          ],
          [
           "All-in-One Media Keyboard (Gray)",
           8.2
          ],
          [
           "K400 Plus (Blue)",
           8.5
          ],
          [
           "K68 RGB (Black)",
           8.75
          ],
          [
           "G Pro Mechanical (Red)",
           8.75
          ],
          [
           "Apex 100 (Brown)",
           7.85
          ],
          [
           "Strafe RGB MK.2 (Yellow)",
           8.7
          ],
          [
           "Pro Type Ultra (Red)",
           8.75
          ],
          [
           "Strafe RGB MK.2 (White)",
           8.75
          ],
          [
           "K60 RGB Pro (Yellow)",
           8.5
          ],
          [
           "K70 Pro Mini Wireless (Orange)",
           8.75
          ],
          [
           "G613 Wireless (Brown)",
           8.75
          ],
          [
           "Modern Keyboard with Fingerprint ID (Red)",
           8.5
          ],
          [
           "Modern Keyboard with Fingerprint ID (Purple)",
           8.5
          ],
          [
           "Cynosa Chroma (Green)",
           8.5
          ],
          [
           "Digital Media Keyboard 3000 (Red)",
           8.5
          ],
          [
           "Apex 3 (Brown)",
           8.75
          ],
          [
           "Pro Type Ultra (Brown)",
           8.75
          ],
          [
           "Huntsman Mini (Yellow)",
           8.5
          ],
          [
           "K100 RGB (Blue)",
           9.2
          ],
          [
           "K400 Plus (Brown)",
           8.5
          ],
          [
           "K95 RGB Platinum (Red)",
           9.2
          ],
          [
           "Wireless Keyboard 900 (Yellow)",
           8.75
          ],
          [
           "K95 RGB Platinum (Black)",
           9.2
          ],
          [
           "K55 RGB (Yellow)",
           8.25
          ],
          [
           "G613 Wireless (Yellow)",
           8.5
          ],
          [
           "G810 Orion Spectrum (Yellow)",
           8.75
          ],
          [
           "K60 RGB Pro (Gray)",
           8.75
          ],
          [
           "Apex 5 (Red)",
           8.75
          ],
          [
           "K380 (Black)",
           8.75
          ],
          [
           "Apex 350 (Black)",
           8.75
          ],
          [
           "Sculpt Ergonomic Keyboard (Gray)",
           8.75
          ],
          [
           "G810 Orion Spectrum (Purple)",
           8.5
          ],
          [
           "Huntsman Tournament Edition (Red)",
           8.75
          ],
          [
           "K70 RGB MK.2 (Black)",
           8.75
          ],
          [
           "Huntsman V2 Analog (Yellow)",
           8.75
          ],
          [
           "K380 (Green)",
           8.75
          ],
          [
           "K68 RGB (Green)",
           8.75
          ],
          [
           "Apex 7 (White)",
           9.2
          ],
          [
           "Apex 350 (Gray)",
           8.5
          ],
          [
           "K68 RGB (Blue)",
           8.75
          ],
          [
           "Apex 5 (Gray)",
           8.75
          ],
          [
           "Cynosa Chroma (Black)",
           8.45
          ],
          [
           "K400 Plus (Orange)",
           8.5
          ],
          [
           "K70 RGB MK.2 (Orange)",
           8.75
          ],
          [
           "K65 RGB Mini (Green)",
           8.5
          ],
          [
           "Apex Raw (Blue)",
           8.75
          ],
          [
           "G Pro Mechanical (Gray)",
           8.75
          ],
          [
           "K380 (Brown)",
           8.75
          ],
          [
           "G512 Carbon (Orange)",
           8.75
          ],
          [
           "Designer Compact Keyboard (Green)",
           8.75
          ],
          [
           "Apex Pro (Green)",
           9
          ],
          [
           "Wired Keyboard 600 (Blue)",
           8.5
          ],
          [
           "Apex 7 (Green)",
           9.2
          ],
          [
           "G213 Prodigy (Gray)",
           8.75
          ],
          [
           "Ornata Chroma (Black)",
           8.75
          ],
          [
           "K70 RGB MK.2 (Purple)",
           9.25
          ],
          [
           "Natural Ergonomic Keyboard 4000 (Gray)",
           8.5
          ],
          [
           "Bluetooth Keyboard (Brown)",
           8.75
          ],
          [
           "K70 Pro Mini Wireless (Gray)",
           8.75
          ],
          [
           "Surface Keyboard (Brown)",
           8.5
          ],
          [
           "G512 Carbon (Red)",
           8.75
          ],
          [
           "K400 Plus (Green)",
           8.5
          ],
          [
           "Wired Keyboard 600 (Gray)",
           8.5
          ],
          [
           "BlackWidow Lite (Orange)",
           8.6
          ],
          [
           "BlackWidow Elite (Red)",
           8.75
          ],
          [
           "Apex Raw (Gray)",
           8.65
          ],
          [
           "Apex 3 (White)",
           8.75
          ],
          [
           "Huntsman Mini (Blue)",
           8.5
          ],
          [
           "Apex Raw (Green)",
           8.75
          ],
          [
           "BlackWidow V3 (Blue)",
           8.75
          ],
          [
           "K63 Wireless (Orange)",
           8.5
          ],
          [
           "Apex Pro Mini (Gray)",
           9.25
          ],
          [
           "Bluetooth Keyboard (Gray)",
           8.45
          ],
          [
           "Huntsman Mini (Red)",
           8.75
          ],
          [
           "MX Keys (Red)",
           9.2
          ],
          [
           "G613 Wireless (Purple)",
           8.62
          ],
          [
           "Apex M750 (Purple)",
           8.5
          ],
          [
           "Apex M750 (Red)",
           8.5
          ],
          [
           "All-in-One Media Keyboard (Yellow)",
           8.75
          ],
          [
           "K95 RGB Platinum (Gray)",
           8.75
          ],
          [
           "G512 Carbon (Yellow)",
           8.75
          ],
          [
           "Wireless Keyboard 900 (Blue)",
           8.75
          ],
          [
           "Sculpt Ergonomic Keyboard (Red)",
           8.5
          ],
          [
           "Pro Type Ultra (Orange)",
           8.75
          ],
          [
           "Huntsman Mini (Black)",
           8.65
          ],
          [
           "G915 Lightspeed (Brown)",
           9.2
          ],
          [
           "BlackWidow Elite (Brown)",
           8.75
          ],
          [
           "Craft (Gray)",
           8.75
          ],
          [
           "Apex 3 (Yellow)",
           8.75
          ],
          [
           "Apex Pro (Blue)",
           9.2
          ],
          [
           "Apex 7 (Black)",
           9.25
          ],
          [
           "Apex M750 (Yellow)",
           8.75
          ],
          [
           "Surface Keyboard (Purple)",
           8.75
          ],
          [
           "Apex 100 (Blue)",
           7.85
          ],
          [
           "Huntsman Tournament Edition (Purple)",
           8.75
          ],
          [
           "Ornata Chroma (Green)",
           8.3
          ],
          [
           "DeathStalker V2 (Gray)",
           8.5
          ],
          [
           "K63 Wireless (Gray)",
           8.45
          ],
          [
           "Cynosa Chroma (Orange)",
           8.75
          ],
          [
           "K100 RGB (Gray)",
           8.75
          ],
          [
           "Wireless Keyboard 900 (Brown)",
           8.25
          ],
          [
           "K100 RGB (Brown)",
           8.75
          ],
          [
           "G213 Prodigy (Black)",
           8.5
          ],
          [
           "Modern Keyboard with Fingerprint ID (Blue)",
           8.5
          ],
          [
           "BlackWidow V3 (Black)",
           8.75
          ],
          [
           "Sculpt Ergonomic Keyboard (Black)",
           8.75
          ],
          [
           "K100 RGB (Red)",
           9.15
          ],
          [
           "Apex M750 (Black)",
           8.7
          ],
          [
           "Pro Type Ultra (Yellow)",
           9.25
          ],
          [
           "Apex 100 (Gray)",
           8.5
          ],
          [
           "G810 Orion Spectrum (Brown)",
           8.75
          ],
          [
           "BlackWidow Elite (Green)",
           8.7
          ],
          [
           "K60 RGB Pro (Purple)",
           8.75
          ],
          [
           "Apex 350 (Orange)",
           8.25
          ],
          [
           "Apex M800 (Yellow)",
           8.75
          ],
          [
           "K65 RGB Mini (Blue)",
           8.75
          ],
          [
           "Strafe RGB MK.2 (Green)",
           8.75
          ],
          [
           "Apex 7 (Purple)",
           9.2
          ],
          [
           "G213 Prodigy (Green)",
           8.5
          ],
          [
           "All-in-One Media Keyboard (Orange)",
           8.75
          ],
          [
           "BlackWidow Lite (Purple)",
           8.5
          ],
          [
           "K70 RGB MK.2 (Green)",
           8.75
          ],
          [
           "Apex M800 (Green)",
           9.25
          ],
          [
           "Digital Media Keyboard 3000 (Gray)",
           8.5
          ],
          [
           "G915 Lightspeed (Red)",
           9.2
          ],
          [
           "Apex M800 (Brown)",
           8.75
          ],
          [
           "Apex Pro Mini (Red)",
           9.2
          ],
          [
           "Apex M800 (Gray)",
           8.75
          ],
          [
           "Surface Keyboard (White)",
           8.75
          ],
          [
           "Craft (Blue)",
           8.75
          ],
          [
           "Apex Pro (Purple)",
           9.25
          ],
          [
           "MX Keys (Gray)",
           8.75
          ],
          [
           "K55 RGB (Purple)",
           8.5
          ],
          [
           "Apex 5 (Black)",
           8.65
          ],
          [
           "Bluetooth Keyboard (White)",
           8.5
          ],
          [
           "Designer Compact Keyboard (Yellow)",
           8.5
          ],
          [
           "G915 Lightspeed (White)",
           9.2
          ],
          [
           "DeathStalker V2 (White)",
           8.3
          ],
          [
           "BlackWidow Lite (Black)",
           8.6
          ],
          [
           "G512 Carbon (White)",
           8.75
          ],
          [
           "K63 Wireless (Green)",
           8.5
          ],
          [
           "G915 Lightspeed (Black)",
           9.2
          ],
          [
           "DeathStalker V2 (Green)",
           8.5
          ],
          [
           "K70 Pro Mini Wireless (Brown)",
           8.75
          ],
          [
           "Strafe RGB MK.2 (Orange)",
           8.75
          ],
          [
           "Apex 100 (White)",
           7.8
          ],
          [
           "K68 RGB (Brown)",
           8.75
          ],
          [
           "Designer Compact Keyboard (Purple)",
           8.4
          ],
          [
           "BlackWidow Lite (Blue)",
           8.5
          ],
          [
           "Apex 3 (Gray)",
           8.75
          ],
          [
           "Craft (Brown)",
           8.75
          ],
          [
           "Apex Pro Mini (Yellow)",
           9.2
          ],
          [
           "K95 RGB Platinum (Orange)",
           8.75
          ],
          [
           "BlackWidow V3 (Purple)",
           8.75
          ],
          [
           "BlackWidow V3 (Red)",
           8.75
          ],
          [
           "Cynosa Chroma (Gray)",
           8.25
          ],
          [
           "Huntsman V2 Analog (Purple)",
           8.75
          ],
          [
           "G Pro Mechanical (White)",
           8.75
          ],
          [
           "Huntsman Tournament Edition (Orange)",
           8.75
          ],
          [
           "Modern Keyboard with Fingerprint ID (Gray)",
           8.5
          ],
          [
           "Pro Type Ultra (Purple)",
           8.7
          ],
          [
           "Huntsman Tournament Edition (Green)",
           8.75
          ],
          [
           "Surface Keyboard (Red)",
           8.45
          ],
          [
           "G613 Wireless (Orange)",
           8.75
          ],
          [
           "Natural Ergonomic Keyboard 4000 (Brown)",
           8.5
          ],
          [
           "Apex Pro Mini (Orange)",
           9.2
          ],
          [
           "K65 RGB Mini (Orange)",
           8.75
          ],
          [
           "BlackWidow Lite (Green)",
           8.75
          ],
          [
           "All-in-One Media Keyboard (Green)",
           8.5
          ],
          [
           "Huntsman Tournament Edition (Green)",
           8.75
          ],
          [
           "MX Keys (Black)",
           9.2
          ],
          [
           "K65 RGB Mini (Red)",
           8.75
          ],
          [
           "G613 Wireless (Red)",
           8.6
          ],
          [
           "K63 Wireless (Black)",
           8.5
          ],
          [
           "Apex M800 (Orange)",
           8.75
          ],
          [
           "MX Keys (Brown)",
           9.25
          ],
          [
           "Designer Compact Keyboard (Black)",
           8.5
          ],
          [
           "Wired Keyboard 600 (Green)",
           8.5
          ],
          [
           "DeathStalker V2 (Purple)",
           8.7
          ],
          [
           "Huntsman V2 Analog (Brown)",
           8.5
          ],
          [
           "Digital Media Keyboard 3000 (White)",
           8.25
          ],
          [
           "G213 Prodigy (Blue)",
           8.4
          ],
          [
           "Huntsman V2 Analog (White)",
           8.65
          ]
         ],
         "hovertemplate": "category=Keyboards<br>price=%{x}<br>quantity_sold=%{y}<br>revenue=%{marker.size}<br>product_name=%{customdata[0]}<br>rating=%{customdata[1]}<extra></extra>",
         "legendgroup": "Keyboards",
         "marker": {
          "color": "#EF553B",
          "size": {
           "bdata": "9ihcj9pD60C5HoXraVTgQIXrUbhK6gBB7FG4Hq2t5EAAAAAAAJzYQAAAAABQ5/1ANDMzM3k3AUGuR+F6dCveQAAAAADA8QFBZmZmZkQoCUGQwvUoSGwBQQAAAACANfNA16NwPbooA0EAAAAAAMf1QOxRuB4tIv1A7FG4HoVf+EAAAAAAOAbuQNejcD1CM+tAH4XrUTT68UApXI/CMeAHQQrXo3CZsPpACtejcCPeCkF7FK5HAV/XQOxRuB5gfhNBZmZmZt746kDhehSu3QAOQbkehespUO9AAAAAAGDm+EApXI/CXXwDQYXrUbiWPvdAj8L1KLQZ/0AfhetRGMLtQB+F61F8xQNBw/UoXAvc/UBSuB6Fx4wBQQAAAADg6fxAUrgehbexAUHXo3A9fL4TQbkehevZ8eFAexSuR0+jBEGPwvUoltYJQQAAAAAArvVA7FG4HpGu+kAAAAAA+L/0QD0K16NIgOxAUrgehTuQ2kAAAAAAAKcHQZqZmZk1mfxAj8L1KDhk+EAL16NwY4gFQexRuB61MORA4XoUrku/8UBxPQrXg6D4QMP1KFwr1AlBAAAAAEBQ1UAAAAAAYFgAQaRwPQov0uRAmZmZmYkQ8kDD9Shcp6MFQR+F61HQC+xAw/UoXCup8kCkcD0KVZYEQTMzMzOfiPhAAAAAAJAd9kBxPQrXW7nkQClcj8KlLdpAexSuR0lN8EDsUbgeTzcDQXsUrkcR9gVB4XoUrpe44UDD9Shcj1f2QAAAAABgcRBBcT0K10VCA0GamZmZLX/4QKRwPQr5RgxBFK5H4bLG4kDXo3A9cvT5QD0K16NyrwBBw/UoXANM/kAAAAAAgOj5QKRwPQqZPwFBexSuR7mR5kDiehSuv6ADQVK4HoXTUPpAUrgehcMF7UD2KFyPWoH/QOF6FK6dAAhBUrgehe9z+kC5HoXrN64TQVyPwvWCSAxBzczMzNrhDkGF61G4huXnQBWuR+E+3xNBcT0K15tzCEFdj8L1ZHIDQY/C9SjkL/5AcT0K1/P730AK16NwDbkGQdejcD1ysehAPQrXo2J9DEHNzMzMLADtQFyPwvWgavRAUrgehW8DEUHhehSuJ53VQDMzMzNs/BRB16NwPYqC7ECF61G4fqT5QI/C9ShImQlBAAAAAMDi8UD2KFyPcEMWQfYoXI8qQAJBSOF6FJRYCkFI4XoUnpjlQMP1KFyHcw1BH4XrUQyZAEEAAAAAgHr0QDMzMzPPNfFAMzMzMxf7D0EehetR9msEQcP1KFyLeQxBH4XrUSSICEGQwvUoOK/xQDMzMzOry+RA16NwPUr1+EAAAAAAAA4FQQAAAACQsAlBAAAAAIC630AK16Nw+3ESQcP1KFwjRQxBUrgehYXZCEEAAAAAQHQOQc3MzMyEtPlAexSuR9G160CF61G47GkJQT0K16Pc6P1AZ2ZmZuJI9EDXo3A9bKkBQWZmZmYuou5A7FG4HklS9kAK16NwqSUTQR+F61GKYRBBUrgehduV9kDXo3A9xpPyQNejcD06LP5AKVyPwslDDkEK16NwppARQQAAAAAg6AVBAAAAAFC2B0G5HoXrqd/kQML1KFwNjgBBcT0K1yM7/kDNzMzMYHfxQEjhehRuqO5AzczMzEQp40A+CtejkoQCQeF6FK6X1Q9BPgrXoyipAkEfhetRbkgIQYXrUbgen/RAMzMzM8kBC0FxPQrXSwr3QClcj8LNqPZAKVyPwpUSBUGamZmZk3YKQXsUrkfxTvxApHA9Chf9/0AAAAAAQM7pQAAAAADAkO1AMzMzM22HD0FwPQrXudQDQXsUrkdVDPNA4noUrmfq6EB7FK5H8U78QNejcD3+wQdBFK5H4cay+UAehetREAoBQQAAAADAHfhAAAAAAMBRBkHNzMzM3ssBQR+F61EIO+5AAAAAAIAs3EAzMzMz4e0MQVyPwvVEBAJBcT0K14uB50B7FK5HWZnxQDMzMzObwg5B",
           "dtype": "f8"
          },
          "sizemode": "area",
          "sizeref": 9670.1,
          "symbol": "circle"
         },
         "mode": "markers",
         "name": "Keyboards",
         "showlegend": true,
         "type": "scattergl",
         "x": {
          "bdata": "H4XrUbj+SEAfhetRuP5IQEjhehSuP2BAH4XrUbj+Q0AAAAAAAAA+QAAAAAAAQFVASOF6FK4/YEAfhetRuP5IQAAAAAAAwGJASOF6FK5/ZkBI4XoUrj9gQAAAAAAAgFFASOF6FK5/ZkAAAAAAAABZQEjhehSuP2BASOF6FK4/YEAfhetRuP5NQB+F61G4/kNAH4XrUbj+SEBI4XoUrv9oQEjhehSuP2BASOF6FK6/bEA9CtejcP09QEjhehSu/2hAH4XrUbj+SEBI4XoUrv9oQB+F61G4/k1AAAAAAACAUUBI4XoUrj9gQI/C9Shcf1ZAj8L1KFz/WEAfhetRuP5DQEjhehSuP2BAj8L1KFz/U0BI4XoUrj9gQAAAAAAAQGBASOF6FK7/Y0BI4XoUrj9vQB+F61G4/kNAj8L1KFz/XUBI4XoUrv9jQAAAAAAAAF5Aj8L1KFz/WECPwvUoXP9YQB+F61G4/k1APQrXo3D9PUAAAAAAAABkQI/C9Shcf1tAj8L1KFz/U0BI4XoUrj9gQB+F61G4/kNAj8L1KFz/WEBI4XoUrj9gQEjhehSu/2hAAAAAAAAAOUAAAAAAAEBgQB+F61G4/khAj8L1KFz/WEBI4XoUrv9jQB+F61G4/khAH4XrUbj+SEBI4XoUrn9mQI/C9Shc/1hAAAAAAADAWEAfhetRuH5BQD0K16Nw/TNAj8L1KFx/VkBI4XoUrj9gQEjhehSuP2BAH4XrUbj+SEBI4XoUrj9gQAAAAAAAAGlASOF6FK5/YUCPwvUoXH9WQEjhehSuf2ZAH4XrUbj+TUCPwvUoXP9dQI/C9Shc/1hAj8L1KFx/VkAAAAAAAIBhQEjhehSuP2BAH4XrUbh+QUBI4XoUrv9oQI/C9Shc/1hAH4XrUbj+SECPwvUoXH9WQEjhehSu/2NAj8L1KFz/XUBI4XoUrr9sQEjhehSuP2VASOF6FK7/aEAfhetRuP5IQEjhehSu/2hASOF6FK7/Y0BI4XoUrn9hQI/C9Shcf1ZAH4XrUbj+Q0BI4XoUrj9gQB+F61G4/k1ASOF6FK7/aECPwvUoXH9WQB+F61G4/k1ASOF6FK6/bEA9CtejcP09QEjhehSuv2xAH4XrUbj+SEBI4XoUrj9gQEjhehSuf2FAAAAAAAAATkBI4XoUrr9sQEjhehSuf2FASOF6FK7/Y0AfhetRuP5DQEjhehSu/2NASOF6FK4/YEAAAAAAAIBWQI/C9Shc/1hASOF6FK7/aECPwvUoXH9bQEjhehSu/2NASOF6FK4/YEAfhetRuP5IQB+F61G4/kNAj8L1KFx/VkAAAAAAAABkQAAAAAAAwGJAAAAAAAAAPkBI4XoUrr9sQEjhehSu/2hASOF6FK5/ZkAAAAAAAIBmQI/C9Shcf1ZAH4XrUbj+TUBI4XoUrv9oQI/C9Shc/11AH4XrUbj+TUCPwvUoXP9YQB+F61G4/khAj8L1KFz/U0BI4XoUrr9sQEjhehSu/2hAj8L1KFx/VkCPwvUoXP9YQI/C9Shc/1hASOF6FK6/bEBI4XoUrv9oQAAAAAAAgGZAAAAAAADAYkAfhetRuP5DQI/C9Shcf1tAj8L1KFx/VkCPwvUoXH9WQB+F61G4/khAH4XrUbj+SEBI4XoUrj9gQEjhehSu/2hASOF6FK5/YUBI4XoUrn9hQB+F61G4/k1ASOF6FK4/b0BI4XoUrj9gQEjhehSuP2BASOF6FK4/YEBI4XoUrv9jQEjhehSuP2BAj8L1KFx/VkAAAAAAAIBRQAAAAAAAAElASOF6FK5/ZkCPwvUoXH9bQI/C9Shcf1ZAH4XrUbj+Q0BI4XoUrj9gQI/C9Shc/11Aj8L1KFx/W0CPwvUoXP9YQAAAAAAAgFtAAAAAAACAYUCPwvUoXP9dQI/C9Shc/1NAAAAAAAAAOUBI4XoUrv9oQEjhehSu/2hAH4XrUbj+SEAfhetRuP5IQEjhehSu/2hA",
          "dtype": "f8"
         },
         "xaxis": "x",
         "y": {
          "bdata": "AAAAAAB0kUAAAAAAAOiEQAAAAAAAqJBAAAAAAACMkEAAAAAAAECKQAAAAAAAhJZAAAAAAAD0kEAAAAAAAFCDQAAAAAAAoI5AAAAAAADkkUAAAAAAACiRQAAAAAAAkJFAAAAAAABAi0AAAAAAAOCLQAAAAAAAsIxAAAAAAAAAiEAAAAAAAASQQAAAAAAAxJVAAAAAAAAEl0AAAAAAAJCOQAAAAAAASIpAAAAAAADojUAAAAAAAPCIQAAAAAAA9JhAAAAAAABEkUAAAAAAADSTQAAAAAAAtJBAAAAAAADElkAAAAAAADCTQAAAAAAAiJBAAAAAAADok0AAAAAAANCXQAAAAAAAeJNAAAAAAADkl0AAAAAAAEiRQAAAAAAAeIxAAAAAAABQjEAAAAAAADiUQAAAAAAAuIxAAAAAAAAElkAAAAAAAKyUQAAAAAAAIIdAAAAAAAAUkUAAAAAAAJCKQAAAAAAAaI5AAAAAAABYjEAAAAAAAOySQAAAAAAApJBAAAAAAACEk0AAAAAAADSVQAAAAAAAKJBAAAAAAAC4hkAAAAAAAECIQAAAAAAAiJBAAAAAAABIi0AAAAAAABiQQAAAAAAAqIpAAAAAAAAgh0AAAAAAAFCRQAAAAAAA9JFAAAAAAADkl0AAAAAAAEiNQAAAAAAAaI9AAAAAAACYjEAAAAAAAPSSQAAAAAAA9JRAAAAAAAAwh0AAAAAAAOySQAAAAAAAoJVAAAAAAACwhkAAAAAAAACGQAAAAAAADJVAAAAAAACckUAAAAAAAGyRQAAAAAAAHJRAAAAAAAAIhEAAAAAAALCLQAAAAAAAXJVAAAAAAACMlUAAAAAAALCHQAAAAAAA/JBAAAAAAACklEAAAAAAACCJQAAAAAAA2JBAAAAAAACUkkAAAAAAAGiWQAAAAAAANJNAAAAAAAA4jEAAAAAAAOiVQAAAAAAATJVAAAAAAADEk0AAAAAAAJiOQAAAAAAAcJlAAAAAAACQk0AAAAAAAMiRQAAAAAAAeJVAAAAAAACYiUAAAAAAAGCWQAAAAAAAWIpAAAAAAAA8kkAAAAAAAKCEQAAAAAAAyJVAAAAAAADwkkAAAAAAABCHQAAAAAAAXJdAAAAAAABAkkAAAAAAAECJQAAAAAAAaJdAAAAAAAAUk0AAAAAAAMiYQAAAAAAAsJBAAAAAAAAUlUAAAAAAAEiRQAAAAAAAkJdAAAAAAABYkEAAAAAAACCNQAAAAAAACIZAAAAAAAB4lEAAAAAAAMSXQAAAAAAAyJZAAAAAAAAomEAAAAAAAKSWQAAAAAAApJBAAAAAAADAkUAAAAAAANiQQAAAAAAA7JVAAAAAAADskEAAAAAAAIiUQAAAAAAAGJJAAAAAAACskUAAAAAAAKiVQAAAAAAASJJAAAAAAACQjUAAAAAAAESQQAAAAAAA6I9AAAAAAACklUAAAAAAAJyWQAAAAAAAnJNAAAAAAADckUAAAAAAAFCVQAAAAAAA+JRAAAAAAAAQkEAAAAAAAMiHQAAAAAAAUJNAAAAAAADYkEAAAAAAAHyWQAAAAAAAKI9AAAAAAAA8lEAAAAAAALSQQAAAAAAARJNAAAAAAACAlUAAAAAAANiIQAAAAAAAoJNAAAAAAACIiEAAAAAAADySQAAAAAAAYJRAAAAAAAAQkUAAAAAAADSWQAAAAAAAAJZAAAAAAACoi0AAAAAAALCGQAAAAAAAUIZAAAAAAADAlEAAAAAAACyVQAAAAAAA4ItAAAAAAADAlkAAAAAAAJiHQAAAAAAA7JJAAAAAAABslkAAAAAAABSXQAAAAAAAGItAAAAAAADwk0AAAAAAAOCLQAAAAAAAWJlAAAAAAADojUAAAAAAANCVQAAAAAAAEIxAAAAAAABolEAAAAAAAPySQAAAAAAAMIhAAAAAAAAIkkAAAAAAAISSQAAAAAAAEIdAAAAAAAAYjkAAAAAAAIiWQAAAAAAAsJNA",
          "dtype": "f8"
         },
         "yaxis": "y"
        },
        {
         "customdata": [
          [
           "Fenix 7 (Purple)",
           9.2
          ],
          [
           "Gear S3 Frontier (Green)",
           8.75
          ],
          [
           "Watch Series 2 (Red)",
           8.75
          ],
          [
           "Forerunner 245 (Red)",
           8.75
          ],
          [
           "Galaxy Watch 5 (White)",
           8.75
          ],
          [
           "G-Shock Rangeman (Brown)",
           8.75
          ],
          [
           "Charge 5 (Blue)",
           8.75
          ],
          [
           "Galaxy Watch 5 (Black)",
           8.75
          ],
          [
           "Gear Fit2 Pro (Green)",
           8.35
          ],
          [
           "G-Shock Rangeman (Green)",
           8.75
          ],
          [
           "Forerunner 245 (Purple)",
           8.75
          ],
          [
           "Venu (Purple)",
           8.75
          ],
          [
           "Baby-G BA110 (Blue)",
           8.75
          ],
          [
           "Sense (Orange)",
           8.75
          ],
          [
           "Approach S62 (Gray)",
           8.75
          ],
          [
           "Galaxy Watch 4 Classic (Blue)",
           8.5
          ],
          [
           "Watch Series 7 (Gray)",
           8.5
          ],
          [
           "Vivoactive 4 (Black)",
           8.6
          ],
          [
           "Galaxy Watch Active (White)",
           8.5
          ],
          [
           "Baby-G BA110 (White)",
           8.5
          ],
          [
           "G-Shock DW5600 (Green)",
           8.75
          ],
          [
           "Watch Series 2 (Purple)",
           8.75
          ],
          [
           "Galaxy Watch Active2 (Yellow)",
           8.75
          ],
          [
           "Vivoactive 4 (Green)",
           8.5
          ],
          [
           "Charge 4 (Purple)",
           8.5
          ],
          [
           "Galaxy Watch 3 (Purple)",
           8.5
          ],
          [
           "Edifice EFR-S107D (Green)",
           8.2
          ],
          [
           "Versa 2 (Green)",
           8.5
          ],
          [
           "MARQ Athlete (Green)",
           8.75
          ],
          [
           "Baby-G BA110 (Orange)",
           8.25
          ],
          [
           "G-Shock GA2100 (Purple)",
           8.75
          ],
          [
           "Forerunner 245 (Blue)",
           8.9
          ],
          [
           "Versa (Black)",
           8.5
          ],
          [
           "Charge 4 (Brown)",
           8.5
          ],
          [
           "Gear Fit2 Pro (Green)",
           8.35
          ],
          [
           "Galaxy Watch 3 (Gray)",
           8.75
          ],
          [
           "Pro Trek PRG-600 (Red)",
           8.75
          ],
          [
           "Edifice EFR-S107D (Yellow)",
           8.3
          ],
          [
           "Instinct (Purple)",
           8.75
          ],
          [
           "Inspire HR (Yellow)",
           8.5
          ],
          [
           "Galaxy Watch Active2 (Red)",
           8.75
          ],
          [
           "Inspire 2 (Black)",
           8.5
          ],
          [
           "Gear Fit2 Pro (Blue)",
           8.5
          ],
          [
           "Ionic (Blue)",
           8.5
          ],
          [
           "Watch Series 3 (Green)",
           8.75
          ],
          [
           "Galaxy Watch (Orange)",
           8.75
          ],
          [
           "Watch SE (Green)",
           8.75
          ],
          [
           "Watch Ultra (Red)",
           8.75
          ],
          [
           "F-91W (Black)",
           8.5
          ],
          [
           "Watch Series 6 (Blue)",
           8.75
          ],
          [
           "Sense (Black)",
           8.75
          ],
          [
           "Luxe (Gray)",
           8.5
          ],
          [
           "Galaxy Fit (Black)",
           8.5
          ],
          [
           "Charge 4 (Black)",
           8.4
          ],
          [
           "Fenix 7 (Orange)",
           9.25
          ],
          [
           "G-Shock GA2100 (White)",
           8.75
          ],
          [
           "G-Shock GA700 (White)",
           7.5
          ],
          [
           "Approach S62 (Purple)",
           9.2
          ],
          [
           "Sense (Red)",
           8.75
          ],
          [
           "Sense (Brown)",
           8.75
          ],
          [
           "Watch Series 7 (Brown)",
           9.2
          ],
          [
           "Watch Series 4 (Black)",
           8.75
          ],
          [
           "G-Shock DW5600 (Gray)",
           8.45
          ],
          [
           "Watch Series 6 (Yellow)",
           8.75
          ],
          [
           "Watch Series 2 (White)",
           8.5
          ],
          [
           "Watch Series 8 (Yellow)",
           8.6
          ],
          [
           "Inspire HR (Blue)",
           8.5
          ],
          [
           "Watch Series 1 (Black)",
           7.8
          ],
          [
           "Versa 2 (Black)",
           8.4
          ],
          [
           "Charge 5 (Red)",
           8.75
          ],
          [
           "Pro Trek PRG-600 (Blue)",
           8.5
          ],
          [
           "Luxe (Blue)",
           8.75
          ],
          [
           "Watch Series 1 (Yellow)",
           7.85
          ],
          [
           "Versa 3 (Yellow)",
           8.5
          ],
          [
           "Galaxy Watch 4 (Brown)",
           8.75
          ],
          [
           "Inspire 2 (Brown)",
           8.5
          ],
          [
           "F-91W (Gray)",
           8.5
          ],
          [
           "Fenix 6 (Yellow)",
           8.75
          ],
          [
           "Forerunner 245 (Orange)",
           8.75
          ],
          [
           "Versa 2 (Gray)",
           8.75
          ],
          [
           "Galaxy Watch 4 Classic (Green)",
           8.7
          ],
          [
           "Galaxy Watch 5 (Blue)",
           8.75
          ],
          [
           "G-Shock GA700 (Orange)",
           8.5
          ],
          [
           "Watch Series 5 (Black)",
           8.7
          ],
          [
           "Galaxy Watch Active (Red)",
           8.75
          ],
          [
           "Watch Series 3 (Red)",
           8.5
          ],
          [
           "Vivoactive 4 (Purple)",
           8.75
          ],
          [
           "Watch Series 5 (White)",
           8.9
          ],
          [
           "Forerunner 945 (Green)",
           8.75
          ],
          [
           "Galaxy Watch 3 (Orange)",
           8.75
          ],
          [
           "Forerunner 945 (Black)",
           9.2
          ],
          [
           "Versa 3 (Black)",
           8.75
          ],
          [
           "Watch Series 8 (Purple)",
           8.75
          ],
          [
           "G-Shock Mudmaster (Orange)",
           8.75
          ],
          [
           "Venu (Orange)",
           8.75
          ],
          [
           "Watch Series 7 (White)",
           9.2
          ],
          [
           "Galaxy Watch (Purple)",
           8.75
          ],
          [
           "Venu 2 (Green)",
           8.75
          ],
          [
           "Gear S3 Frontier (Yellow)",
           8.5
          ],
          [
           "Watch Series 3 (White)",
           8.75
          ],
          [
           "Galaxy Watch 5 (Red)",
           8.75
          ],
          [
           "Versa (Orange)",
           8.5
          ],
          [
           "Galaxy Watch Active2 (White)",
           8.45
          ],
          [
           "Inspire HR (Orange)",
           8.2
          ],
          [
           "MARQ Athlete (Black)",
           8.7
          ],
          [
           "Venu (Blue)",
           8.5
          ],
          [
           "Watch Series 1 (White)",
           8.35
          ],
          [
           "Luxe (Purple)",
           8.75
          ],
          [
           "Pathfinder PAG240 (Brown)",
           8.75
          ],
          [
           "Baby-G BA110 (Gray)",
           8.75
          ],
          [
           "Galaxy Watch 4 Classic (Red)",
           8.7
          ],
          [
           "G-Shock GA700 (Blue)",
           8.5
          ],
          [
           "Gear Fit2 Pro (White)",
           8.5
          ],
          [
           "Pathfinder PAG240 (Purple)",
           8.75
          ],
          [
           "Watch Ultra (Gray)",
           9.2
          ],
          [
           "Watch Series 8 (Brown)",
           8.75
          ],
          [
           "Venu 2 (Red)",
           8.75
          ],
          [
           "Fenix 6 (White)",
           8.75
          ],
          [
           "Venu 2 (Purple)",
           8.5
          ],
          [
           "Watch Series 7 (Yellow)",
           8.75
          ],
          [
           "Inspire HR (Black)",
           8.5
          ],
          [
           "Pathfinder PAG240 (Blue)",
           8.75
          ],
          [
           "Charge 5 (Brown)",
           8.65
          ],
          [
           "Watch Series 6 (Orange)",
           8.75
          ],
          [
           "Watch Ultra (Black)",
           9.2
          ],
          [
           "Luxe (White)",
           8.75
          ],
          [
           "Fenix 6 (Blue)",
           8.75
          ],
          [
           "G-Shock GA700 (Green)",
           8.75
          ],
          [
           "Watch Series 1 (Purple)",
           7.8
          ],
          [
           "Watch Series 4 (Brown)",
           8.75
          ],
          [
           "Galaxy Watch 3 (Red)",
           8.5
          ],
          [
           "Galaxy Watch (Green)",
           8.7
          ],
          [
           "Instinct (Gray)",
           8.75
          ],
          [
           "Forerunner 945 (Orange)",
           8.75
          ],
          [
           "G-Shock Mudmaster (Brown)",
           8.75
          ],
          [
           "Versa 3 (Orange)",
           8.4
          ],
          [
           "G-Shock Rangeman (Red)",
           8.75
          ],
          [
           "Pathfinder PAG240 (Orange)",
           8.75
          ],
          [
           "Baby-G BA110 (Red)",
           8.5
          ],
          [
           "Watch SE (Gray)",
           8.5
          ],
          [
           "Versa (Brown)",
           8.5
          ],
          [
           "Luxe (Yellow)",
           8.7
          ],
          [
           "Fenix 7 (White)",
           9.2
          ],
          [
           "Venu 2 (Brown)",
           8.75
          ],
          [
           "Ionic (Green)",
           7.8
          ],
          [
           "Inspire 2 (Yellow)",
           8.5
          ],
          [
           "MARQ Athlete (White)",
           8.75
          ],
          [
           "Charge 5 (White)",
           8.75
          ],
          [
           "Ionic (Gray)",
           8.5
          ],
          [
           "G-Shock Rangeman (Gray)",
           8.75
          ],
          [
           "G-Shock DW5600 (White)",
           8.5
          ],
          [
           "Versa (White)",
           8.75
          ],
          [
           "Galaxy Watch Active2 (Blue)",
           8.5
          ],
          [
           "Versa 2 (Purple)",
           8.5
          ],
          [
           "Inspire HR (Brown)",
           8.3
          ],
          [
           "Galaxy Watch 4 (Orange)",
           8.75
          ],
          [
           "Edifice EFR-S107D (Brown)",
           8.5
          ],
          [
           "Pro Trek PRG-600 (Gray)",
           8.5
          ],
          [
           "Galaxy Watch 5 (Green)",
           8.5
          ],
          [
           "Galaxy Fit (Purple)",
           8.5
          ],
          [
           "Sense (Purple)",
           8.5
          ],
          [
           "Ionic (Red)",
           8.5
          ],
          [
           "Versa 3 (Red)",
           8.5
          ],
          [
           "Galaxy Watch (Red)",
           8.6
          ],
          [
           "Watch Series 4 (Green)",
           8.75
          ],
          [
           "Watch SE (Black)",
           8.5
          ],
          [
           "G-Shock Rangeman (Purple)",
           8.75
          ],
          [
           "Watch Series 6 (Black)",
           9.25
          ],
          [
           "G-Shock GA2100 (Gray)",
           8.75
          ],
          [
           "F-91W (Red)",
           8.25
          ],
          [
           "Galaxy Watch Active2 (Purple)",
           8.5
          ],
          [
           "G-Shock Mudmaster (Purple)",
           8.75
          ],
          [
           "Instinct (Green)",
           8.5
          ],
          [
           "Venu 2 (Yellow)",
           8.75
          ],
          [
           "Watch Series 3 (Orange)",
           8.5
          ],
          [
           "Galaxy Watch (Yellow)",
           8.75
          ],
          [
           "Galaxy Fit (Blue)",
           8.5
          ],
          [
           "Watch Series 8 (Red)",
           9.2
          ],
          [
           "Watch Series 2 (Blue)",
           8.5
          ],
          [
           "Inspire 2 (Blue)",
           8.5
          ],
          [
           "Watch SE (Orange)",
           8.75
          ],
          [
           "Forerunner 945 (Brown)",
           9.2
          ],
          [
           "MARQ Athlete (Purple)",
           8.5
          ],
          [
           "F-91W (Orange)",
           8.5
          ],
          [
           "Versa (Red)",
           8.75
          ],
          [
           "Venu (Brown)",
           8.75
          ],
          [
           "Galaxy Watch 4 (Purple)",
           8.5
          ],
          [
           "Galaxy Watch Active (Brown)",
           8.5
          ],
          [
           "Approach S62 (Orange)",
           8.75
          ],
          [
           "Watch Series 5 (Purple)",
           8.5
          ],
          [
           "Gear Fit2 Pro (Red)",
           8.5
          ],
          [
           "Galaxy Fit (Yellow)",
           8.2
          ],
          [
           "Pro Trek PRG-600 (Purple)",
           8.45
          ],
          [
           "Galaxy Watch 4 (White)",
           8.75
          ],
          [
           "Watch Series 5 (Gray)",
           8.75
          ],
          [
           "Galaxy Fit (Yellow)",
           8.2
          ],
          [
           "Galaxy Watch 3 (Blue)",
           8.5
          ],
          [
           "Gear S3 Frontier (Brown)",
           8.7
          ],
          [
           "Gear S3 Frontier (Black)",
           8.75
          ],
          [
           "G-Shock GA2100 (Yellow)",
           8.4
          ],
          [
           "Instinct (Brown)",
           8.75
          ],
          [
           "Galaxy Watch Active (Green)",
           8.5
          ],
          [
           "Fenix 6 (Purple)",
           8.75
          ],
          [
           "Fenix 7 (Blue)",
           9.2
          ],
          [
           "Watch SE (Yellow)",
           8.75
          ],
          [
           "Ionic (Orange)",
           8.5
          ],
          [
           "Watch Series 4 (White)",
           8.75
          ],
          [
           "Instinct (Orange)",
           8.75
          ],
          [
           "Versa 3 (Purple)",
           8.5
          ]
         ],
         "hovertemplate": "category=Watches<br>price=%{x}<br>quantity_sold=%{y}<br>revenue=%{marker.size}<br>product_name=%{customdata[0]}<br>rating=%{customdata[1]}<extra></extra>",
         "legendgroup": "Watches",
         "marker": {
          "color": "#00cc96",
          "size": {
           "bdata": "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",
           "dtype": "f8"
          },
          "sizemode": "area",
          "sizeref": 9670.1,
          "symbol": "circle"
         },
         "mode": "markers",
         "name": "Watches",
         "showlegend": true,
         "type": "scattergl",
         "x": {
          "bdata": "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",
          "dtype": "f8"
         },
         "xaxis": "x",
         "y": {
          "bdata": "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",
          "dtype": "f8"
         },
         "yaxis": "y"
        },
        {
         "customdata": [
          [
           "Mate 40 (256GB, Orange)",
           8.5
          ],
          [
           "P30 Pro (64GB, Brown)",
           8.75
          ],
          [
           "Galaxy Note10 (1TB, Black)",
           8.75
          ],
          [
           "8T (64GB, Yellow)",
           8.75
          ],
          [
           "6 (1TB, Black)",
           8.5
          ],
          [
           "Mi 10 (64GB, Orange)",
           8.7
          ],
          [
           "iPhone X (256GB, Orange)",
           8.5
          ],
          [
           "Galaxy Note20 (512GB, Purple)",
           8.75
          ],
          [
           "6T (512GB, Green)",
           8.5
          ],
          [
           "Galaxy Note10 (64GB, Green)",
           8.75
          ],
          [
           "Galaxy Note10 (1TB, Yellow)",
           8.75
          ],
          [
           "8 (1TB, Green)",
           8.5
          ],
          [
           "P20 (256GB, Blue)",
           8.2
          ],
          [
           "Galaxy S10 (512GB, Orange)",
           8.5
          ],
          [
           "Galaxy S22 (1TB, Red)",
           8.75
          ],
          [
           "Mi 11 (1TB, Gray)",
           8.75
          ],
          [
           "8 (1TB, White)",
           8.5
          ],
          [
           "P40 Pro (512GB, Brown)",
           8.5
          ],
          [
           "P20 Pro (64GB, White)",
           8.2
          ],
          [
           "10 Pro (128GB, Green)",
           8.75
          ],
          [
           "7T (128GB, Brown)",
           8.5
          ],
          [
           "Galaxy Z Flip (128GB, Black)",
           8.5
          ],
          [
           "Mate 20 (1TB, Gray)",
           8.5
          ],
          [
           "Galaxy S9 (512GB, Yellow)",
           8.5
          ],
          [
           "5T (256GB, Blue)",
           8.75
          ],
          [
           "iPhone 7 (64GB, Gray)",
           7.5
          ],
          [
           "Mi 10 (256GB, Orange)",
           8.45
          ],
          [
           "iPhone 6 (1TB, White)",
           8.5
          ],
          [
           "iPhone 6 (256GB, Yellow)",
           7.5
          ],
          [
           "iPhone 13 (1TB, Red)",
           9.5
          ],
          [
           "P20 (512GB, Black)",
           8.5
          ],
          [
           "5T (512GB, Red)",
           8.5
          ],
          [
           "Mi 9 (64GB, Green)",
           8.5
          ],
          [
           "P20 Pro (128GB, White)",
           8.2
          ],
          [
           "Mi 10 (1TB, Brown)",
           8.2
          ],
          [
           "P40 (64GB, Orange)",
           8.25
          ],
          [
           "iPhone 12 (64GB, Yellow)",
           8.75
          ],
          [
           "P40 Pro (256GB, Red)",
           8.4
          ],
          [
           "P30 (64GB, Gray)",
           8.1
          ],
          [
           "11T (1TB, Yellow)",
           8.2
          ],
          [
           "Mi 9 (256GB, Red)",
           8.2
          ],
          [
           "Redmi Note 10 (1TB, Green)",
           8.5
          ],
          [
           "7T (512GB, White)",
           8.75
          ],
          [
           "iPhone 7 (256GB, Black)",
           7.85
          ],
          [
           "7T (64GB, Brown)",
           8.75
          ],
          [
           "iPhone 7 (128GB, Blue)",
           8.23
          ],
          [
           "Galaxy S7 (256GB, Brown)",
           7.5
          ],
          [
           "P30 Pro (128GB, Orange)",
           8.5
          ],
          [
           "Mi 11 (128GB, Gray)",
           8.5
          ],
          [
           "5 (512GB, White)",
           8.75
          ],
          [
           "8T (1TB, Gray)",
           8.75
          ],
          [
           "7 Pro (1TB, Green)",
           8.5
          ],
          [
           "Redmi Note 11 (128GB, Purple)",
           8.5
          ],
          [
           "Mate 40 (1TB, Black)",
           8.5
          ],
          [
           "P40 Pro (1TB, Brown)",
           8.4
          ],
          [
           "P20 (512GB, Purple)",
           8.5
          ],
          [
           "iPhone 13 (128GB, White)",
           9.2
          ],
          [
           "iPhone X (512GB, Green)",
           8.75
          ],
          [
           "Galaxy S20 (512GB, Brown)",
           8.75
          ],
          [
           "Galaxy S22 (128GB, Gray)",
           8.75
          ],
          [
           "8 (1TB, Brown)",
           8.75
          ],
          [
           "Galaxy S21 (128GB, Blue)",
           8.75
          ],
          [
           "10 Pro (512GB, Brown)",
           8.75
          ],
          [
           "Redmi Note 9 (1TB, White)",
           8.3
          ],
          [
           "Mi 11 (64GB, Green)",
           8.5
          ],
          [
           "6T (64GB, Gray)",
           8.5
          ],
          [
           "P30 (128GB, Purple)",
           8
          ],
          [
           "iPhone 13 (256GB, White)",
           9.3
          ],
          [
           "12 (256GB, Gray)",
           8.5
          ],
          [
           "Galaxy S21 (256GB, Purple)",
           8.9
          ],
          [
           "Galaxy S21 (128GB, Red)",
           8.75
          ],
          [
           "iPhone 12 (1TB, Blue)",
           9.2
          ],
          [
           "iPhone X (64GB, White)",
           8.75
          ],
          [
           "P30 (512GB, Brown)",
           8.25
          ],
          [
           "7 Pro (256GB, Brown)",
           8.75
          ],
          [
           "Galaxy S22 (128GB, Purple)",
           8.8
          ],
          [
           "iPhone 8 (128GB, Purple)",
           8
          ],
          [
           "Mate 40 (256GB, Brown)",
           8.5
          ],
          [
           "8 (64GB, Gray)",
           7.8
          ],
          [
           "5T (128GB, Brown)",
           8.5
          ],
          [
           "P20 (64GB, Green)",
           7.8
          ],
          [
           "Galaxy S9 (1TB, Gray)",
           8.5
          ],
          [
           "P20 Pro (128GB, Orange)",
           7.5
          ],
          [
           "6T (512GB, Red)",
           9
          ],
          [
           "iPhone 8 (64GB, Gray)",
           7.5
          ],
          [
           "Galaxy S7 (128GB, Green)",
           7.25
          ],
          [
           "11T (1TB, White)",
           8.5
          ],
          [
           "Poco F3 (256GB, Green)",
           8.5
          ],
          [
           "Galaxy Note10 (1TB, Brown)",
           9
          ],
          [
           "iPhone X (128GB, Purple)",
           8.75
          ],
          [
           "8T (128GB, Blue)",
           8.7
          ],
          [
           "iPhone 6S (512GB, Brown)",
           6.5
          ],
          [
           "6 (512GB, Black)",
           8.75
          ],
          [
           "8T (128GB, Black)",
           8.5
          ],
          [
           "Mate 20 (256GB, Green)",
           7.8
          ],
          [
           "Galaxy S8 (128GB, Gray)",
           7.9
          ],
          [
           "5 (512GB, Green)",
           8.75
          ],
          [
           "Redmi Note 10 (64GB, Blue)",
           8.7
          ],
          [
           "12 (1TB, Black)",
           8.5
          ],
          [
           "Poco F3 (128GB, Blue)",
           8.5
          ],
          [
           "6 (512GB, Orange)",
           8.5
          ],
          [
           "Mate 30 (512GB, White)",
           7.8
          ],
          [
           "5T (256GB, Orange)",
           8.5
          ],
          [
           "Galaxy S10 (128GB, Purple)",
           8.5
          ],
          [
           "Redmi Note 9 (128GB, Brown)",
           8.2
          ],
          [
           "Galaxy S9 (512GB, White)",
           8.5
          ],
          [
           "P30 Pro (512GB, Green)",
           8.2
          ],
          [
           "Mate 20 (128GB, White)",
           8
          ],
          [
           "Galaxy Note10 (128GB, Purple)",
           8.5
          ],
          [
           "iPhone 13 (512GB, Black)",
           9.15
          ],
          [
           "iPhone 6 (1TB, Blue)",
           7
          ],
          [
           "Galaxy S9 (128GB, Purple)",
           8.5
          ],
          [
           "iPhone 14 (512GB, Blue)",
           9.4
          ],
          [
           "Galaxy Z Flip (128GB, Green)",
           8.5
          ],
          [
           "Galaxy S9 (1TB, Black)",
           8.5
          ],
          [
           "Nova 9 (256GB, Orange)",
           8.2
          ],
          [
           "Galaxy S21 (128GB, Yellow)",
           8.7
          ],
          [
           "iPhone 7 (512GB, Green)",
           7.5
          ],
          [
           "iPhone 14 (64GB, Purple)",
           8.75
          ],
          [
           "Galaxy S8 (1TB, Brown)",
           9.25
          ],
          [
           "Galaxy Z Flip (1TB, Brown)",
           8.75
          ],
          [
           "iPhone 13 (512GB, Gray)",
           9.52
          ],
          [
           "6T (64GB, Purple)",
           8.5
          ],
          [
           "Poco F3 (256GB, Black)",
           8.75
          ],
          [
           "Poco F3 (512GB, White)",
           8.35
          ],
          [
           "11T (128GB, Yellow)",
           8.45
          ],
          [
           "9 (64GB, White)",
           8.75
          ],
          [
           "Mate 40 (64GB, Brown)",
           8.2
          ],
          [
           "P30 (1TB, Green)",
           8.5
          ],
          [
           "Redmi Note 11 (1TB, Brown)",
           8.5
          ],
          [
           "iPhone XR (128GB, Brown)",
           8.5
          ],
          [
           "Redmi Note 10 (64GB, Yellow)",
           8.6
          ],
          [
           "Galaxy Note20 (512GB, Yellow)",
           8.75
          ],
          [
           "7 Pro (256GB, Purple)",
           8.5
          ],
          [
           "Redmi Note 11 (1TB, Gray)",
           8.25
          ],
          [
           "Mi 9 (128GB, Red)",
           8.5
          ],
          [
           "5 (256GB, Brown)",
           8.75
          ],
          [
           "Mi 11 (64GB, Orange)",
           8.6
          ],
          [
           "Mi 8 (256GB, Blue)",
           8.3
          ],
          [
           "P40 (256GB, Green)",
           8.5
          ],
          [
           "P40 (256GB, Purple)",
           8.2
          ],
          [
           "9 (64GB, Yellow)",
           8.2
          ],
          [
           "Redmi Note 9 (256GB, Purple)",
           8.5
          ],
          [
           "Mate 30 (128GB, Brown)",
           7.8
          ],
          [
           "Redmi Note 10 (64GB, Brown)",
           8.5
          ],
          [
           "Mi 10 (1TB, Gray)",
           8.5
          ],
          [
           "Galaxy S8 (64GB, Blue)",
           7.5
          ],
          [
           "P40 Pro (128GB, Black)",
           8.2
          ],
          [
           "iPhone 11 (64GB, Gray)",
           8.75
          ],
          [
           "Mi 10 (64GB, Red)",
           8.25
          ],
          [
           "Galaxy Z Flip (256GB, Blue)",
           8.5
          ],
          [
           "Nova 9 (1TB, Yellow)",
           8.25
          ],
          [
           "Nova 9 (128GB, Blue)",
           8.4
          ],
          [
           "Nova 9 (512GB, Purple)",
           7.8
          ],
          [
           "Mi 8 (256GB, Purple)",
           8.5
          ],
          [
           "iPhone 8 (512GB, Yellow)",
           7.5
          ],
          [
           "Mi 8 (1TB, Gray)",
           8.5
          ],
          [
           "iPhone 14 (1TB, Gray)",
           9
          ],
          [
           "iPhone 8 (128GB, Red)",
           8.5
          ],
          [
           "Galaxy S8 (1TB, Yellow)",
           8.75
          ],
          [
           "P30 Pro (1TB, Yellow)",
           8.5
          ],
          [
           "Mi 8 (256GB, Gray)",
           8.25
          ],
          [
           "Mate 20 (1TB, White)",
           8.34
          ],
          [
           "6 (64GB, Red)",
           8.5
          ],
          [
           "Galaxy S20 (128GB, Gray)",
           8.75
          ],
          [
           "12 (1TB, Gray)",
           8.75
          ],
          [
           "iPhone 6 (256GB, Brown)",
           7.5
          ],
          [
           "Galaxy Note20 (1TB, Yellow)",
           9
          ],
          [
           "7T (1TB, Blue)",
           8.5
          ],
          [
           "P20 Pro (256GB, Gray)",
           8.2
          ],
          [
           "Mi 9 (256GB, Purple)",
           8.5
          ],
          [
           "Mate 30 (1TB, Red)",
           8.25
          ],
          [
           "iPhone 11 (1TB, Yellow)",
           8.5
          ],
          [
           "Galaxy Note20 (512GB, Red)",
           8.75
          ],
          [
           "Galaxy S7 (256GB, White)",
           8
          ],
          [
           "Mate 30 (64GB, Gray)",
           8.25
          ],
          [
           "Mi 9 (64GB, Gray)",
           8.5
          ],
          [
           "5 (128GB, Yellow)",
           8.7
          ],
          [
           "11T (512GB, Black)",
           8.5
          ],
          [
           "iPhone 12 (256GB, Silver)",
           8.75
          ],
          [
           "iPhone 11 (512GB, Green)",
           8.7
          ],
          [
           "Galaxy Note20 (128GB, Purple)",
           8.5
          ],
          [
           "P40 (1TB, Blue)",
           8.75
          ],
          [
           "9 (64GB, Brown)",
           8.2
          ],
          [
           "P20 (128GB, Purple)",
           8
          ],
          [
           "6 (512GB, White)",
           8.75
          ],
          [
           "Mate 30 (1TB, White)",
           8.25
          ],
          [
           "8 (512GB, Brown)",
           8.75
          ],
          [
           "P30 Pro (1TB, Green)",
           8.5
          ],
          [
           "P20 (128GB, Purple)",
           8
          ],
          [
           "10 Pro (1TB, White)",
           8.5
          ],
          [
           "iPhone XR (512GB, Purple)",
           8.5
          ],
          [
           "iPhone 8 (512GB, Red)",
           7.5
          ],
          [
           "iPhone 12 (512GB, White)",
           8.3
          ],
          [
           "Mi 11 (1TB, Orange)",
           8.5
          ],
          [
           "Galaxy S20 (256GB, Black)",
           8.75
          ],
          [
           "iPhone 6S (256GB, Orange)",
           7.5
          ],
          [
           "12 (1TB, Blue)",
           8.25
          ],
          [
           "Galaxy S8 (64GB, Gray)",
           8
          ],
          [
           "12 (1TB, Purple)",
           8.5
          ],
          [
           "P20 Pro (1TB, Black)",
           8.35
          ],
          [
           "iPhone 14 (1TB, Orange)",
           9
          ],
          [
           "iPhone 14 (64GB, Orange)",
           8.9
          ],
          [
           "5T (1TB, Blue)",
           8.75
          ],
          [
           "iPhone XR (64GB, Green)",
           8.75
          ],
          [
           "Nova 9 (64GB, Yellow)",
           7.8
          ],
          [
           "iPhone X (64GB, Purple)",
           8.5
          ],
          [
           "iPhone XR (64GB, Yellow)",
           8.7
          ],
          [
           "6T (64GB, Blue)",
           8.5
          ],
          [
           "Mate 40 (128GB, Purple)",
           8.5
          ],
          [
           "9 (256GB, Purple)",
           8.5
          ],
          [
           "iPhone 6 (1TB, Gray)",
           8
          ],
          [
           "5 (256GB, Green)",
           8.5
          ],
          [
           "Mate 20 (128GB, Brown)",
           8.2
          ],
          [
           "Galaxy S22 (256GB, Yellow)",
           8.9
          ],
          [
           "iPhone 12 (512GB, Blue)",
           8.75
          ],
          [
           "Mi 8 (512GB, Black)",
           8.2
          ],
          [
           "P40 (512GB, Black)",
           8.5
          ],
          [
           "7 Pro (128GB, White)",
           8.5
          ],
          [
           "7T (64GB, Yellow)",
           8.75
          ],
          [
           "Galaxy S10 (64GB, Yellow)",
           8.5
          ],
          [
           "11T (1TB, Gray)",
           8.5
          ],
          [
           "Galaxy S21 (512GB, Gray)",
           8.75
          ],
          [
           "iPhone XR (128GB, Gray)",
           8.75
          ],
          [
           "iPhone 6S (128GB, Green)",
           7.5
          ],
          [
           "Redmi Note 10 (128GB, Gray)",
           8.75
          ],
          [
           "P40 Pro (64GB, Purple)",
           8.5
          ],
          [
           "Galaxy S7 (256GB, Green)",
           7.85
          ],
          [
           "10 Pro (256GB, Brown)",
           8.5
          ],
          [
           "Galaxy S7 (128GB, Blue)",
           7.5
          ],
          [
           "7 Pro (256GB, Blue)",
           8.75
          ],
          [
           "Redmi Note 9 (64GB, Purple)",
           8.5
          ],
          [
           "iPhone 11 (64GB, Purple)",
           8.75
          ]
         ],
         "hovertemplate": "category=Smartphones<br>price=%{x}<br>quantity_sold=%{y}<br>revenue=%{marker.size}<br>product_name=%{customdata[0]}<br>rating=%{customdata[1]}<extra></extra>",
         "legendgroup": "Smartphones",
         "marker": {
          "color": "#ab63fa",
          "size": {
           "bdata": "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",
           "dtype": "f8"
          },
          "sizemode": "area",
          "sizeref": 9670.1,
          "symbol": "circle"
         },
         "mode": "markers",
         "name": "Smartphones",
         "showlegend": true,
         "type": "scattergl",
         "x": {
          "bdata": "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",
          "dtype": "f8"
         },
         "xaxis": "x",
         "y": {
          "bdata": "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",
          "dtype": "f8"
         },
         "yaxis": "y"
        },
        {
         "customdata": [
          [
           "Rival 600 (Red)",
           9.25
          ],
          [
           "Sculpt Comfort Mouse (White)",
           8.5
          ],
          [
           "Rival 3 (Blue)",
           8.75
          ],
          [
           "Lancehead TE (Green)",
           8.75
          ],
          [
           "G502 HERO (Red)",
           9.25
          ],
          [
           "M720 Triathlon (Purple)",
           8.75
          ],
          [
           "Arc Mouse (Green)",
           8.5
          ],
          [
           "USB Mouse (Black)",
           8.75
          ],
          [
           "Mamba Elite (Purple)",
           8.75
          ],
          [
           "Prime Wireless (Brown)",
           8.75
          ],
          [
           "Pro IntelliMouse (Gray)",
           8.75
          ],
          [
           "DeathAdder Essential (Purple)",
           8.5
          ],
          [
           "Pro IntelliMouse (Brown)",
           8.5
          ],
          [
           "Sensei Ten (Blue)",
           8.75
          ],
          [
           "Lancehead TE (Blue)",
           8.5
          ],
          [
           "Wireless Mobile Mouse 1850 (White)",
           8.5
          ],
          [
           "Magic Trackpad (Green)",
           9.2
          ],
          [
           "MX Master 2S (White)",
           9.25
          ],
          [
           "Sensei 310 (Green)",
           8.75
          ],
          [
           "Atheris (Orange)",
           8.75
          ],
          [
           "Magic Trackpad (2021) (Purple)",
           8.7
          ],
          [
           "Rival 600 (Green)",
           9.25
          ],
          [
           "Magic Mouse (Black)",
           8.5
          ],
          [
           "MX Anywhere 2S (Blue)",
           8.5
          ],
          [
           "Magic Mouse (Late 2022) (Black)",
           8.75
          ],
          [
           "Basilisk V3 (Purple)",
           8.75
          ],
          [
           "G903 Lightspeed (Blue)",
           9.2
          ],
          [
           "Marathon M705 (Black)",
           9
          ],
          [
           "G903 Lightspeed (Brown)",
           9.1
          ],
          [
           "Magic Trackpad (White)",
           9.3
          ],
          [
           "Magic Trackpad (Late 2022) (White)",
           8.75
          ],
          [
           "Sensei 310 (Purple)",
           8.75
          ],
          [
           "Magic Mouse 2 (Yellow)",
           8.5
          ],
          [
           "Rival 710 (Black)",
           8.75
          ],
          [
           "Classic IntelliMouse (Red)",
           8.5
          ],
          [
           "Marathon M705 (Orange)",
           8.75
          ],
          [
           "Rival 5 (White)",
           8.9
          ],
          [
           "Orochi V2 (Orange)",
           8.75
          ],
          [
           "Precision Mouse (Black)",
           8.75
          ],
          [
           "MX Anywhere 2S (Gray)",
           8.75
          ],
          [
           "MX Anywhere 2S (Purple)",
           8.5
          ],
          [
           "M330 Silent Plus (Gray)",
           8.75
          ],
          [
           "MX Master 3 (Orange)",
           9.3
          ],
          [
           "Rival 110 (Gray)",
           8.75
          ],
          [
           "Prime Wireless (White)",
           8.75
          ],
          [
           "Naga Trinity (Yellow)",
           8.5
          ],
          [
           "Viper Mini (Black)",
           8.7
          ],
          [
           "Magic Mouse 2 (Orange)",
           8.5
          ],
          [
           "Wireless Mouse 900 (White)",
           8.5
          ],
          [
           "Magic Trackpad (2021) (White)",
           8.75
          ],
          [
           "Arc Mouse (Purple)",
           8.45
          ],
          [
           "DeathAdder V2 (Purple)",
           8.75
          ],
          [
           "Wireless Mobile Mouse 4000 (Brown)",
           8.2
          ],
          [
           "MX Master 2S (Purple)",
           8.75
          ],
          [
           "Surface Mobile Mouse (Orange)",
           8.5
          ],
          [
           "Aerox 5 Wireless (Yellow)",
           8.75
          ],
          [
           "Magic Mouse 2 (Brown)",
           8.5
          ],
          [
           "Surface Mobile Mouse (Blue)",
           8.2
          ],
          [
           "Sculpt Comfort Mouse (Black)",
           8.5
          ],
          [
           "Aerox 5 Wireless (Green)",
           8.75
          ],
          [
           "Mamba Elite (Brown)",
           8.75
          ],
          [
           "G Pro Wireless (White)",
           9.25
          ],
          [
           "G502 HERO (Gray)",
           9.25
          ],
          [
           "Wireless Mouse 900 (Red)",
           8.5
          ],
          [
           "Basilisk V3 (White)",
           8.75
          ],
          [
           "MX Master 3 (Blue)",
           9.2
          ],
          [
           "USB Mouse (Yellow)",
           8.3
          ],
          [
           "Aerox 5 Wireless (Gray)",
           8.75
          ],
          [
           "Lancehead TE (Yellow)",
           8.75
          ],
          [
           "Magic Mouse (Late 2022) (Red)",
           8.5
          ],
          [
           "MX Master (Black)",
           9.25
          ],
          [
           "DeathAdder Essential (Gray)",
           8.5
          ],
          [
           "G903 Lightspeed (Green)",
           9.2
          ],
          [
           "MX Master 3 (Gray)",
           9.2
          ],
          [
           "USB Mouse (Brown)",
           8.5
          ],
          [
           "Mamba Elite (White)",
           8.75
          ],
          [
           "Pro Mouse (Blue)",
           8.75
          ],
          [
           "Viper Mini (Orange)",
           8.75
          ],
          [
           "G Pro Wireless (Blue)",
           9.2
          ],
          [
           "DeathAdder V2 (Black)",
           8.75
          ],
          [
           "Rival 3 (Brown)",
           8.75
          ],
          [
           "Bluetooth Mouse (Yellow)",
           8.5
          ],
          [
           "Rival 5 (Red)",
           8.75
          ],
          [
           "Rival 5 (Purple)",
           8.75
          ],
          [
           "Atheris (Green)",
           8.5
          ],
          [
           "Magic Trackpad 2 (Black)",
           8.75
          ],
          [
           "Rival 110 (Orange)",
           8.5
          ],
          [
           "Basilisk V3 (Blue)",
           9.2
          ],
          [
           "Lancehead TE (Red)",
           8.75
          ],
          [
           "Rival 5 (Gray)",
           8.75
          ],
          [
           "Wireless Mobile Mouse 4000 (Black)",
           8.5
          ],
          [
           "Orochi V2 (Yellow)",
           8.75
          ],
          [
           "Aerox 3 Wireless (Blue)",
           8.65
          ],
          [
           "M720 Triathlon (Blue)",
           8.7
          ],
          [
           "Magic Trackpad (Late 2022) (Black)",
           8.75
          ],
          [
           "Magic Mouse (Green)",
           8.75
          ],
          [
           "Bluetooth Mouse (Blue)",
           8.7
          ],
          [
           "MX Anywhere 2S (Yellow)",
           8.75
          ],
          [
           "Wireless Mobile Mouse 4000 (White)",
           8.2
          ],
          [
           "Sensei 310 (Brown)",
           9.1
          ],
          [
           "Magic Trackpad (Late 2022) (Red)",
           8.75
          ],
          [
           "DeathAdder V2 (Gray)",
           8.75
          ],
          [
           "G Pro Wireless (Green)",
           8.75
          ],
          [
           "Viper Mini (Green)",
           8.75
          ],
          [
           "Magic Mouse (Orange)",
           8.5
          ],
          [
           "Lancehead TE (Purple)",
           8.75
          ],
          [
           "Viper Ultimate (Black)",
           9.25
          ],
          [
           "Bluetooth Mouse (Orange)",
           8.5
          ],
          [
           "Naga Trinity (White)",
           8.75
          ],
          [
           "Pro Mouse (Brown)",
           8.75
          ],
          [
           "Prime Wireless (Orange)",
           8.75
          ],
          [
           "M720 Triathlon (Black)",
           8.75
          ],
          [
           "Sensei Ten (Black)",
           9.2
          ],
          [
           "Magic Trackpad 2 (Green)",
           9
          ],
          [
           "Bluetooth Mouse (Green)",
           8.5
          ],
          [
           "Aerox 3 Wireless (Black)",
           8.75
          ],
          [
           "Rival 3 (Yellow)",
           8.75
          ],
          [
           "Naga Trinity (Brown)",
           8.75
          ],
          [
           "Magic Mouse (Blue)",
           8.5
          ],
          [
           "Magic Trackpad (Late 2022) (Blue)",
           8.75
          ],
          [
           "Magic Trackpad 2 (Brown)",
           8.75
          ],
          [
           "Magic Trackpad 2 (Yellow)",
           8.5
          ],
          [
           "MX Master 3 (White)",
           9.25
          ],
          [
           "Mighty Mouse (Green)",
           8.5
          ],
          [
           "Viper Ultimate (Purple)",
           8.75
          ],
          [
           "Precision Mouse (Yellow)",
           8.75
          ],
          [
           "Rival 710 (Gray)",
           8.75
          ],
          [
           "Magic Trackpad (2021) (Red)",
           8.75
          ],
          [
           "Magic Trackpad (Brown)",
           8.75
          ],
          [
           "MX Master 2S (Green)",
           9.3
          ],
          [
           "Sensei Ten (Purple)",
           8.75
          ],
          [
           "Sensei Ten (Red)",
           9.25
          ],
          [
           "Orochi V2 (White)",
           8.6
          ],
          [
           "Pro IntelliMouse (Black)",
           8.75
          ],
          [
           "Magic Mouse (Gray)",
           8.6
          ],
          [
           "Rival 710 (Blue)",
           8.5
          ],
          [
           "DeathAdder Essential (Blue)",
           8.5
          ],
          [
           "Magic Trackpad 2 (Red)",
           8.75
          ],
          [
           "Rival 5 (Orange)",
           9.25
          ],
          [
           "Precision Mouse (Purple)",
           8.75
          ],
          [
           "Arc Mouse (Orange)",
           8.45
          ],
          [
           "Pro IntelliMouse (Blue)",
           8.5
          ],
          [
           "Mighty Mouse (Orange)",
           8.5
          ],
          [
           "G502 HERO (Yellow)",
           9.25
          ],
          [
           "Surface Mobile Mouse (Gray)",
           8.2
          ],
          [
           "Surface Mobile Mouse (Yellow)",
           8.25
          ],
          [
           "Mamba Elite (Yellow)",
           8.75
          ],
          [
           "Marathon M705 (Green)",
           9.25
          ],
          [
           "M720 Triathlon (Red)",
           8.75
          ],
          [
           "Pro Mouse (Red)",
           8.75
          ],
          [
           "MX Master (Green)",
           9.2
          ],
          [
           "Rival 110 (Brown)",
           8.5
          ],
          [
           "Prime Wireless (Green)",
           8.75
          ],
          [
           "G502 HERO (Brown)",
           9.25
          ],
          [
           "Aerox 3 Wireless (Gray)",
           8.75
          ],
          [
           "M720 Triathlon (Yellow)",
           8.75
          ],
          [
           "Rival 600 (Black)",
           8.6
          ],
          [
           "G Pro Wireless (Purple)",
           9.2
          ],
          [
           "Sculpt Comfort Mouse (Green)",
           8.75
          ],
          [
           "Rival 110 (Black)",
           8.3
          ],
          [
           "Basilisk V3 (Red)",
           8.75
          ],
          [
           "Arc Mouse (White)",
           8.5
          ],
          [
           "Viper Ultimate (Orange)",
           8.85
          ],
          [
           "M330 Silent Plus (Black)",
           8.75
          ],
          [
           "Viper Mini (Brown)",
           9
          ],
          [
           "M330 Silent Plus (Red)",
           8.75
          ],
          [
           "Wireless Mobile Mouse 4000 (Red)",
           8.5
          ],
          [
           "Precision Mouse (Brown)",
           8.75
          ],
          [
           "MX Master (Brown)",
           9.2
          ],
          [
           "Magic Trackpad (Black)",
           8.6
          ],
          [
           "Rival 3 (Black)",
           8.75
          ],
          [
           "Magic Mouse 2 (Blue)",
           8.75
          ],
          [
           "Mighty Mouse (White)",
           7.5
          ],
          [
           "Classic IntelliMouse (White)",
           8.5
          ],
          [
           "MX Master (Red)",
           9.5
          ],
          [
           "Sensei 310 (Blue)",
           8.75
          ],
          [
           "Naga Trinity (Orange)",
           8.75
          ],
          [
           "Classic IntelliMouse (Orange)",
           8.5
          ],
          [
           "Magic Mouse (Late 2022) (Blue)",
           8.5
          ],
          [
           "Atheris (Brown)",
           8.3
          ],
          [
           "Basilisk V3 (Orange)",
           9.2
          ],
          [
           "Rival 600 (Orange)",
           9.2
          ],
          [
           "Wireless Mouse 900 (Gray)",
           8.5
          ],
          [
           "Rival 710 (Brown)",
           8.75
          ],
          [
           "Wireless Mobile Mouse 1850 (Gray)",
           8.5
          ],
          [
           "Naga Trinity (Purple)",
           8.5
          ],
          [
           "Atheris (Gray)",
           8.75
          ],
          [
           "DeathAdder Essential (Green)",
           8.5
          ],
          [
           "Wireless Mobile Mouse 1850 (Green)",
           8.5
          ],
          [
           "Aerox 5 Wireless (Red)",
           9
          ],
          [
           "Wireless Mouse 900 (Black)",
           8.45
          ],
          [
           "Prime Wireless (Black)",
           9.2
          ],
          [
           "Viper Ultimate (Blue)",
           9.25
          ],
          [
           "Magic Trackpad (2021) (Orange)",
           8.75
          ],
          [
           "DeathAdder V2 (Yellow)",
           8.75
          ],
          [
           "Rival 3 (Orange)",
           8.75
          ],
          [
           "Prime Wireless (Black)",
           9.2
          ]
         ],
         "hovertemplate": "category=Mice<br>price=%{x}<br>quantity_sold=%{y}<br>revenue=%{marker.size}<br>product_name=%{customdata[0]}<br>rating=%{customdata[1]}<extra></extra>",
         "legendgroup": "Mice",
         "marker": {
          "color": "#FFA15A",
          "size": {
           "bdata": "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",
           "dtype": "f8"
          },
          "sizemode": "area",
          "sizeref": 9670.1,
          "symbol": "circle"
         },
         "mode": "markers",
         "name": "Mice",
         "showlegend": true,
         "type": "scattergl",
         "x": {
          "bdata": "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",
          "dtype": "f8"
         },
         "xaxis": "x",
         "y": {
          "bdata": "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",
          "dtype": "f8"
         },
         "yaxis": "y"
        },
        {
         "customdata": [
          [
           "Technic Bugatti Chiron (42083) (Gray)",
           9.2
          ],
          [
           "Little People School Bus (White)",
           8.75
          ],
          [
           "Laugh & Learn Smart Stages Chair (Gray)",
           8.5
          ],
          [
           "Little People Caring for Animals Farm (Brown)",
           9.3
          ],
          [
           "Tech Deck (Purple)",
           8.75
          ],
          [
           "Paw Patrol Mighty Lookout Tower (White)",
           8.75
          ],
          [
           "Rock-a-Stack (Purple)",
           8.75
          ],
          [
           "Air Hogs Super Soft (Purple)",
           8.45
          ],
          [
           "Operation (Gray)",
           8.75
          ],
          [
           "Rainforest Jumperoo (Green)",
           8.75
          ],
          [
           "Etch A Sketch (Yellow)",
           8.5
          ],
          [
           "Scrabble (Blue)",
           8.75
          ],
          [
           "Monster High Doll (Brown)",
           7.8
          ],
          [
           "Transformers Bumblebee (Blue)",
           8.75
          ],
          [
           "Laugh & Learn Smart Stages Puppy (Brown)",
           8.75
          ],
          [
           "Masters of the Universe He-Man (Red)",
           8.75
          ],
          [
           "WWE Action Figure (Yellow)",
           8.5
          ],
          [
           "Rubik's Cube (White)",
           8.5
          ],
          [
           "Nerf Elite 2.0 (Red)",
           8.75
          ],
          [
           "City Police Station (60141) (Yellow)",
           8.65
          ],
          [
           "Enchantimals Doll (Green)",
           8.25
          ],
          [
           "Transformers Bumblebee (Purple)",
           8.5
          ],
          [
           "Hatchimals CollEGGtibles (Blue)",
           8.2
          ],
          [
           "Cardinal Games Chess (White)",
           8.5
          ],
          [
           "Architecture Statue of Liberty (21042) (Purple)",
           8.75
          ],
          [
           "Pictionary (Brown)",
           8.5
          ],
          [
           "Star Wars Millennium Falcon (75192) (Blue)",
           9.6
          ],
          [
           "Little People Caring for Animals Farm (Blue)",
           9.2
          ],
          [
           "Architecture Statue of Liberty (21042) (White)",
           8.75
          ],
          [
           "Ideas Tree House (21318) (Black)",
           9.5
          ],
          [
           "Rubik's Cube (Gray)",
           7.85
          ],
          [
           "Infant to Toddler Rocker (Yellow)",
           9.2
          ],
          [
           "Transformers Bumblebee (Gray)",
           8.75
          ],
          [
           "Ninjago City (70620) (White)",
           9.2
          ],
          [
           "Operation (White)",
           8.75
          ],
          [
           "Air Hogs Super Soft (Brown)",
           8.5
          ],
          [
           "Barbie Doll (Purple)",
           8.75
          ],
          [
           "Creator Expert Taj Mahal (10256) (Green)",
           9.25
          ],
          [
           "Connect 4 (White)",
           8.75
          ],
          [
           "Tech Deck (Gray)",
           8.75
          ],
          [
           "Etch A Sketch (Black)",
           8.5
          ],
          [
           "Masters of the Universe He-Man (Brown)",
           8.5
          ],
          [
           "Creator Expert Taj Mahal (10256) (Brown)",
           9.5
          ],
          [
           "Twister (White)",
           8.5
          ],
          [
           "Hatchimals CollEGGtibles (Green)",
           8.5
          ],
          [
           "Classic Brick Set (10717) (Purple)",
           9.25
          ],
          [
           "UNO Card Game (Red)",
           8.75
          ],
          [
           "Creator Ford Mustang (10265) (Red)",
           9.45
          ],
          [
           "Paw Patrol Mighty Lookout Tower (Green)",
           8.45
          ],
          [
           "Scrabble (White)",
           8.75
          ],
          [
           "Bakugan Battle Arena (White)",
           8.25
          ],
          [
           "Cardinal Games Chess (Orange)",
           8.5
          ],
          [
           "Little People School Bus (Gray)",
           8.75
          ],
          [
           "Jenga (Yellow)",
           8.5
          ],
          [
           "Creator Expert Taj Mahal (10256) (Black)",
           9.2
          ],
          [
           "Monster High Doll (Red)",
           8.5
          ],
          [
           "Air Hogs Super Soft (Gray)",
           8.25
          ],
          [
           "Harry Potter Hogwarts Castle (71043) (Orange)",
           9.6
          ],
          [
           "City Police Station (60141) (Red)",
           8.75
          ],
          [
           "Monster High Doll (Purple)",
           8.75
          ],
          [
           "Baby Learning Table (Blue)",
           8.75
          ],
          [
           "Battleship (Blue)",
           8.75
          ],
          [
           "Etch A Sketch (Gray)",
           8.5
          ],
          [
           "Battleship (Purple)",
           8.5
          ],
          [
           "Connect 4 (Purple)",
           8.5
          ],
          [
           "Operation (Blue)",
           8.45
          ],
          [
           "Brilliant Basics Corn Popper (Red)",
           8.5
          ],
          [
           "Transformers Bumblebee (Black)",
           8.75
          ],
          [
           "Sorry! (Brown)",
           8.5
          ],
          [
           "Technic Bugatti Chiron (42083) (Green)",
           9.45
          ],
          [
           "Monster Jam RC (Gray)",
           8.5
          ],
          [
           "Rubik's Cube (Brown)",
           8.5
          ],
          [
           "Little People School Bus (Green)",
           9.15
          ],
          [
           "Rubik's Cube (Blue)",
           8.47
          ],
          [
           "Kinetic Sand (Green)",
           8.75
          ],
          [
           "Classic Brick Set (10717) (Orange)",
           9.2
          ],
          [
           "Polly Pocket (Orange)",
           8.75
          ],
          [
           "Jenga (White)",
           8.5
          ],
          [
           "Paw Patrol Mighty Lookout Tower (Black)",
           8.65
          ],
          [
           "Laugh & Learn Smart Stages Puppy (Black)",
           9.2
          ],
          [
           "Twister (Green)",
           8.75
          ],
          [
           "Polly Pocket (Blue)",
           8.75
          ],
          [
           "Sorry! (Red)",
           8.5
          ],
          [
           "Rock-a-Stack (Green)",
           8.75
          ],
          [
           "Etch A Sketch (Brown)",
           8.75
          ],
          [
           "City Police Station (60141) (Blue)",
           8.75
          ],
          [
           "Brilliant Basics Corn Popper (Purple)",
           8.5
          ],
          [
           "Twister (Blue)",
           8.75
          ],
          [
           "Baby's First Blocks (Green)",
           9.2
          ],
          [
           "Twister (Gray)",
           8.25
          ],
          [
           "Hot Wheels 20-Car Pack (Green)",
           9.2
          ],
          [
           "Enchantimals Doll (Black)",
           8.5
          ],
          [
           "Cardinal Games Chess (Brown)",
           8.75
          ],
          [
           "Star Wars Millennium Falcon (75192) (Red)",
           9.5
          ],
          [
           "Monster Jam RC (Green)",
           8.75
          ],
          [
           "Tech Deck (Yellow)",
           8.5
          ],
          [
           "Paw Patrol Mighty Lookout Tower (Purple)",
           8.75
          ],
          [
           "Sorry! (White)",
           8.5
          ],
          [
           "Harry Potter Hogwarts Castle (71043) (Brown)",
           9.75
          ],
          [
           "Kinetic Sand (Yellow)",
           8.75
          ],
          [
           "Brilliant Basics Corn Popper (Blue)",
           8.45
          ],
          [
           "Creator Ford Mustang (10265) (Black)",
           9.2
          ],
          [
           "Kinetic Sand (Orange)",
           8.75
          ],
          [
           "Rock-a-Stack (Black)",
           8.75
          ],
          [
           "Clue (White)",
           8.75
          ],
          [
           "Battleship (White)",
           8.5
          ],
          [
           "Rainforest Jumperoo (Purple)",
           9.25
          ],
          [
           "WWE Action Figure (Purple)",
           8.3
          ],
          [
           "Connect 4 (Black)",
           8.75
          ],
          [
           "Hatchimals CollEGGtibles (Yellow)",
           8.2
          ],
          [
           "Laugh & Learn Smart Stages Puppy (Yellow)",
           9.2
          ],
          [
           "Laugh & Learn Smart Stages Chair (Purple)",
           9.2
          ],
          [
           "Ninjago City (70620) (Blue)",
           9.5
          ],
          [
           "Ninjago City (70620) (Orange)",
           9.2
          ],
          [
           "Creator Ford Mustang (10265) (Orange)",
           9.2
          ],
          [
           "Monopoly Board Game (Gray)",
           8.5
          ],
          [
           "Clue (Red)",
           8.75
          ],
          [
           "Rock-a-Stack (Red)",
           9.2
          ],
          [
           "Jenga (Green)",
           8.75
          ],
          [
           "Scrabble (Black)",
           8.75
          ],
          [
           "Kinetic Sand (Gray)",
           8.75
          ],
          [
           "Nerf Elite 2.0 (Brown)",
           8.5
          ],
          [
           "Masters of the Universe He-Man (Green)",
           9.2
          ],
          [
           "Classic Brick Set (10717) (Gray)",
           9.2
          ],
          [
           "Creator Expert Taj Mahal (10256) (Orange)",
           9.2
          ],
          [
           "Monster Jam RC (Blue)",
           8.5
          ],
          [
           "Creator Expert Taj Mahal (10256) (White)",
           9.25
          ],
          [
           "Hatchimals CollEGGtibles (Gray)",
           8.5
          ],
          [
           "Star Wars Millennium Falcon (75192) (Gray)",
           9.5
          ],
          [
           "Baby Learning Table (Yellow)",
           8.75
          ],
          [
           "Jenga (Black)",
           8.75
          ],
          [
           "Pictionary (Red)",
           8.75
          ],
          [
           "Rainforest Jumperoo (Blue)",
           9.2
          ],
          [
           "Enchantimals Doll (Red)",
           8.25
          ],
          [
           "Pictionary (Blue)",
           8.5
          ],
          [
           "Laugh & Learn Smart Stages Chair (Red)",
           9.25
          ],
          [
           "Masters of the Universe He-Man (Black)",
           8.75
          ],
          [
           "Brilliant Basics Corn Popper (Gray)",
           8.75
          ],
          [
           "Architecture Statue of Liberty (21042) (Orange)",
           8.5
          ],
          [
           "Bakugan Battle Arena (Gray)",
           8.5
          ],
          [
           "Clue (Brown)",
           8.7
          ],
          [
           "Technic Bugatti Chiron (42083) (Red)",
           9.45
          ],
          [
           "Monopoly Board Game (Green)",
           8.9
          ],
          [
           "Nerf Elite 2.0 (Orange)",
           8.25
          ],
          [
           "WWE Action Figure (Blue)",
           8.5
          ],
          [
           "Connect 4 (Orange)",
           8.75
          ],
          [
           "Laugh & Learn Smart Stages Chair (White)",
           8.75
          ],
          [
           "Barbie Doll (Red)",
           8.75
          ],
          [
           "Ideas Tree House (21318) (Green)",
           8.75
          ],
          [
           "Technic Bugatti Chiron (42083) (Orange)",
           9.25
          ],
          [
           "Battleship (Black)",
           8.5
          ],
          [
           "Barbie Doll (Green)",
           8.75
          ],
          [
           "UNO Card Game (Black)",
           8.75
          ],
          [
           "Star Wars Millennium Falcon (75192) (Purple)",
           9.7
          ],
          [
           "Hot Wheels 20-Car Pack (White)",
           8.5
          ],
          [
           "Clue (Blue)",
           8.5
          ],
          [
           "Baby's First Blocks (White)",
           9.3
          ],
          [
           "Bakugan Battle Arena (Red)",
           8.25
          ],
          [
           "Rainforest Jumperoo (Gray)",
           9.3
          ],
          [
           "Harry Potter Hogwarts Castle (71043) (Yellow)",
           9.5
          ],
          [
           "Connect 4 (Blue)",
           8.75
          ],
          [
           "Laugh & Learn Smart Stages Puppy (Green)",
           8.75
          ],
          [
           "Transformers Bumblebee (Yellow)",
           8.5
          ],
          [
           "Ideas Tree House (21318) (Brown)",
           9
          ],
          [
           "Baby Learning Table (Brown)",
           8.75
          ],
          [
           "Monopoly Board Game (Blue)",
           8.45
          ],
          [
           "Ninjago City (70620) (Purple)",
           9.5
          ],
          [
           "Clue (Purple)",
           8.5
          ],
          [
           "Sorry! (Yellow)",
           8.75
          ],
          [
           "Operation (Black)",
           8.5
          ],
          [
           "Bakugan Battle Arena (Orange)",
           8.5
          ],
          [
           "Tech Deck (Black)",
           8.5
          ],
          [
           "UNO Card Game (White)",
           8.75
          ],
          [
           "Ideas Tree House (21318) (Orange)",
           9.5
          ],
          [
           "Little People Caring for Animals Farm (Purple)",
           8.75
          ],
          [
           "Operation (Red)",
           8.5
          ],
          [
           "Infant to Toddler Rocker (Red)",
           8.75
          ],
          [
           "Star Wars Millennium Falcon (75192) (Brown)",
           9.5
          ],
          [
           "Monopoly Board Game (White)",
           8.5
          ],
          [
           "Kinetic Sand (Black)",
           8.75
          ],
          [
           "Baby's First Blocks (Black)",
           9.3
          ],
          [
           "Paw Patrol Mighty Lookout Tower (Gray)",
           8.7
          ],
          [
           "Architecture Statue of Liberty (21042) (Brown)",
           8.75
          ],
          [
           "Harry Potter Hogwarts Castle (71043) (Green)",
           9.5
          ],
          [
           "Brilliant Basics Corn Popper (Yellow)",
           8.5
          ],
          [
           "Baby Learning Table (Black)",
           9.2
          ],
          [
           "Polly Pocket (Green)",
           8.5
          ],
          [
           "City Police Station (60141) (Purple)",
           8.75
          ],
          [
           "Monster Jam RC (Yellow)",
           8.75
          ],
          [
           "Ideas Tree House (21318) (White)",
           9.25
          ],
          [
           "Monster Jam RC (Orange)",
           8.75
          ],
          [
           "Ninjago City (70620) (Black)",
           9.5
          ],
          [
           "Scrabble (Purple)",
           8.45
          ],
          [
           "Battleship (Brown)",
           8.5
          ],
          [
           "Baby Learning Table (Green)",
           8.75
          ],
          [
           "Little People School Bus (Red)",
           9.25
          ],
          [
           "Cardinal Games Chess (Blue)",
           8.75
          ],
          [
           "Twister (Brown)",
           8.5
          ]
         ],
         "hovertemplate": "category=Toys<br>price=%{x}<br>quantity_sold=%{y}<br>revenue=%{marker.size}<br>product_name=%{customdata[0]}<br>rating=%{customdata[1]}<extra></extra>",
         "legendgroup": "Toys",
         "marker": {
          "color": "#19d3f3",
          "size": {
           "bdata": "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",
           "dtype": "f8"
          },
          "sizemode": "area",
          "sizeref": 9670.1,
          "symbol": "circle"
         },
         "mode": "markers",
         "name": "Toys",
         "showlegend": true,
         "type": "scattergl",
         "x": {
          "bdata": "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",
          "dtype": "f8"
         },
         "xaxis": "x",
         "y": {
          "bdata": "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",
          "dtype": "f8"
         },
         "yaxis": "y"
        },
        {
         "customdata": [
          [
           "Manchester United Home Jersey (Orange, M)",
           8.75
          ],
          [
           "Tiro 21 Track Pants (White, XL)",
           8.8
          ],
          [
           "Originals Trefoil Hoodie (Blue, M)",
           8.5
          ],
          [
           "Sportswear Club Fleece Joggers (Gray, XL)",
           8.75
          ],
          [
           "Essentials Hoodie (Green, L)",
           8.5
          ],
          [
           "Jersey Dress (Blue, XS)",
           8.45
          ],
          [
           "Iso-Chill Shorts (Black, L)",
           8.25
          ],
          [
           "Alphaskin Tights (Black, XL)",
           8.75
          ],
          [
           "Tiro 21 Track Pants (Yellow, XXL)",
           8.75
          ],
          [
           "Own the Run Tee (Green, XXL)",
           8.75
          ],
          [
           "UA Rush T-Shirt (Yellow, L)",
           8.5
          ],
          [
           "Pro Tights (Green, L)",
           8.75
          ],
          [
           "Armour Fleece Pants (Red, XS)",
           8.5
          ],
          [
           "SB Icon Hoodie (Blue, XL)",
           8.75
          ],
          [
           "Tech Shorts (Purple, M)",
           8.7
          ],
          [
           "Basic Hoodie (Yellow, XS)",
           8.5
          ],
          [
           "Alphaskin Tights (Brown, XS)",
           8.5
          ],
          [
           "513 Slim Straight (Yellow, XXL)",
           8.3
          ],
          [
           "Court Victory Skirt (Gray, XS)",
           8.5
          ],
          [
           "Pro HyperWarm Top (Yellow, S)",
           8.5
          ],
          [
           "Essentials Hoodie (White, S)",
           8.5
          ],
          [
           "Sherpa Trucker Jacket (Green, M)",
           8.75
          ],
          [
           "501 Original Jeans (Purple, XXL)",
           8.75
          ],
          [
           "511 Slim Jeans (Orange, XS)",
           8.75
          ],
          [
           "501 Shorts (Red, XS)",
           8.75
          ],
          [
           "Own the Run Tee (Purple, S)",
           8.75
          ],
          [
           "Real Madrid Home Jersey (Green, M)",
           8.7
          ],
          [
           "513 Slim Straight (Purple, S)",
           8.55
          ],
          [
           "Sportswear Club Hoodie (Red, XS)",
           8.75
          ],
          [
           "Vanish Woven Pants (Brown, M)",
           8.5
          ],
          [
           "513 Slim Straight (Gray, XL)",
           8.75
          ],
          [
           "Windrunner Jacket (Purple, XS)",
           8.5
          ],
          [
           "513 Slim Straight (Black, M)",
           8.75
          ],
          [
           "Condivo 20 Training Top (Yellow, M)",
           8.75
          ],
          [
           "Jersey Dress (Gray, S)",
           8.5
          ],
          [
           "Vanish Woven Pants (Orange, M)",
           8.7
          ],
          [
           "Armour Fleece Pants (Blue, XXL)",
           8.7
          ],
          [
           "Real Madrid Home Jersey (Purple, XS)",
           8.75
          ],
          [
           "Sherpa Trucker Jacket (Yellow, L)",
           8.5
          ],
          [
           "Condivo 20 Training Top (Blue, S)",
           8.7
          ],
          [
           "512 Slim Taper Jeans (Yellow, S)",
           8.75
          ],
          [
           "Cotton Chino Pants (Green, XS)",
           8.45
          ],
          [
           "513 Slim Straight (Yellow, XS)",
           8.75
          ],
          [
           "Tech Shorts (Blue, S)",
           8.75
          ],
          [
           "Linen Blend Shirt (Green, XS)",
           8.2
          ],
          [
           "Alphaskin Tights (Yellow, XS)",
           8.5
          ],
          [
           "Launch SW 7\" Shorts (Green, XXL)",
           8.75
          ],
          [
           "Pro HyperWarm Top (Purple, M)",
           8.75
          ],
          [
           "Ribcage Straight Ankle (Green, XS)",
           8.75
          ],
          [
           "Storm Cyclone Jacket (Black, XL)",
           8.75
          ],
          [
           "SB Icon Hoodie (Blue, L)",
           8.75
          ],
          [
           "511 Slim Jeans (Purple, M)",
           8.75
          ],
          [
           "Sportswear Club Fleece Joggers (White, XS)",
           8.75
          ],
          [
           "Manchester United Home Jersey (Red, S)",
           8.75
          ],
          [
           "Originals Trefoil Hoodie (Orange, L)",
           8.75
          ],
          [
           "Pro Tights (Blue, XXL)",
           8.75
          ],
          [
           "Condivo 20 Training Top (Yellow, XXL)",
           8.5
          ],
          [
           "Denim Jacket (Green, M)",
           8.25
          ],
          [
           "Basic Hoodie (Blue, XXL)",
           7.8
          ],
          [
           "Pleated Skirt (Yellow, XL)",
           7.85
          ],
          [
           "Tiro 21 Track Pants (Orange, XL)",
           8.75
          ],
          [
           "Faux Leather Biker Jacket (Orange, L)",
           7.75
          ],
          [
           "Iso-Chill Shorts (Brown, XS)",
           8.5
          ],
          [
           "Sherpa Trucker Jacket (Blue, XL)",
           8.75
          ],
          [
           "Rival Fleece Hoodie (Black, XXL)",
           8.7
          ],
          [
           "Trucker Jacket (Green, M)",
           8.75
          ],
          [
           "UA Rush T-Shirt (Brown, M)",
           8.5
          ],
          [
           "3-Stripes Track Jacket (Purple, L)",
           8.5
          ],
          [
           "Windrunner Jacket (Yellow, XS)",
           8.75
          ],
          [
           "FC Barcelona Home Jersey (Blue, XXL)",
           9.45
          ],
          [
           "Denim Jacket (Yellow, M)",
           7.8
          ],
          [
           "Puffer Jacket (Green, S)",
           7.85
          ],
          [
           "Dri-FIT T-Shirt (Red, M)",
           8.75
          ],
          [
           "Rival Fleece Hoodie (White, XXL)",
           8.75
          ],
          [
           "Alphaskin Tights (Orange, XL)",
           8.75
          ],
          [
           "Dri-FIT T-Shirt (Black, XL)",
           8.75
          ],
          [
           "Faux Leather Biker Jacket (Orange, S)",
           7.85
          ],
          [
           "Linen Blend Shirt (Black, XXL)",
           8.5
          ],
          [
           "Slim Fit Suit Pants (Blue, M)",
           8.2
          ],
          [
           "HeatGear Compression Shirt (Orange, XL)",
           8.75
          ],
          [
           "3-Stripes Track Jacket (Red, XL)",
           8.5
          ],
          [
           "Pro Tights (Orange, XXL)",
           8.75
          ],
          [
           "Manchester United Home Jersey (Yellow, S)",
           8.75
          ],
          [
           "Court Victory Skirt (White, XL)",
           8.5
          ],
          [
           "Sportswear Club Hoodie (Yellow, M)",
           8.75
          ],
          [
           "Trucker Jacket (Black, XS)",
           8.75
          ],
          [
           "Samba Jersey (Red, L)",
           8.5
          ],
          [
           "Ribcage Straight Ankle (Purple, XS)",
           8.75
          ],
          [
           "Sportswear Club Hoodie (Red, L)",
           8.75
          ],
          [
           "Originals Trefoil Hoodie (Blue, XL)",
           8.5
          ],
          [
           "Samba Jersey (Red, XS)",
           8.5
          ],
          [
           "511 Slim Jeans (Blue, XL)",
           8.75
          ],
          [
           "UA Rush T-Shirt (Orange, XL)",
           8.75
          ],
          [
           "Armour Fleece Pants (Red, XL)",
           8.75
          ],
          [
           "Sportswear Tech Fleece Pants (Blue, XXL)",
           8.75
          ],
          [
           "Linen Blend Shirt (Blue, XS)",
           8.25
          ],
          [
           "Own the Run Tee (Brown, XL)",
           8.75
          ],
          [
           "Vanish Woven Pants (Orange, XL)",
           8.25
          ],
          [
           "Puffer Jacket (Red, XXL)",
           7.65
          ],
          [
           "Cotton Chino Pants (Red, L)",
           8.5
          ],
          [
           "Own the Run Tee (Gray, XS)",
           8.5
          ],
          [
           "UA Rush T-Shirt (Orange, XXL)",
           8.2
          ],
          [
           "Trucker Jacket (Green, XL)",
           8.75
          ],
          [
           "Launch SW 7\" Shorts (Green, XS)",
           8.5
          ],
          [
           "Faux Leather Biker Jacket (Blue, L)",
           8.5
          ],
          [
           "Iso-Chill Shorts (Green, L)",
           8.75
          ],
          [
           "HeatGear Compression Shirt (Black, XXL)",
           8.75
          ],
          [
           "Sportswear Tech Fleece Pants (Black, XL)",
           8.75
          ],
          [
           "Iso-Chill Shorts (Gray, XS)",
           8.75
          ],
          [
           "Tech Shorts (Yellow, XS)",
           8.5
          ],
          [
           "Curry Basketball Jersey (Blue, L)",
           9.25
          ],
          [
           "511 Slim Jeans (Black, XXL)",
           8.75
          ],
          [
           "Cotton Chino Pants (Yellow, S)",
           8.2
          ],
          [
           "FC Barcelona Home Jersey (Black, XS)",
           8.5
          ],
          [
           "Crewneck Sweatshirt (White, XXL)",
           8.35
          ],
          [
           "511 Slim Jeans (Green, S)",
           8.45
          ],
          [
           "Dri-FIT T-Shirt (Green, L)",
           8.75
          ],
          [
           "Slim Fit Suit Pants (Red, XL)",
           8.3
          ],
          [
           "Crewneck Sweatshirt (White, M)",
           8.4
          ],
          [
           "HeatGear Compression Shirt (Purple, M)",
           9.2
          ],
          [
           "Sportswear Club Fleece Joggers (Black, L)",
           8.75
          ],
          [
           "Ribcage Straight Ankle (Black, XXL)",
           8.75
          ],
          [
           "FC Barcelona Home Jersey (Gray, L)",
           8.75
          ],
          [
           "Own the Run Tee (Yellow, XL)",
           8.75
          ],
          [
           "Windrunner Jacket (Brown, XS)",
           8.5
          ],
          [
           "3-Stripes Track Jacket (White, XL)",
           8.75
          ],
          [
           "Real Madrid Home Jersey (Yellow, XS)",
           8.5
          ],
          [
           "Basic Hoodie (White, M)",
           7.8
          ],
          [
           "Curry Basketball Jersey (Red, XXL)",
           8.75
          ],
          [
           "Essentials Hoodie (Green, M)",
           8.5
          ],
          [
           "Ribcage Straight Ankle (Red, XL)",
           8.75
          ],
          [
           "FC Barcelona Home Jersey (Orange, M)",
           8.75
          ],
          [
           "Linen Blend Shirt (Red, L)",
           8.25
          ],
          [
           "Curry Basketball Jersey (Black, M)",
           8.75
          ],
          [
           "Pleated Skirt (Yellow, XXL)",
           8.4
          ],
          [
           "501 Original Jeans (White, S)",
           8.25
          ],
          [
           "Armour Fleece Pants (Orange, M)",
           8.65
          ],
          [
           "Windrunner Jacket (Green, L)",
           8.75
          ],
          [
           "Vanish Woven Pants (Red, XS)",
           8.35
          ],
          [
           "Rival Fleece Hoodie (Gray, M)",
           8.75
          ],
          [
           "SB Icon Hoodie (Black, M)",
           8.75
          ],
          [
           "505 Regular Jeans (Yellow, M)",
           8.75
          ],
          [
           "Condivo 20 Training Top (Blue, XXL)",
           8.5
          ],
          [
           "Linen Blend Shirt (Red, L)",
           8.25
          ],
          [
           "Armour Fleece Pants (Black, XS)",
           8.7
          ],
          [
           "Crewneck Sweatshirt (Brown, S)",
           7.8
          ],
          [
           "Real Madrid Home Jersey (Red, XXL)",
           8.75
          ],
          [
           "Puffer Jacket (Black, XS)",
           8.2
          ],
          [
           "Pro HyperWarm Top (Black, XL)",
           8.5
          ],
          [
           "Basic Hoodie (Blue, S)",
           8.5
          ],
          [
           "Rival Fleece Hoodie (Brown, XL)",
           8.75
          ],
          [
           "Pleated Skirt (Brown, XS)",
           8.25
          ],
          [
           "Cotton Chino Pants (Purple, M)",
           7.5
          ],
          [
           "Cotton Chino Pants (Gray, L)",
           8.5
          ],
          [
           "Denim Jacket (Red, M)",
           7.85
          ],
          [
           "Originals Trefoil Hoodie (Gray, XXL)",
           8.4
          ],
          [
           "HeatGear Compression Shirt (Orange, M)",
           9.2
          ],
          [
           "Court Victory Skirt (Red, M)",
           8.75
          ],
          [
           "Sherpa Trucker Jacket (Gray, S)",
           8.75
          ],
          [
           "Manchester United Home Jersey (Brown, M)",
           8.5
          ],
          [
           "721 High Rise Skinny (Purple, M)",
           8.75
          ],
          [
           "Sportswear Club Hoodie (Gray, XXL)",
           8.65
          ],
          [
           "501 Shorts (Gray, XS)",
           8.75
          ],
          [
           "SB Icon Hoodie (Gray, M)",
           8.75
          ],
          [
           "512 Slim Taper Jeans (Gray, XS)",
           8.75
          ],
          [
           "Tech Shorts (Gray, S)",
           8.75
          ],
          [
           "Tiro 21 Track Pants (Yellow, S)",
           8.5
          ],
          [
           "Storm Cyclone Jacket (Green, XS)",
           8.75
          ],
          [
           "Samba Jersey (Brown, M)",
           8.45
          ],
          [
           "Sportswear Tech Fleece Pants (Purple, XXL)",
           8.75
          ],
          [
           "Court Victory Skirt (Orange, XS)",
           8.75
          ],
          [
           "Pleated Skirt (Purple, S)",
           8.4
          ],
          [
           "Pro HyperWarm Top (Gray, S)",
           8.5
          ],
          [
           "505 Regular Jeans (Orange, XL)",
           8.75
          ],
          [
           "Launch SW 7\" Shorts (Green, XL)",
           8.75
          ],
          [
           "721 High Rise Skinny (Orange, M)",
           7.8
          ],
          [
           "Manchester United Home Jersey (Gray, XXL)",
           7.8
          ],
          [
           "Condivo 20 Training Top (Yellow, S)",
           8.75
          ],
          [
           "Puffer Jacket (White, XL)",
           8.5
          ],
          [
           "Samba Jersey (Brown, S)",
           8.5
          ],
          [
           "501 Original Jeans (Yellow, S)",
           8.7
          ],
          [
           "SB Icon Hoodie (Yellow, L)",
           8.75
          ],
          [
           "3-Stripes Track Jacket (Blue, XXL)",
           8.5
          ],
          [
           "Launch SW 7\" Shorts (Purple, M)",
           8.75
          ],
          [
           "Slim Fit Suit Pants (White, XS)",
           7.85
          ],
          [
           "Slim Fit Suit Pants (Orange, L)",
           7.85
          ],
          [
           "721 High Rise Skinny (Red, XS)",
           8.75
          ],
          [
           "505 Regular Jeans (Gray, L)",
           8.75
          ],
          [
           "Pro Tights (Brown, M)",
           8.75
          ],
          [
           "Real Madrid Home Jersey (Gray, XL)",
           8.75
          ],
          [
           "Samba Jersey (Gray, XL)",
           8.75
          ],
          [
           "Tech Shorts (Orange, L)",
           8.5
          ],
          [
           "Jersey Dress (Red, XS)",
           8.3
          ],
          [
           "512 Slim Taper Jeans (Purple, L)",
           8.75
          ],
          [
           "Sherpa Trucker Jacket (White, M)",
           8.5
          ],
          [
           "501 Shorts (White, XS)",
           8.35
          ],
          [
           "Storm Cyclone Jacket (Yellow, XL)",
           8.5
          ],
          [
           "501 Shorts (Green, XXL)",
           8.75
          ],
          [
           "Pro Tights (Gray, M)",
           8.75
          ],
          [
           "Crewneck Sweatshirt (Blue, XS)",
           7.5
          ],
          [
           "Basic Hoodie (White, XS)",
           8.5
          ],
          [
           "Sportswear Club Fleece Joggers (Gray, XS)",
           8.75
          ],
          [
           "Faux Leather Biker Jacket (Orange, XL)",
           8.25
          ],
          [
           "UA Rush T-Shirt (Purple, XXL)",
           8.5
          ],
          [
           "3-Stripes Track Jacket (Green, XXL)",
           8.5
          ],
          [
           "Trucker Jacket (White, XL)",
           8.75
          ],
          [
           "Court Victory Skirt (Brown, L)",
           8.75
          ],
          [
           "Curry Basketball Jersey (White, XXL)",
           8.75
          ],
          [
           "Pro HyperWarm Top (Green, L)",
           8.75
          ],
          [
           "Sportswear Tech Fleece Pants (Purple, S)",
           8.75
          ],
          [
           "Linen Blend Shirt (White, L)",
           8.2
          ],
          [
           "505 Regular Jeans (Gray, XS)",
           8.65
          ],
          [
           "Originals Trefoil Hoodie (Orange, XXL)",
           8.65
          ],
          [
           "Essentials Hoodie (Brown, L)",
           8.5
          ],
          [
           "501 Original Jeans (Green, S)",
           8.75
          ],
          [
           "501 Shorts (Brown, L)",
           8.75
          ],
          [
           "501 Original Jeans (Green, L)",
           8.7
          ],
          [
           "Launch SW 7\" Shorts (Black, XXL)",
           8.75
          ],
          [
           "Essentials Hoodie (Brown, S)",
           8.75
          ],
          [
           "Slim Fit Suit Pants (White, M)",
           8.2
          ],
          [
           "Crewneck Sweatshirt (White, XS)",
           8.15
          ],
          [
           "Dri-FIT T-Shirt (Purple, XS)",
           8.5
          ],
          [
           "Vanish Woven Pants (Yellow, XL)",
           8.6
          ],
          [
           "Jersey Dress (Orange, S)",
           8.5
          ],
          [
           "512 Slim Taper Jeans (White, M)",
           8.75
          ],
          [
           "Ribcage Straight Ankle (Green, L)",
           8.75
          ],
          [
           "Jersey Dress (White, XXL)",
           8.25
          ],
          [
           "Faux Leather Biker Jacket (Brown, XS)",
           8.25
          ]
         ],
         "hovertemplate": "category=Clothing<br>price=%{x}<br>quantity_sold=%{y}<br>revenue=%{marker.size}<br>product_name=%{customdata[0]}<br>rating=%{customdata[1]}<extra></extra>",
         "legendgroup": "Clothing",
         "marker": {
          "color": "#FF6692",
          "size": {
           "bdata": "AAAAACCA9EAAAAAAMN3wQAAAAACAP+NAAAAAAAAh5kAAAAAAwIfyQBSuR+EqHtZAAAAAAACu4EAAAAAAICvuQAAAAADAW/FAAAAAAIAC3kAAAAAAQI/iQAAAAADACvdAAAAAAIA56UAAAAAAANz0QAAAAAAAR+NA9ihcjwJt00AAAAAAYKnkQMP1KFwXru9AAAAAAABk5EAAAAAAwHD6QAAAAADA6PVAAAAAAGBF/0AAAAAAqID5QAAAAAAw6epAUrgehRPT5kAAAAAAQFzdQAAAAADgD/BACtejcBU38kAAAAAAADPtQAAAAABwM/ZAAAAAANgB9kAAAAAA4L32QAAAAADwRfFAAAAAAEBR9ECF61G4PgPWQAAAAADA6e5AAAAAAAAB7UAAAAAAYELyQAAAAACgWPFAAAAAAABL7kAAAAAAYD71QDMzMzMTjdZAAAAAAODM8kAAAAAAAEfjQHE9CtfTTt9AAAAAAABE60AAAAAAQBvjQAAAAACA4vVAAAAAAEBV/UAAAAAAwKEGQQAAAAAgeOxAAAAAAFB8+UAAAAAAgFXxQAAAAAAghf5AAAAAAPCM9EAAAAAAAKHoQAAAAACAUPFAkML1KHyq50D2KFyPaoXgQHsUrkehDNBAAAAAAIAm7UDNzMzM5HvqQAAAAADgUeRAAAAAAOCq+EAAAAAAYIDvQAAAAACQmvhAAAAAAEC740AAAAAAIP7tQAAAAACAC/VAAAAAAPCFAUGkcD0KZ/TYQIXrUbi2/+1AAAAAAOBV6kAAAAAAsDjyQAAAAAAAgOZAAAAAAMB22UB7FK5HgTHdQAAAAADg5NhA7FG4HqV16kAAAAAAwPHhQAAAAAAwmfNAAAAAAPA78EAAAAAA4Mv3QAAAAADg3eRAAAAAAKCj5kAAAAAA2J73QAAAAAAA+ulAAAAAAGCS+EAAAAAAgF3zQAAAAAAAyudAAAAAAIDG40AAAAAAUMzwQAAAAAAA3eNAAAAAAACc6EAAAAAAoCv2QEjhehTu991AAAAAAIAC3kAAAAAAQPfzQAAAAAAAFuxAhutRuC5C3EAAAAAAAPnVQAAAAAAASOJAZmZmZuolAEEAAAAAgGPcQKRwPQpPYeJAAAAAAEAA6kAAAAAAAC/cQAAAAAAAnPhAAAAAAAAf6EAAAAAAAKXkQAAAAAAA2QJBAAAAAMiI90CF61G4joXgQAAAAADghfJAPQrXo7gk4EAAAAAAqN/3QAAAAAAgL+BAH4XrUdAL7ED2KFyPojTSQAAAAACAAOZAAAAAAMCL6EAAAAAAgO7yQAAAAABgp/ZAAAAAAMDx4UAAAAAAgGT7QAAAAADg+vBAAAAAAABh90AAAAAAAHLPQAAAAABAbwRBAAAAAMBX70AAAAAA8MkBQQAAAABQ+QBBAAAAAACC1EAAAAAAAIn8QOF6FK5HJtRA16NwPTYh8kAAAAAAoL3qQAAAAAAAZARBAAAAAACU8UAAAAAAwCrwQAAAAACA/+ZAZmZmZi7n7kAAAAAAAO7rQAAAAAAAgtRAAAAAAADW5UAUrkfhGmHXQAAAAADA/vNA4noUrtcf60AAAAAAYNn2QAAAAADAJNZAAAAAAGDb7kBI4XoUTpLfQBSuR+FqZdhAuB6F63E34kB7FK5HgTHtQAAAAABAwedAAAAAAIAK20AAAAAAELbxQAAAAACgHAJBAAAAACBm/0AAAAAAoL7+QAAAAACglOtAAAAAAJB29EAAAAAAIIDuQAAAAADwL/BAAAAAAGBL40AAAAAAIA/sQAAAAACAK/hAAAAAAICm70AAAAAAYNf4QAAAAADQHvFA16NwPfrV4UAAAAAA4LDuQAAAAADorfBAAAAAAMAh5EAAAAAA8MnqQAAAAAAA2/pAAAAAAIC76UDNzMzMHLv7QAAAAABwkPNA16NwPVJk6UAAAAAAYFbyQAAAAACAovlAAAAAAGBC50CamZmZ6fzgQFK4HoVzXOlAAAAAAJhj/UAAAAAA8FvyQAAAAADAG/VAAAAAAAA5/EAAAAAAQOL0QAAAAADAJdpAAAAAAEDY2kAAAAAAEGTwQGZmZmY6vfZAAAAAAOC28UAAAAAAgFz0QJqZmZmxY+5AAAAAAAB36kA9CtejUMbMQAAAAACABdZAAAAAABDa8EAAAAAA2HXrQAAAAAAAn+pAAAAAAICI9UAK16NwwcX1QAAAAACAO+dAAAAAAEBvBEEAAAAAgL7rQAAAAABwowRBmpmZmYFt5EAAAAAAQEXuQAAAAAAA5OtAAAAAAKBU6kAAAAAA6Bv2QAAAAACwYfdAAAAAAEDL+0AAAAAAYLbmQAAAAADAzvFA4noUrlea5kAoXI/CNcnFQAAAAADgfeBAAAAAACAF90CamZmZeZTdQAAAAABwHu9AAAAAAKAcAkFmZmZm5mXQQM3MzMx0Q+lA",
           "dtype": "f8"
          },
          "sizemode": "area",
          "sizeref": 9670.1,
          "symbol": "circle"
         },
         "mode": "markers",
         "name": "Clothing",
         "showlegend": true,
         "type": "scattergl",
         "x": {
          "bdata": "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",
          "dtype": "f8"
         },
         "xaxis": "x",
         "y": {
          "bdata": "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",
          "dtype": "f8"
         },
         "yaxis": "y"
        },
        {
         "customdata": [
          [
           "Urbanite XL (Wired, White)",
           8.6
          ],
          [
           "Elite 65t (Wired, Gray)",
           8.5
          ],
          [
           "AirPods (1st generation) (Wireless, Orange)",
           7.8
          ],
          [
           "MDR-1AM2 (Wired, Blue)",
           8.75
          ],
          [
           "Move Style Edition (Wireless, Brown)",
           8.3
          ],
          [
           "PXC 550 (Wired, Red)",
           8.75
          ],
          [
           "QuietComfort 35 II (Wireless, Black)",
           9.3
          ],
          [
           "Evolve2 65 (Wired, Purple)",
           8.5
          ],
          [
           "Beats Solo3 (Wired, Yellow)",
           8.5
          ],
          [
           "Elite 45h (Wireless, Green)",
           8.75
          ],
          [
           "MDR-7506 (Wired, Brown)",
           9.25
          ],
          [
           "SoundLink Around-Ear II (Wireless, Black)",
           8.75
          ],
          [
           "Move Style Edition (Wireless, Green)",
           8.5
          ],
          [
           "LinkBuds S (Wired, White)",
           8.45
          ],
          [
           "HD 800S (Wireless, Purple)",
           9.3
          ],
          [
           "WH-1000XM4 (Wireless, Orange)",
           9.5
          ],
          [
           "WF-C500 (Wireless, Orange)",
           8.6
          ],
          [
           "Beats Solo3 (Wired, White)",
           8.75
          ],
          [
           "Elite 45h (Wireless, Blue)",
           8.7
          ],
          [
           "HD 450BT (Wired, Purple)",
           8.5
          ],
          [
           "Rox Wireless (Wireless, Orange)",
           8.5
          ],
          [
           "HD 800S (Wireless, Orange)",
           9.2
          ],
          [
           "Sport Earbuds (Wired, Purple)",
           8.75
          ],
          [
           "Rox Wireless (Wireless, White)",
           8.5
          ],
          [
           "QuietComfort 45 (Wired, Orange)",
           8.9
          ],
          [
           "Beats Studio3 (Wireless, Green)",
           8.25
          ],
          [
           "Elite 75t (Wired, Red)",
           8.5
          ],
          [
           "Beats Solo3 (Wired, Gray)",
           8.5
          ],
          [
           "WF-1000XM4 (Wired, Orange)",
           9.2
          ],
          [
           "WF-C500 (Wired, Blue)",
           8.2
          ],
          [
           "HD 560S (Wired, Orange)",
           8.75
          ],
          [
           "AirPods Pro (2nd generation) (Wireless, Green)",
           8.75
          ],
          [
           "AirPods Pro (2nd generation) (Wired, Green)",
           9.2
          ],
          [
           "HD 560S (Wireless, Orange)",
           8.7
          ],
          [
           "AirPods (1st generation) (Wireless, Brown)",
           8.5
          ],
          [
           "Beats Studio3 (Wireless, Gray)",
           8.25
          ],
          [
           "Powerbeats Pro (Wired, White)",
           8.4
          ],
          [
           "Powerbeats Pro (Wireless, Blue)",
           8.75
          ],
          [
           "HD 560S (Wired, Gray)",
           8.75
          ],
          [
           "Sleepbuds II (Wired, White)",
           8.7
          ],
          [
           "WF-1000XM4 (Wired, Red)",
           8.65
          ],
          [
           "Urbanite XL (Wireless, Orange)",
           8.75
          ],
          [
           "SoundSport Wireless (Wired, Black)",
           8.5
          ],
          [
           "Elite 75t (Wireless, Brown)",
           8.75
          ],
          [
           "WH-XB900N (Wired, Orange)",
           8.4
          ],
          [
           "AirPods Pro (1st generation) (Wired, Gray)",
           8.5
          ],
          [
           "Momentum 3 Wireless (Wired, Orange)",
           8.75
          ],
          [
           "AirPods (2nd generation) (Wired, Orange)",
           8.5
          ],
          [
           "AirPods (2nd generation) (Wireless, Black)",
           8.5
          ],
          [
           "HD 599 (Wireless, Gray)",
           8.5
          ],
          [
           "Move Style Edition (Wireless, Orange)",
           8.5
          ],
          [
           "WH-1000XM3 (Wired, Red)",
           9.5
          ],
          [
           "AirPods (3rd generation) (Wired, Brown)",
           8.75
          ],
          [
           "AirPods (2nd generation) (Wired, Green)",
           8.7
          ],
          [
           "WH-XB900N (Wired, Black)",
           8.75
          ],
          [
           "Evolve2 65 (Wireless, Yellow)",
           8.75
          ],
          [
           "SoundLink Around-Ear II (Wireless, Purple)",
           8.75
          ],
          [
           "Noise Cancelling Headphones 700 (Wireless, Yellow)",
           8.75
          ],
          [
           "WH-CH710N (Wired, Brown)",
           8.35
          ],
          [
           "AirPods Max (Wireless, Red)",
           8.7
          ],
          [
           "Beats Flex (Wireless, Black)",
           8.5
          ],
          [
           "SoundTrue Ultra (Wired, Blue)",
           8.75
          ],
          [
           "Evolve2 85 (Wired, Black)",
           8.75
          ],
          [
           "Rox Wireless (Wired, Orange)",
           8.4
          ],
          [
           "AirPods (1st generation) (Wired, Orange)",
           7.8
          ],
          [
           "Sport Earbuds (Wireless, Red)",
           9.2
          ],
          [
           "AirPods (3rd generation) (Wireless, Gray)",
           8.75
          ],
          [
           "Elite Active 75t (Wireless, Brown)",
           8.75
          ],
          [
           "AirPods (1st generation) (Wired, Gray)",
           7.5
          ],
          [
           "MDR-7506 (Wired, Purple)",
           9.2
          ],
          [
           "Momentum 2.0 (Wireless, Purple)",
           8.75
          ],
          [
           "HD 800S (Wireless, Blue)",
           9.5
          ],
          [
           "Beats Flex (Wireless, Gray)",
           8.5
          ],
          [
           "WH-1000XM3 (Wired, Purple)",
           8.75
          ],
          [
           "Evolve2 65 (Wired, Blue)",
           8.75
          ],
          [
           "WH-1000XM4 (Wireless, Brown)",
           9.25
          ],
          [
           "MDR-7506 (Wired, Gray)",
           9.25
          ],
          [
           "HD 450BT (Wired, Black)",
           8.45
          ],
          [
           "Sport Earbuds (Wireless, Green)",
           8.75
          ],
          [
           "SoundLink Around-Ear II (Wired, Red)",
           8.5
          ],
          [
           "QuietComfort 25 (Wired, Red)",
           8.7
          ],
          [
           "LinkBuds S (Wired, Orange)",
           8.25
          ],
          [
           "MDR-1AM2 (Wireless, Red)",
           8.75
          ],
          [
           "Powerbeats Pro (Wireless, Brown)",
           8.75
          ],
          [
           "Elite Active 75t (Wireless, Yellow)",
           8.75
          ],
          [
           "AirPods Pro (2nd generation) (Wired, Blue)",
           9.2
          ],
          [
           "Elite 85t (Wireless, Blue)",
           8.7
          ],
          [
           "IE 80 S (Wired, Green)",
           8.7
          ],
          [
           "Elite Active 65t (Wireless, Blue)",
           8.5
          ],
          [
           "HD 450BT (Wireless, Red)",
           8.75
          ],
          [
           "Elite Active 75t (Wireless, Gray)",
           8.75
          ],
          [
           "Sport Earbuds (Wireless, Blue)",
           9.2
          ],
          [
           "CX 400BT (Wireless, Yellow)",
           8.5
          ],
          [
           "Noise Cancelling Headphones 700 (Wireless, Orange)",
           9.2
          ],
          [
           "Sport Earbuds (Wired, Blue)",
           8.75
          ],
          [
           "WH-CH710N (Wireless, Brown)",
           8.5
          ],
          [
           "Urbanite XL (Wireless, Purple)",
           8.75
          ],
          [
           "Beats Solo3 (Wireless, Yellow)",
           8.5
          ],
          [
           "SoundTrue Ultra (Wired, Black)",
           8.7
          ],
          [
           "Momentum 2.0 (Wireless, Black)",
           8.75
          ],
          [
           "WF-1000XM3 (Wired, Purple)",
           8.7
          ],
          [
           "QuietComfort 45 (Wired, Black)",
           9
          ],
          [
           "IE 80 S (Wireless, White)",
           8.75
          ],
          [
           "Evolve2 65 (Wired, Green)",
           8.5
          ],
          [
           "WH-XB900N (Wireless, Blue)",
           8.5
          ],
          [
           "WH-CH710N (Wired, Black)",
           8.25
          ],
          [
           "QuietComfort Earbuds (Wired, Blue)",
           8.5
          ],
          [
           "WH-CH710N (Wired, Gray)",
           8.25
          ],
          [
           "WF-C500 (Wired, Black)",
           8.35
          ],
          [
           "HD 599 (Wireless, White)",
           8.75
          ],
          [
           "QuietComfort 45 (Wired, Green)",
           8.75
          ],
          [
           "Powerbeats Pro (Wireless, Red)",
           8.5
          ],
          [
           "MDR-7506 (Wireless, Black)",
           8.75
          ],
          [
           "Sleepbuds II (Wired, Orange)",
           8.5
          ],
          [
           "LinkBuds S (Wireless, Yellow)",
           8.75
          ],
          [
           "AirPods Pro (2nd generation) (Wired, Gray)",
           9.4
          ],
          [
           "Noise Cancelling Headphones 700 (Wired, Brown)",
           9.2
          ],
          [
           "Powerbeats Pro (Wireless, Purple)",
           9.2
          ],
          [
           "HD 800S (Wireless, Green)",
           9.45
          ],
          [
           "HD 450BT (Wired, Gray)",
           8.75
          ],
          [
           "Beats Flex (Wireless, Red)",
           8.3
          ],
          [
           "SoundSport Wireless (Wireless, Orange)",
           8.75
          ],
          [
           "IE 80 S (Wired, Yellow)",
           8.75
          ],
          [
           "HD 599 (Wireless, Yellow)",
           8.75
          ],
          [
           "AirPods (3rd generation) (Wireless, Red)",
           8.75
          ],
          [
           "PXC 550 (Wireless, Red)",
           8.75
          ],
          [
           "SoundSport Wireless (Wired, Purple)",
           8.5
          ],
          [
           "Rox Wireless (Wired, Purple)",
           8.5
          ],
          [
           "PXC 550 (Wired, Orange)",
           8.75
          ],
          [
           "WH-1000XM3 (Wired, Green)",
           8.75
          ],
          [
           "QuietComfort 35 II (Wireless, Brown)",
           9.2
          ],
          [
           "Elite Active 75t (Wired, White)",
           8.4
          ],
          [
           "WH-1000XM4 (Wireless, White)",
           9.25
          ],
          [
           "Momentum 2.0 (Wired, Orange)",
           8.75
          ],
          [
           "Sleepbuds II (Wired, Purple)",
           8.2
          ],
          [
           "Momentum 2.0 (Wired, Brown)",
           8.75
          ],
          [
           "AirPods (3rd generation) (Wired, Green)",
           8.9
          ],
          [
           "WF-1000XM3 (Wireless, Gray)",
           8.75
          ],
          [
           "Beats Flex (Wired, Blue)",
           8.2
          ],
          [
           "AirPods (3rd generation) (Wireless, Blue)",
           8.8
          ],
          [
           "Elite Active 65t (Wireless, Red)",
           8.5
          ],
          [
           "Evolve2 85 (Wired, Gray)",
           8.75
          ],
          [
           "AirPods Max (Wired, Red)",
           8.75
          ],
          [
           "Sleepbuds II (Wireless, Gray)",
           8.5
          ],
          [
           "AirPods Pro (1st generation) (Wireless, Yellow)",
           9
          ],
          [
           "Noise Cancelling Headphones 700 (Wired, Black)",
           8.75
          ],
          [
           "Beats Studio3 (Wired, Black)",
           8.75
          ],
          [
           "HD 450BT (Wireless, White)",
           8.5
          ],
          [
           "QuietComfort 35 II (Wired, Gray)",
           9.1
          ],
          [
           "Elite 65t (Wireless, Yellow)",
           8.5
          ],
          [
           "WF-1000XM4 (Wireless, Purple)",
           9.2
          ],
          [
           "WF-1000XM3 (Wireless, Purple)",
           8.75
          ],
          [
           "MDR-1AM2 (Wired, White)",
           8.65
          ],
          [
           "QuietComfort 25 (Wired, Gray)",
           8.75
          ],
          [
           "QuietComfort 25 (Wireless, Yellow)",
           8.75
          ],
          [
           "Elite 85t (Wireless, Brown)",
           8.75
          ],
          [
           "QuietComfort 25 (Wireless, Black)",
           8.75
          ],
          [
           "SoundLink Around-Ear II (Wired, Green)",
           8.75
          ],
          [
           "QuietComfort Earbuds (Wired, Black)",
           8.75
          ],
          [
           "HD 599 (Wired, Orange)",
           9.2
          ],
          [
           "WF-1000XM4 (Wired, Blue)",
           8.75
          ],
          [
           "Elite 75t (Wired, Purple)",
           8.45
          ],
          [
           "Sleepbuds II (Wireless, Brown)",
           8.75
          ],
          [
           "Momentum 3 Wireless (Wireless, White)",
           8.75
          ],
          [
           "Elite 65t (Wireless, Red)",
           8.75
          ],
          [
           "CX 400BT (Wired, White)",
           8.5
          ],
          [
           "Elite 85t (Wired, Orange)",
           8.75
          ],
          [
           "AirPods Max (Wired, Brown)",
           8.75
          ],
          [
           "QuietComfort Earbuds (Wired, Orange)",
           8.75
          ],
          [
           "AirPods (2nd generation) (Wireless, Gray)",
           8.75
          ],
          [
           "QuietComfort Earbuds (Wireless, Brown)",
           8.7
          ],
          [
           "QuietComfort 35 II (Wired, Blue)",
           9.2
          ],
          [
           "AirPods Pro (1st generation) (Wired, Red)",
           8.75
          ],
          [
           "PXC 550 (Wired, Blue)",
           8.75
          ],
          [
           "AirPods Pro (2nd generation) (Wireless, Purple)",
           9.3
          ],
          [
           "WH-XB900N (Wired, White)",
           8.5
          ],
          [
           "AirPods Pro (1st generation) (Wireless, Brown)",
           9.2
          ],
          [
           "CX 400BT (Wireless, Red)",
           9
          ],
          [
           "SoundSport Wireless (Wired, Yellow)",
           8.75
          ],
          [
           "Elite 85t (Wired, Purple)",
           8.7
          ],
          [
           "HD 560S (Wireless, White)",
           9.12
          ],
          [
           "AirPods (2nd generation) (Wireless, Brown)",
           8.75
          ],
          [
           "IE 80 S (Wireless, Gray)",
           8.75
          ],
          [
           "Elite 45h (Wireless, Brown)",
           8.6
          ],
          [
           "WH-1000XM3 (Wireless, Purple)",
           9.2
          ],
          [
           "Urbanite XL (Wired, Gray)",
           8.6
          ],
          [
           "MDR-1AM2 (Wireless, Yellow)",
           8.75
          ],
          [
           "SoundLink Around-Ear II (Wireless, Orange)",
           8.75
          ],
          [
           "SoundTrue Ultra (Wired, Orange)",
           8.75
          ],
          [
           "Momentum 3 Wireless (Wireless, Yellow)",
           8.75
          ],
          [
           "Momentum 3 Wireless (Wired, Purple)",
           8.7
          ],
          [
           "WH-XB900N (Wired, Purple)",
           8.3
          ],
          [
           "PXC 550 (Wireless, Yellow)",
           8.75
          ],
          [
           "WF-1000XM3 (Wired, Orange)",
           8.75
          ],
          [
           "Beats Flex (Wireless, Green)",
           8.25
          ],
          [
           "WF-C500 (Wired, Yellow)",
           8.75
          ],
          [
           "WF-C500 (Wireless, Gray)",
           8.5
          ],
          [
           "Elite Active 65t (Wireless, White)",
           8.5
          ],
          [
           "HD 800S (Wired, Black)",
           9.5
          ],
          [
           "Elite 65t (Wireless, Black)",
           8.4
          ],
          [
           "Elite 75t (Wireless, Orange)",
           8.75
          ],
          [
           "MDR-1AM2 (Wireless, Orange)",
           8.5
          ],
          [
           "QuietComfort 25 (Wireless, Gray)",
           8.75
          ],
          [
           "AirPods Max (Wireless, Yellow)",
           8.75
          ],
          [
           "Elite Active 65t (Wired, White)",
           8.75
          ],
          [
           "HD 560S (Wired, Blue)",
           9.2
          ],
          [
           "CX 400BT (Wireless, Gray)",
           8.75
          ]
         ],
         "hovertemplate": "category=Headphones<br>price=%{x}<br>quantity_sold=%{y}<br>revenue=%{marker.size}<br>product_name=%{customdata[0]}<br>rating=%{customdata[1]}<extra></extra>",
         "legendgroup": "Headphones",
         "marker": {
          "color": "#B6E880",
          "size": {
           "bdata": "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",
           "dtype": "f8"
          },
          "sizemode": "area",
          "sizeref": 9670.1,
          "symbol": "circle"
         },
         "mode": "markers",
         "name": "Headphones",
         "showlegend": true,
         "type": "scattergl",
         "x": {
          "bdata": "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",
          "dtype": "f8"
         },
         "xaxis": "x",
         "y": {
          "bdata": "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",
          "dtype": "f8"
         },
         "yaxis": "y"
        },
        {
         "customdata": [
          [
           "Workout Plus (Brown, EU 46)",
           8.5
          ],
          [
           "1080v11 (Red, EU 39)",
           8.75
          ],
          [
           "Zig Kinetica (Brown, EU 46)",
           8.5
          ],
          [
           "Blazer Mid '77 (White, EU 44)",
           8.65
          ],
          [
           "Air Zoom Pegasus 38 (Blue, EU 44)",
           9.2
          ],
          [
           "Fresh Foam 1080 (Red, EU 44)",
           9.2
          ],
          [
           "Disc Blaze (Orange, EU 39)",
           8.5
          ],
          [
           "Gazelle (Orange, EU 44)",
           8.75
          ],
          [
           "Basket (Brown, EU 39)",
           8.5
          ],
          [
           "Alphabounce (Black, EU 46)",
           8.5
          ],
          [
           "Ultraboost 21 (Brown, EU 39)",
           8.75
          ],
          [
           "Ignite (Purple, EU 46)",
           8.75
          ],
          [
           "Air Zoom Pegasus 38 (White, EU 46)",
           8.75
          ],
          [
           "Air Max 90 (Blue, EU 40)",
           8.75
          ],
          [
           "Suede Classic (Yellow, EU 39)",
           8.45
          ],
          [
           "RS-X3 (Red, EU 42)",
           8.5
          ],
          [
           "Cortez (Blue, EU 44)",
           8.75
          ],
          [
           "NMD R1 (Blue, EU 39)",
           8.5
          ],
          [
           "Ultraboost 21 (Purple, EU 46)",
           8.75
          ],
          [
           "RC Elite (Orange, EU 46)",
           8.75
          ],
          [
           "Floatride Run (Gray, EU 46)",
           8.45
          ],
          [
           "Air Max 270 (Gray, EU 39)",
           8.75
          ],
          [
           "Instapump Fury (Black, EU 46)",
           8.5
          ],
          [
           "Cortez (Black, EU 40)",
           8.75
          ],
          [
           "Samba (White, EU 46)",
           8.5
          ],
          [
           "FuelCell Rebel (Green, EU 40)",
           8.25
          ],
          [
           "574 (Orange, EU 40)",
           8.5
          ],
          [
           "RS-X3 (Orange, EU 42)",
           8.5
          ],
          [
           "Cali (Red, EU 46)",
           8.45
          ],
          [
           "Clyde (Purple, EU 39)",
           8.75
          ],
          [
           "Clyde (Black, EU 42)",
           8.5
          ],
          [
           "Clyde (Green, EU 44)",
           8.5
          ],
          [
           "Superstar (White, EU 38)",
           8.75
          ],
          [
           "Zig Kinetica (Black, EU 40)",
           8.5
          ],
          [
           "Workout Plus (Gray, EU 38)",
           8.5
          ],
          [
           "Basket (Orange, EU 46)",
           8.75
          ],
          [
           "Alphabounce (Brown, EU 38)",
           8.75
          ],
          [
           "Instapump Fury (Orange, EU 46)",
           8.5
          ],
          [
           "Floatride Run (Yellow, EU 38)",
           8.45
          ],
          [
           "Adizero Adios Pro (Green, EU 39)",
           9.2
          ],
          [
           "996 (Black, EU 38)",
           8.5
          ],
          [
           "Basket (White, EU 38)",
           8.5
          ],
          [
           "Yeezy Boost 350 V2 (Yellow, EU 38)",
           8.65
          ],
          [
           "Ultraboost 21 (Red, EU 46)",
           8.75
          ],
          [
           "Pump Omni Lite (Red, EU 40)",
           8.5
          ],
          [
           "530 (Yellow, EU 44)",
           8.75
          ],
          [
           "Classic Leather (Yellow, EU 38)",
           8.75
          ],
          [
           "Future Rider (White, EU 39)",
           8.5
          ],
          [
           "Smash (Purple, EU 42)",
           8.5
          ],
          [
           "Smash (Red, EU 46)",
           8.5
          ],
          [
           "Air Force 1 (Black, EU 46)",
           8.75
          ],
          [
           "Classic Leather (Gray, EU 46)",
           8.5
          ],
          [
           "NMD R1 (Yellow, EU 38)",
           8.75
          ],
          [
           "Ultraboost 21 (Brown, EU 38)",
           8.75
          ],
          [
           "Zig Kinetica (Blue, EU 44)",
           8.35
          ],
          [
           "990v5 (Green, EU 39)",
           8.75
          ],
          [
           "CrossFit Nano 9 (Yellow, EU 46)",
           8.75
          ],
          [
           "Adizero Adios Pro (Blue, EU 40)",
           8.75
          ],
          [
           "Samba (Gray, EU 46)",
           9.2
          ],
          [
           "Smash (Purple, EU 39)",
           8.2
          ],
          [
           "RC Elite (Blue, EU 38)",
           8.75
          ],
          [
           "Legacy Lifter (Yellow, EU 44)",
           8.75
          ],
          [
           "Workout Plus (Gray, EU 42)",
           8.5
          ],
          [
           "Air Force 1 (Red, EU 42)",
           8.75
          ],
          [
           "Cali (Green, EU 46)",
           8.25
          ],
          [
           "Cortez (Red, EU 44)",
           8.75
          ],
          [
           "CrossFit Nano 9 (White, EU 44)",
           8.75
          ],
          [
           "530 (Black, EU 42)",
           8.75
          ],
          [
           "Club C 85 (Black, EU 40)",
           8.5
          ],
          [
           "Zoom Freak 3 (Black, EU 38)",
           8.75
          ],
          [
           "RS-X3 (Blue, EU 39)",
           8.25
          ],
          [
           "Smash (Black, EU 46)",
           8.5
          ],
          [
           "Workout Plus (Red, EU 46)",
           8.75
          ],
          [
           "Disc Blaze (Orange, EU 46)",
           8.3
          ],
          [
           "Stan Smith (Purple, EU 42)",
           8.75
          ],
          [
           "Air Max 90 (Orange, EU 46)",
           9.2
          ],
          [
           "Zig Kinetica (Yellow, EU 39)",
           8.65
          ],
          [
           "Blazer Mid '77 (Orange, EU 39)",
           8.5
          ],
          [
           "RS-X3 (Black, EU 46)",
           8.5
          ],
          [
           "ZoomX Vaporfly Next% (Gray, EU 39)",
           9.2
          ],
          [
           "Floatride Run (White, EU 40)",
           7.85
          ],
          [
           "ZoomX Vaporfly Next% (Green, EU 39)",
           9.5
          ],
          [
           "Pump Omni Lite (Black, EU 46)",
           8.5
          ],
          [
           "Fresh Foam 1080 (Blue, EU 44)",
           9
          ],
          [
           "ZoomX Vaporfly Next% (Yellow, EU 46)",
           9.5
          ],
          [
           "FuelCell Rebel (White, EU 38)",
           8.75
          ],
          [
           "530 (Red, EU 40)",
           8.75
          ],
          [
           "Legacy Lifter (Yellow, EU 39)",
           8.5
          ],
          [
           "Cortez (Green, EU 38)",
           8.75
          ],
          [
           "Future Rider (Blue, EU 46)",
           8.5
          ],
          [
           "Adizero Adios Pro (Blue, EU 44)",
           8.75
          ],
          [
           "574 (Red, EU 39)",
           8.6
          ],
          [
           "Nano X (Red, EU 38)",
           8.5
          ],
          [
           "990v5 (Orange, EU 39)",
           9.1
          ],
          [
           "327 (Red, EU 44)",
           8.75
          ],
          [
           "FuelCell Rebel (Yellow, EU 39)",
           8.75
          ],
          [
           "Alphabounce (Orange, EU 39)",
           8.5
          ],
          [
           "FuelCell Rebel (Purple, EU 39)",
           8.5
          ],
          [
           "Club C 85 (Purple, EU 42)",
           8.75
          ],
          [
           "Air Max 90 (Yellow, EU 40)",
           8.75
          ],
          [
           "992 (White, EU 39)",
           8.75
          ],
          [
           "Ignite (Brown, EU 46)",
           8.65
          ],
          [
           "Yeezy 700 (Gray, EU 42)",
           8.75
          ],
          [
           "1080v11 (Black, EU 40)",
           9.2
          ],
          [
           "Future Rider (Red, EU 42)",
           8.5
          ],
          [
           "Disc Blaze (Brown, EU 46)",
           8.75
          ],
          [
           "Clyde (Yellow, EU 39)",
           8.25
          ],
          [
           "Air Max 270 (Green, EU 42)",
           8.75
          ],
          [
           "Yeezy 700 (Gray, EU 44)",
           8.75
          ],
          [
           "Yeezy Boost 350 V2 (Purple, EU 40)",
           8.9
          ],
          [
           "Instapump Fury (Purple, EU 38)",
           8.5
          ],
          [
           "327 (Yellow, EU 39)",
           8.75
          ],
          [
           "Basket (Gray, EU 46)",
           8.7
          ],
          [
           "327 (White, EU 38)",
           8.75
          ],
          [
           "ZoomX Vaporfly Next% (White, EU 38)",
           9.2
          ],
          [
           "Zoom Freak 3 (Red, EU 38)",
           8.75
          ],
          [
           "Suede Classic (Brown, EU 46)",
           8.25
          ],
          [
           "Suede Classic (Green, EU 44)",
           8.75
          ],
          [
           "React Infinity Run (Orange, EU 44)",
           8.75
          ],
          [
           "Ignite Limitless (Yellow, EU 46)",
           8.5
          ],
          [
           "Dunk Low (Orange, EU 39)",
           8.75
          ],
          [
           "Air Zoom Pegasus 38 (Gray, EU 39)",
           8.75
          ],
          [
           "RC Elite (Red, EU 42)",
           8.75
          ],
          [
           "Cali (White, EU 40)",
           8.5
          ],
          [
           "Workout Plus (Yellow, EU 40)",
           8.3
          ],
          [
           "Alphabounce (Yellow, EU 40)",
           8.5
          ],
          [
           "Gazelle (Brown, EU 39)",
           8.5
          ],
          [
           "Stan Smith (Red, EU 46)",
           8.75
          ],
          [
           "Air Max 90 (Red, EU 39)",
           8.7
          ],
          [
           "574 (Blue, EU 38)",
           8.5
          ],
          [
           "Yeezy Boost 350 V2 (Blue, EU 46)",
           8.75
          ],
          [
           "530 (Gray, EU 46)",
           8.5
          ],
          [
           "Zig Kinetica (Yellow, EU 40)",
           8.5
          ],
          [
           "Samba (Purple, EU 46)",
           8.5
          ],
          [
           "NMD R1 (Brown, EU 40)",
           8.5
          ],
          [
           "Zoom Freak 3 (Green, EU 38)",
           8.75
          ],
          [
           "Nano X (White, EU 39)",
           8.5
          ],
          [
           "1080v11 (Brown, EU 40)",
           8.75
          ],
          [
           "990v5 (Orange, EU 38)",
           8.75
          ],
          [
           "Classic Leather (Purple, EU 46)",
           8.5
          ],
          [
           "Smash (Green, EU 46)",
           8.5
          ],
          [
           "574 (Blue, EU 40)",
           8.75
          ],
          [
           "Superstar (Yellow, EU 40)",
           8.75
          ],
          [
           "Club C 85 (Blue, EU 42)",
           8.5
          ],
          [
           "Cortez (Gray, EU 44)",
           8.75
          ],
          [
           "Air Max 90 (Black, EU 46)",
           8.75
          ],
          [
           "React Infinity Run (Brown, EU 38)",
           8.75
          ],
          [
           "FuelCell Rebel (Brown, EU 39)",
           8.45
          ],
          [
           "Pump Omni Lite (White, EU 42)",
           8.7
          ],
          [
           "RC Elite (Gray, EU 42)",
           9.2
          ],
          [
           "Legacy Lifter (Gray, EU 38)",
           8.75
          ],
          [
           "Blazer Mid '77 (Brown, EU 42)",
           8.76
          ],
          [
           "Clyde (White, EU 46)",
           8.75
          ],
          [
           "Air Force 1 (Green, EU 42)",
           8.75
          ],
          [
           "Gazelle (White, EU 40)",
           8.75
          ],
          [
           "996 (Green, EU 42)",
           8.75
          ],
          [
           "992 (Gray, EU 42)",
           8.7
          ],
          [
           "Air Zoom Pegasus 38 (Brown, EU 39)",
           8.75
          ],
          [
           "Adizero Adios Pro (Black, EU 39)",
           8.75
          ],
          [
           "Club C 85 (Purple, EU 38)",
           8.5
          ],
          [
           "NMD R1 (Green, EU 39)",
           8.6
          ],
          [
           "React Infinity Run (Red, EU 46)",
           8.75
          ],
          [
           "Dunk Low (Green, EU 38)",
           8.75
          ],
          [
           "Disc Blaze (Brown, EU 42)",
           8.75
          ],
          [
           "Stan Smith (Black, EU 46)",
           8.75
          ],
          [
           "Gazelle (Green, EU 38)",
           8.75
          ],
          [
           "Ignite Limitless (Brown, EU 39)",
           8.5
          ],
          [
           "React Infinity Run (Brown, EU 40)",
           8.75
          ],
          [
           "Dunk Low (Gray, EU 40)",
           8.75
          ],
          [
           "Nano X (White, EU 42)",
           8.5
          ],
          [
           "Ignite Limitless (White, EU 39)",
           8.25
          ],
          [
           "Zoom Freak 3 (White, EU 38)",
           8.75
          ],
          [
           "Dunk Low (Brown, EU 40)",
           8.75
          ],
          [
           "Legacy Lifter (Gray, EU 40)",
           8.75
          ],
          [
           "RC Elite (Brown, EU 42)",
           8.45
          ],
          [
           "530 (Yellow, EU 42)",
           8.5
          ],
          [
           "Nano X (Gray, EU 42)",
           8.5
          ],
          [
           "574 (Brown, EU 44)",
           8.5
          ],
          [
           "Basket (Gray, EU 44)",
           8.5
          ],
          [
           "ZoomX Vaporfly Next% (Black, EU 46)",
           9.2
          ],
          [
           "Classic Leather (Blue, EU 46)",
           8.5
          ],
          [
           "Superstar (White, EU 46)",
           8.95
          ],
          [
           "327 (Brown, EU 38)",
           8.75
          ],
          [
           "Stan Smith (White, EU 40)",
           8.5
          ],
          [
           "CrossFit Nano 9 (White, EU 39)",
           8.75
          ],
          [
           "Club C 85 (Green, EU 44)",
           8.5
          ],
          [
           "996 (Gray, EU 42)",
           8.5
          ],
          [
           "Suede Classic (Black, EU 38)",
           8.5
          ],
          [
           "Stan Smith (Blue, EU 39)",
           8.75
          ],
          [
           "Future Rider (Red, EU 40)",
           8.5
          ],
          [
           "Yeezy 700 (Orange, EU 44)",
           8.5
          ],
          [
           "NMD R1 (Brown, EU 46)",
           8.75
          ],
          [
           "992 (Purple, EU 42)",
           9.2
          ],
          [
           "Air Force 1 (Yellow, EU 42)",
           9.2
          ],
          [
           "Fresh Foam 1080 (Purple, EU 39)",
           8.75
          ],
          [
           "Blazer Mid '77 (Brown, EU 44)",
           8.75
          ],
          [
           "CrossFit Nano 9 (White, EU 46)",
           8.75
          ],
          [
           "Instapump Fury (Red, EU 40)",
           8.5
          ],
          [
           "Floatride Run (Red, EU 40)",
           8.5
          ],
          [
           "RS-X3 (Green, EU 40)",
           8.2
          ],
          [
           "Yeezy Boost 350 V2 (Black, EU 38)",
           8.75
          ],
          [
           "Future Rider (Blue, EU 42)",
           8.5
          ],
          [
           "Floatride Run (Gray, EU 39)",
           8.25
          ],
          [
           "Ignite (Yellow, EU 44)",
           8.75
          ],
          [
           "Air Max 270 (Black, EU 39)",
           8.75
          ],
          [
           "Classic Leather (White, EU 44)",
           8.5
          ],
          [
           "992 (Brown, EU 42)",
           9.2
          ],
          [
           "990v5 (Blue, EU 39)",
           9.2
          ],
          [
           "React Infinity Run (Brown, EU 42)",
           8.75
          ],
          [
           "Nano X (Orange, EU 46)",
           8.75
          ],
          [
           "1080v11 (Blue, EU 46)",
           9.2
          ],
          [
           "Adizero Adios Pro (Yellow, EU 40)",
           8.75
          ],
          [
           "Yeezy Boost 350 V2 (Purple, EU 46)",
           8.75
          ],
          [
           "Cali (Orange, EU 46)",
           8.2
          ],
          [
           "1080v11 (Green, EU 42)",
           8.75
          ],
          [
           "Suede Classic (White, EU 46)",
           8.5
          ],
          [
           "Pump Omni Lite (Blue, EU 40)",
           8.5
          ],
          [
           "Disc Blaze (Blue, EU 44)",
           8.25
          ]
         ],
         "hovertemplate": "category=Shoes<br>price=%{x}<br>quantity_sold=%{y}<br>revenue=%{marker.size}<br>product_name=%{customdata[0]}<br>rating=%{customdata[1]}<extra></extra>",
         "legendgroup": "Shoes",
         "marker": {
          "color": "#FF97FF",
          "size": {
           "bdata": "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",
           "dtype": "f8"
          },
          "sizemode": "area",
          "sizeref": 9670.1,
          "symbol": "circle"
         },
         "mode": "markers",
         "name": "Shoes",
         "showlegend": true,
         "type": "scattergl",
         "x": {
          "bdata": "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",
          "dtype": "f8"
         },
         "xaxis": "x",
         "y": {
          "bdata": "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",
          "dtype": "f8"
         },
         "yaxis": "y"
        },
        {
         "customdata": [
          [
           "XEGS (White)",
           6.5
          ],
          [
           "Switch OLED (Red)",
           9.2
          ],
          [
           "Wii (Red)",
           8.75
          ],
          [
           "Switch OLED (Purple)",
           8.75
          ],
          [
           "Genesis Mini (Black)",
           8.5
          ],
          [
           "XEGS (Brown)",
           7.5
          ],
          [
           "PlayStation Classic (Blue)",
           7.5
          ],
          [
           "Flashback Portable (Brown)",
           8
          ],
          [
           "Pico (Yellow)",
           7.5
          ],
          [
           "PlayStation 3 (Black)",
           8.5
          ],
          [
           "PlayStation 1 (Red)",
           8.5
          ],
          [
           "Flashback Portable (Red)",
           7.5
          ],
          [
           "PlayStation 4 (Gray)",
           8.5
          ],
          [
           "Xbox Series X (Black)",
           9.2
          ],
          [
           "Xbox Series X (White)",
           8.75
          ],
          [
           "Kinect (Green)",
           7.85
          ],
          [
           "Flashback 8 (Gray)",
           8.5
          ],
          [
           "Saturn (Yellow)",
           7.5
          ],
          [
           "Lynx (Yellow)",
           7.5
          ],
          [
           "Kinect (Gray)",
           7.85
          ],
          [
           "PlayStation 5 (Blue)",
           9.5
          ],
          [
           "GameCube (White)",
           8.5
          ],
          [
           "Game Gear (White)",
           8.5
          ],
          [
           "Lynx (Brown)",
           7.5
          ],
          [
           "PlayStation 3 (White)",
           7.5
          ],
          [
           "Switch Lite (Black)",
           8.75
          ],
          [
           "SNES (Brown)",
           9.5
          ],
          [
           "PlayStation Classic (Yellow)",
           7.5
          ],
          [
           "Switch (Gray)",
           9.25
          ],
          [
           "Xbox One (Blue)",
           8.75
          ],
          [
           "VCS (2021) (Gray)",
           7.5
          ],
          [
           "PSX (Purple)",
           8.45
          ],
          [
           "Xbox One X (Blue)",
           8.5
          ],
          [
           "Flashback 8 (Green)",
           7.5
          ],
          [
           "Xbox One (Red)",
           8.75
          ],
          [
           "Game Gear (Yellow)",
           8.5
          ],
          [
           "Xbox 360 (Red)",
           8.5
          ],
          [
           "32X (Yellow)",
           7.85
          ],
          [
           "Genesis (Yellow)",
           8.75
          ],
          [
           "PlayStation 4 (Black)",
           8.75
          ],
          [
           "PSX (Purple)",
           8.45
          ],
          [
           "Nomad (Orange)",
           8.5
          ],
          [
           "2600 (Brown)",
           8.5
          ],
          [
           "PlayStation 2 (White)",
           8.75
          ],
          [
           "N64 (Orange)",
           8.5
          ],
          [
           "Pico (Green)",
           8.5
          ],
          [
           "PlayStation Classic (White)",
           7.5
          ],
          [
           "PlayStation 4 (Blue)",
           8.75
          ],
          [
           "32X (Brown)",
           7.5
          ],
          [
           "Xbox Series X (Red)",
           9.2
          ],
          [
           "VCS (2021) (White)",
           7.5
          ],
          [
           "Genesis Mini (Purple)",
           8.75
          ],
          [
           "PlayStation Classic (Green)",
           7.5
          ],
          [
           "Xbox 360 Elite (Green)",
           7.5
          ],
          [
           "PlayStation 3 (Green)",
           7.5
          ],
          [
           "PS TV (Blue)",
           8.5
          ],
          [
           "PSP (Brown)",
           8.75
          ],
          [
           "Pico (Purple)",
           7.5
          ],
          [
           "7800 (Green)",
           8.75
          ],
          [
           "Game Boy Advance (Orange)",
           8.5
          ],
          [
           "PSP (White)",
           8.5
          ],
          [
           "Saturn (Green)",
           8.5
          ],
          [
           "Xbox 360 Arcade (Blue)",
           7.5
          ],
          [
           "Xbox 360 Arcade (Orange)",
           7.8
          ],
          [
           "Xbox (Blue)",
           8.75
          ],
          [
           "Game Boy Advance (Gray)",
           8.5
          ],
          [
           "Flashback Portable (White)",
           7.5
          ],
          [
           "Mega Drive Mini (Blue)",
           8.75
          ],
          [
           "Xbox One X (Purple)",
           8.75
          ],
          [
           "5200 (Orange)",
           7.5
          ],
          [
           "PlayStation 1 (Brown)",
           8.5
          ],
          [
           "Mega Drive Mini (Yellow)",
           8.75
          ],
          [
           "Xbox One X (White)",
           8.75
          ],
          [
           "PlayStation 2 (Blue)",
           8.5
          ],
          [
           "PlayStation 3 (Purple)",
           7.5
          ],
          [
           "Dreamcast (Orange)",
           8.5
          ],
          [
           "Wii U (White)",
           7.5
          ],
          [
           "Wii U (Red)",
           8.5
          ],
          [
           "PlayStation 2 (Orange)",
           8.5
          ],
          [
           "Wii U (Green)",
           8.5
          ],
          [
           "PSX (Green)",
           9.25
          ],
          [
           "Xbox 360 (Purple)",
           7.5
          ],
          [
           "PlayStation 5 (Red)",
           9.5
          ],
          [
           "Mega Drive Mini (Black)",
           9.2
          ],
          [
           "7800 (Blue)",
           7.5
          ],
          [
           "Switch Lite (Blue)",
           8.75
          ],
          [
           "Dreamcast (Gray)",
           8.5
          ],
          [
           "Jaguar (Brown)",
           7.5
          ],
          [
           "Switch Lite (Brown)",
           8.75
          ],
          [
           "Kinect (Orange)",
           8.5
          ],
          [
           "Wii (Yellow)",
           7.5
          ],
          [
           "Dreamcast (Red)",
           8.7
          ],
          [
           "PS Vita (Orange)",
           8.5
          ],
          [
           "SNES (Orange)",
           9.2
          ],
          [
           "ST (Purple)",
           7.85
          ],
          [
           "Switch OLED (Orange)",
           9.2
          ],
          [
           "Xbox 360 Elite (Orange)",
           7.5
          ],
          [
           "PS TV (Green)",
           7.5
          ],
          [
           "PS TV (Brown)",
           8.5
          ],
          [
           "PlayStation 2 (Black)",
           8.5
          ],
          [
           "Xbox 360 (Blue)",
           7.5
          ],
          [
           "PS Vita (White)",
           8.5
          ],
          [
           "NES (White)",
           9.5
          ],
          [
           "N64 (Green)",
           8.75
          ],
          [
           "XEGS (Gray)",
           7.5
          ],
          [
           "NES (Green)",
           8.5
          ],
          [
           "Wii (White)",
           8.75
          ],
          [
           "Nomad (Gray)",
           7.5
          ],
          [
           "Xbox 360 Elite (Yellow)",
           7.5
          ],
          [
           "Flashback Portable (Blue)",
           8.25
          ],
          [
           "Switch (Black)",
           9.2
          ],
          [
           "Xbox One (Gray)",
           8.5
          ],
          [
           "2600 (White)",
           8.5
          ],
          [
           "Genesis Mini (Gray)",
           9
          ],
          [
           "Switch Lite (Yellow)",
           8.75
          ],
          [
           "Dreamcast (Black)",
           8.5
          ],
          [
           "ST (Gray)",
           7.5
          ],
          [
           "Mega Drive Mini (Orange)",
           8.75
          ],
          [
           "PlayStation 5 (Black)",
           9.3
          ],
          [
           "Wii (Orange)",
           8.75
          ],
          [
           "N64 (Brown)",
           8.25
          ],
          [
           "5200 (Brown)",
           7.5
          ],
          [
           "Xbox One X (Red)",
           8.5
          ],
          [
           "PSX (Yellow)",
           8.75
          ],
          [
           "Xbox Series X (Purple)",
           9.5
          ],
          [
           "Saturn (White)",
           8.75
          ],
          [
           "Wii U (Black)",
           8.5
          ],
          [
           "Lynx (Blue)",
           7.5
          ],
          [
           "Xbox 360 Arcade (Black)",
           7.85
          ],
          [
           "NES (Orange)",
           8.5
          ],
          [
           "PSP (Blue)",
           8.5
          ],
          [
           "N64 (Gray)",
           8.5
          ],
          [
           "Xbox One S (Brown)",
           8.5
          ],
          [
           "5200 (Black)",
           7.5
          ],
          [
           "SNES (Blue)",
           8.75
          ],
          [
           "PS Vita (Yellow)",
           8.5
          ],
          [
           "Xbox Series S (Green)",
           8.5
          ],
          [
           "VCS (2021) (Green)",
           7.5
          ],
          [
           "PS Vita (Brown)",
           8.5
          ],
          [
           "Xbox 360 (Green)",
           7.5
          ],
          [
           "PSP (Black)",
           8.5
          ],
          [
           "7800 (Yellow)",
           7.5
          ],
          [
           "ST (Blue)",
           7.5
          ],
          [
           "Kinect (Brown)",
           7.85
          ],
          [
           "5200 (Blue)",
           7.8
          ],
          [
           "PlayStation 4 (Green)",
           8.75
          ],
          [
           "PlayStation 1 (Yellow)",
           8.5
          ],
          [
           "Xbox 360 Arcade (White)",
           7.5
          ],
          [
           "Xbox One S (Black)",
           8.5
          ],
          [
           "ST (Yellow)",
           7.5
          ],
          [
           "N64 (Purple)",
           9
          ],
          [
           "PlayStation 1 (White)",
           8.5
          ],
          [
           "Game Gear (Blue)",
           8.25
          ],
          [
           "Lynx (Gray)",
           7.5
          ],
          [
           "Nomad (Purple)",
           7.5
          ],
          [
           "2600 (Black)",
           7.5
          ],
          [
           "7800 (White)",
           7.5
          ],
          [
           "GameCube (Yellow)",
           8.5
          ],
          [
           "Pico (Blue)",
           7.5
          ],
          [
           "2600 (Blue)",
           8.5
          ],
          [
           "Master System (Green)",
           7.5
          ],
          [
           "Master System (Blue)",
           7.5
          ],
          [
           "Wii (Black)",
           8.75
          ],
          [
           "Master System (Yellow)",
           8
          ],
          [
           "VCS (2021) (Brown)",
           7.5
          ],
          [
           "XEGS (Orange)",
           7.5
          ],
          [
           "PSX (Orange)",
           8.5
          ],
          [
           "Jaguar (Purple)",
           7.5
          ],
          [
           "Game Gear (Gray)",
           8.5
          ],
          [
           "PS TV (Gray)",
           7.5
          ],
          [
           "VCS (2021) (Orange)",
           7.5
          ],
          [
           "Xbox One S (Orange)",
           8.75
          ],
          [
           "NES (Red)",
           8.5
          ],
          [
           "Saturn (Orange)",
           8.5
          ],
          [
           "7800 (Purple)",
           7.5
          ],
          [
           "Lynx (Black)",
           8.25
          ],
          [
           "Nomad (Red)",
           8.5
          ],
          [
           "Flashback Portable (Purple)",
           7.8
          ],
          [
           "Game Boy Advance (Red)",
           9
          ],
          [
           "Switch (White)",
           9.5
          ],
          [
           "ST (Black)",
           7.5
          ],
          [
           "Xbox (Brown)",
           8.75
          ],
          [
           "32X (Green)",
           5.5
          ],
          [
           "Xbox 360 Arcade (Yellow)",
           7.25
          ],
          [
           "Wii U (Blue)",
           8.5
          ],
          [
           "Flashback 8 (Orange)",
           7.5
          ],
          [
           "Genesis Mini (Brown)",
           8.75
          ],
          [
           "Jaguar (Gray)",
           7.5
          ],
          [
           "5200 (White)",
           7.5
          ],
          [
           "Genesis (Orange)",
           8.5
          ],
          [
           "Flashback 8 (White)",
           7.5
          ],
          [
           "Jaguar (Orange)",
           6.5
          ],
          [
           "Flashback 8 (Yellow)",
           7.85
          ]
         ],
         "hovertemplate": "category=Gaming Consoles<br>price=%{x}<br>quantity_sold=%{y}<br>revenue=%{marker.size}<br>product_name=%{customdata[0]}<br>rating=%{customdata[1]}<extra></extra>",
         "legendgroup": "Gaming Consoles",
         "marker": {
          "color": "#FECB52",
          "size": {
           "bdata": "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",
           "dtype": "f8"
          },
          "sizemode": "area",
          "sizeref": 9670.1,
          "symbol": "circle"
         },
         "mode": "markers",
         "name": "Gaming Consoles",
         "showlegend": true,
         "type": "scattergl",
         "x": {
          "bdata": "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",
          "dtype": "f8"
         },
         "xaxis": "x",
         "y": {
          "bdata": "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",
          "dtype": "f8"
         },
         "yaxis": "y"
        },
        {
         "customdata": [
          [
           "BCI600XL Smart Scoop (Yellow)",
           8.75
          ],
          [
           "Juice Fountain Elite (Red)",
           9.2
          ],
          [
           "Cold Brew Coffee Maker (Red)",
           8.6
          ],
          [
           "KSB1570ER 5-Speed Blender (Blue)",
           8.75
          ],
          [
           "Air Fryer XXL (Orange)",
           8.75
          ],
          [
           "Smart Screen Blender (Green)",
           8.75
          ],
          [
           "HD2137 Pressure Cooker (Red)",
           8.75
          ],
          [
           "The Grind Control (Green)",
           8.75
          ],
          [
           "Barista Express (Gray)",
           9.12
          ],
          [
           "Spiralizer Attachment (Yellow)",
           8.75
          ],
          [
           "Duo Crisp + Air Fryer (Gray)",
           9.2
          ],
          [
           "Duo 7-in-1 (Green)",
           8.5
          ],
          [
           "Smart WiFi (Yellow)",
           8.75
          ],
          [
           "Foodi Smoothie Bowl Maker (Blue)",
           9.2
          ],
          [
           "Duo Crisp + Air Fryer (Brown)",
           8.75
          ],
          [
           "One-Touch Tea Maker (Red)",
           8.75
          ],
          [
           "Duo Nova (Black)",
           8.75
          ],
          [
           "One-Touch Tea Maker (Blue)",
           8.75
          ],
          [
           "The Bambino Plus (Purple)",
           8.75
          ],
          [
           "Foodi Multi-Cooker (Brown)",
           9.2
          ],
          [
           "Duo Crisp + Air Fryer (Red)",
           9.25
          ],
          [
           "Ultra 10-in-1 (Orange)",
           8.75
          ],
          [
           "Juice Fountain Elite (Gray)",
           9.2
          ],
          [
           "Nutri Pro Blender (Yellow)",
           8.75
          ],
          [
           "Foodi Digital Air Fry Oven (Orange)",
           8.75
          ],
          [
           "Daily Collection Kettle (Yellow)",
           8.3
          ],
          [
           "Hot and Cold Brewed System (Black)",
           9.25
          ],
          [
           "Classic Hand Mixer (Red)",
           9.2
          ],
          [
           "XXL Grill (Brown)",
           8.75
          ],
          [
           "The Grind Control (Red)",
           8.75
          ],
          [
           "Smart WiFi (Gray)",
           8.75
          ],
          [
           "Foodi Multi-Cooker (Purple)",
           8.7
          ],
          [
           "Hot and Cold Brewed System (Green)",
           9.2
          ],
          [
           "2-Slice Toaster (Gray)",
           8.5
          ],
          [
           "Food Processor KFP1466 (Purple)",
           8.75
          ],
          [
           "Precision Brewer (Green)",
           8.75
          ],
          [
           "Master Prep Professional (Brown)",
           8.75
          ],
          [
           "Nutri Pro Blender (Green)",
           8.75
          ],
          [
           "KSB1570ER 5-Speed Blender (Green)",
           8.75
          ],
          [
           "Barista Express (Blue)",
           9.2
          ],
          [
           "Cold Brew Coffee Maker (Black)",
           8.75
          ],
          [
           "Viva (Green)",
           8.75
          ],
          [
           "Juice Fountain Elite (Yellow)",
           8.75
          ],
          [
           "Air Fryer XXL (Yellow)",
           9.25
          ],
          [
           "Precision Brewer (Red)",
           9.2
          ],
          [
           "Smart WiFi (Black)",
           8.75
          ],
          [
           "Nutri Pro Blender (White)",
           8.8
          ],
          [
           "Viva (White)",
           9
          ],
          [
           "Precision Brewer (Blue)",
           8.75
          ],
          [
           "Duo Evo Plus (Red)",
           8.75
          ],
          [
           "Artisan Stand Mixer (Blue)",
           9.2
          ],
          [
           "Food Processor KFP1466 (White)",
           8.75
          ],
          [
           "Duo 7-in-1 (Orange)",
           8.75
          ],
          [
           "Pasta Maker (Gray)",
           8.75
          ],
          [
           "Barista Express (Brown)",
           9.25
          ],
          [
           "5-Speed Classic Blender (White)",
           8.75
          ],
          [
           "Hot Wok Pro (Red)",
           8.75
          ],
          [
           "Master Prep Professional (White)",
           8.75
          ],
          [
           "Professional Blender (Yellow)",
           8.75
          ],
          [
           "HR3752 Blender (White)",
           8.7
          ],
          [
           "Professional Blender (Black)",
           8.75
          ],
          [
           "HR3752 Blender (Brown)",
           8.5
          ],
          [
           "Hot Wok Pro (Orange)",
           8.75
          ],
          [
           "BCI600XL Smart Scoop (Black)",
           9.3
          ],
          [
           "13-Cup Food Processor KFP1333 (Black)",
           8.75
          ],
          [
           "Pro Line Series Blender (Blue)",
           9.3
          ],
          [
           "Foodi Grill (Red)",
           9.3
          ],
          [
           "Viva Collection Juicer (Blue)",
           8.5
          ],
          [
           "XXL Grill (Green)",
           8.5
          ],
          [
           "Smart Oven Air (Orange)",
           9.2
          ],
          [
           "Duo Plus (Black)",
           8.75
          ],
          [
           "Max (Black)",
           9.3
          ],
          [
           "One-Touch Tea Maker (White)",
           8.75
          ],
          [
           "Spiralizer Attachment (Brown)",
           8.75
          ],
          [
           "Professional Blender (Blue)",
           8.75
          ],
          [
           "Food Processor KFP1466 (Orange)",
           9.2
          ],
          [
           "Pro Line Series Blender (White)",
           9.2
          ],
          [
           "5-Speed Classic Blender (Purple)",
           8.75
          ],
          [
           "Smart Oven Air (Black)",
           8.75
          ],
          [
           "Duo Plus (Brown)",
           9.2
          ],
          [
           "Duo Plus (Red)",
           9.45
          ],
          [
           "Foodi Smoothie Bowl Maker (White)",
           8.75
          ],
          [
           "HD9650/99 Premium Airfryer (Blue)",
           8.75
          ],
          [
           "Air Fryer AF101 (Blue)",
           9.25
          ],
          [
           "HD2137 Pressure Cooker (Orange)",
           8.75
          ],
          [
           "Hot and Cold Brewed System (Purple)",
           8.75
          ],
          [
           "Duo Nova (White)",
           9.25
          ],
          [
           "Avance Collection Indoor Grill (White)",
           8.5
          ],
          [
           "Smart Screen Blender (Gray)",
           8.75
          ],
          [
           "Duo 7-in-1 (Yellow)",
           8.75
          ],
          [
           "Pasta Maker (Orange)",
           8.75
          ],
          [
           "Classic Hand Mixer (Purple)",
           8.75
          ],
          [
           "Soup Maker (Blue)",
           8.75
          ],
          [
           "Panini Duo (Gray)",
           8.75
          ],
          [
           "Avance Collection Indoor Grill (Brown)",
           8.5
          ],
          [
           "Panini Duo (Red)",
           8.75
          ],
          [
           "Hot Wok Pro (Yellow)",
           8.75
          ],
          [
           "Foodi Grill (Blue)",
           9
          ],
          [
           "Food Processor KFP1466 (Brown)",
           9.15
          ],
          [
           "Air Fryer XXL (Gray)",
           8.75
          ],
          [
           "Duo Nova (Red)",
           8.75
          ],
          [
           "Duo Evo Plus (Gray)",
           8.7
          ],
          [
           "Foodi Grill (Blue)",
           9
          ],
          [
           "2-Slice Toaster (Purple)",
           8.75
          ],
          [
           "The Bambino Plus (Orange)",
           8.75
          ],
          [
           "Foodi Smoothie Bowl Maker (Yellow)",
           8.65
          ],
          [
           "13-Cup Food Processor KFP1333 (Green)",
           8.75
          ],
          [
           "13-Cup Food Processor KFP1333 (Gray)",
           8.75
          ],
          [
           "Artisan Stand Mixer (Green)",
           9.5
          ],
          [
           "The Grind Control (Brown)",
           8.75
          ],
          [
           "Foodi Grill (Black)",
           9.2
          ],
          [
           "Daily Collection Kettle (Purple)",
           8.5
          ],
          [
           "Viva Collection Juicer (Orange)",
           8.45
          ],
          [
           "Foodi Multi-Cooker (Green)",
           8.75
          ],
          [
           "Foodi Smoothie Bowl Maker (Orange)",
           8.5
          ],
          [
           "The Grind Control (Blue)",
           8.75
          ],
          [
           "The Bambino Plus (Green)",
           9.2
          ],
          [
           "The Grind Control (Gray)",
           8.75
          ],
          [
           "Pasta Maker (Green)",
           8.75
          ],
          [
           "Foodi Digital Air Fry Oven (Red)",
           9
          ],
          [
           "Daily Collection Kettle (Brown)",
           8.5
          ],
          [
           "Hot and Cold Brewed System (Red)",
           8.75
          ],
          [
           "Viva Collection Juicer (White)",
           8.75
          ],
          [
           "Smart Screen Blender (Brown)",
           8.75
          ],
          [
           "HD9650/99 Premium Airfryer (Orange)",
           8.75
          ],
          [
           "Pro 10-in-1 (Blue)",
           9.25
          ],
          [
           "Pasta Maker (White)",
           8.75
          ],
          [
           "HD2137 Pressure Cooker (Brown)",
           8.45
          ],
          [
           "Ultra 10-in-1 (Blue)",
           8.75
          ],
          [
           "HD9650/99 Premium Airfryer (Gray)",
           8.75
          ],
          [
           "Classic Hand Mixer (Black)",
           8.75
          ],
          [
           "Duo Nova (Blue)",
           9.25
          ],
          [
           "HD2137 Pressure Cooker (Black)",
           8.75
          ],
          [
           "Duo Evo Plus (Blue)",
           9.25
          ],
          [
           "Juice Fountain Elite (Black)",
           8.75
          ],
          [
           "Precision Brewer (Orange)",
           8.75
          ],
          [
           "HR3752 Blender (Orange)",
           8.75
          ],
          [
           "Air Fryer XXL (Black)",
           9.2
          ],
          [
           "Duo Plus (Orange)",
           9.25
          ],
          [
           "5-Speed Classic Blender (Brown)",
           8.75
          ],
          [
           "Duo 7-in-1 (Purple)",
           9.2
          ],
          [
           "Duo Evo Plus (Brown)",
           9.2
          ],
          [
           "Air Fryer AF101 (Yellow)",
           9.2
          ],
          [
           "Cold Brew Coffee Maker (Yellow)",
           8.45
          ],
          [
           "Soup Maker (Purple)",
           8.5
          ],
          [
           "Spiralizer Attachment (White)",
           8.75
          ],
          [
           "BCI600XL Smart Scoop (White)",
           8.75
          ],
          [
           "KSB1570ER 5-Speed Blender (Gray)",
           8.75
          ],
          [
           "Precision Brewer (Yellow)",
           8.75
          ],
          [
           "Master Prep Professional (Green)",
           8.75
          ],
          [
           "Viva Collection Juicer (Black)",
           8.5
          ],
          [
           "Classic Hand Mixer (Yellow)",
           9.25
          ],
          [
           "Foodi Grill (Gray)",
           8.75
          ],
          [
           "Food Processor KFP1466 (Red)",
           8.75
          ],
          [
           "Nutri Pro Blender (Blue)",
           8.75
          ],
          [
           "Max (Yellow)",
           9.2
          ],
          [
           "Duo Evo Plus (White)",
           9.2
          ],
          [
           "Air Fryer AF101 (Red)",
           8.75
          ],
          [
           "Foodi Digital Air Fry Oven (White)",
           8.75
          ],
          [
           "Professional Blender (Purple)",
           8.75
          ],
          [
           "HR3752 Blender (Black)",
           8.7
          ],
          [
           "Smart Oven Air (White)",
           8.75
          ],
          [
           "Viva (Black)",
           8.75
          ],
          [
           "Pro 10-in-1 (Gray)",
           9.2
          ],
          [
           "Ultra 10-in-1 (White)",
           8.85
          ],
          [
           "Spiralizer Attachment (Blue)",
           9.25
          ],
          [
           "2-Slice Toaster (Orange)",
           8.75
          ],
          [
           "Avance Collection Indoor Grill (Black)",
           8.75
          ],
          [
           "XXL Grill (Orange)",
           8.75
          ],
          [
           "Foodi Digital Air Fry Oven (Purple)",
           9.2
          ],
          [
           "Foodi Grill (White)",
           9.2
          ],
          [
           "HD2137 Pressure Cooker (Gray)",
           8.75
          ],
          [
           "Foodi Digital Air Fry Oven (Gray)",
           8.75
          ],
          [
           "Air Fryer AF101 (Green)",
           8.75
          ],
          [
           "Hot Wok Pro (White)",
           8.75
          ],
          [
           "BCI600XL Smart Scoop (Green)",
           8.75
          ],
          [
           "Pro Line Series Blender (Black)",
           9.25
          ],
          [
           "HD9650/99 Premium Airfryer (Yellow)",
           8.75
          ],
          [
           "Max (Red)",
           8.75
          ],
          [
           "Pro 10-in-1 (Yellow)",
           8.75
          ],
          [
           "Pro 10-in-1 (Purple)",
           9.15
          ],
          [
           "Duo 7-in-1 (Red)",
           9.3
          ],
          [
           "Ultra 10-in-1 (Green)",
           8.75
          ],
          [
           "BCI600XL Smart Scoop (Blue)",
           8.75
          ],
          [
           "Panini Duo (White)",
           8.5
          ],
          [
           "Daily Collection Kettle (Green)",
           8.2
          ],
          [
           "Pro 10-in-1 (Black)",
           9.2
          ],
          [
           "Master Prep Professional (Yellow)",
           8.5
          ],
          [
           "Air Fryer AF101 (Black)",
           9.05
          ],
          [
           "Soup Maker (Yellow)",
           8.25
          ],
          [
           "Duo Crisp + Air Fryer (Black)",
           8.75
          ],
          [
           "Pro Line Series Blender (Green)",
           9.25
          ],
          [
           "Panini Duo (Green)",
           8.75
          ],
          [
           "Viva Collection Juicer (Brown)",
           8.75
          ],
          [
           "Smart Oven Air (Gray)",
           8.75
          ],
          [
           "Duo Crisp + Air Fryer (Black)",
           8.75
          ]
         ],
         "hovertemplate": "category=Kitchen<br>price=%{x}<br>quantity_sold=%{y}<br>revenue=%{marker.size}<br>product_name=%{customdata[0]}<br>rating=%{customdata[1]}<extra></extra>",
         "legendgroup": "Kitchen",
         "marker": {
          "color": "#636efa",
          "size": {
           "bdata": "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",
           "dtype": "f8"
          },
          "sizemode": "area",
          "sizeref": 9670.1,
          "symbol": "circle"
         },
         "mode": "markers",
         "name": "Kitchen",
         "showlegend": true,
         "type": "scattergl",
         "x": {
          "bdata": "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",
          "dtype": "f8"
         },
         "xaxis": "x",
         "y": {
          "bdata": "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",
          "dtype": "f8"
         },
         "yaxis": "y"
        },
        {
         "customdata": [
          [
           "65R635 (65\", Gray frame)",
           8.75
          ],
          [
           "Bravia X950H (55\", Orange frame)",
           8.75
          ],
          [
           "RU7100 (75\", Blue frame)",
           8.5
          ],
          [
           "OLED B1 (75\", Black frame)",
           8.75
          ],
          [
           "70PUS6724 (65\", Brown frame)",
           8.25
          ],
          [
           "QLED Q70A (75\", Brown frame)",
           8.75
          ],
          [
           "50PUS7506 (50\", Orange frame)",
           7.8
          ],
          [
           "TU8000 (50\", Brown frame)",
           8.5
          ],
          [
           "75R635 (43\", Gray frame)",
           8.5
          ],
          [
           "50PUS7506 (43\", Gray frame)",
           8.2
          ],
          [
           "4-Series 55S435 (65\", Brown frame)",
           8.25
          ],
          [
           "55OLED806 (50\", Orange frame)",
           8.5
          ],
          [
           "OLED B1 (50\", Green frame)",
           8.4
          ],
          [
           "70PUS6724 (65\", Black frame)",
           8.5
          ],
          [
           "6-Series R648 (8K) (55\", Red frame)",
           8.25
          ],
          [
           "QNED MiniLED 90 (55\", Black frame)",
           8.75
          ],
          [
           "Q950TS 8K QLED (55\", White frame)",
           8.5
          ],
          [
           "QN85A Neo QLED (55\", Black frame)",
           9.25
          ],
          [
           "75R635 (75\", Brown frame)",
           8.75
          ],
          [
           "Bravia X950H (75\", Purple frame)",
           9
          ],
          [
           "65S535 (55\", Gray frame)",
           8.5
          ],
          [
           "UHD UM7300 (65\", Yellow frame)",
           8.5
          ],
          [
           "Bravia A90J (55\", Brown frame)",
           9.2
          ],
          [
           "NanoCell 90 (43\", White frame)",
           8.3
          ],
          [
           "55PUS8804 (50\", Yellow frame)",
           8.25
          ],
          [
           "Bravia X85J (75\", Purple frame)",
           8.75
          ],
          [
           "70PUS8505 (55\", White frame)",
           8.3
          ],
          [
           "55PUS7956/12 (55\", Orange frame)",
           7.8
          ],
          [
           "OLED C1 (65\", Purple frame)",
           9.25
          ],
          [
           "Bravia X95J (43\", Yellow frame)",
           8.75
          ],
          [
           "QLED Q60T (75\", Brown frame)",
           8.7
          ],
          [
           "AU8000 (50\", Black frame)",
           8.75
          ],
          [
           "TU8000 (43\", Green frame)",
           8.5
          ],
          [
           "AU8000 (65\", Yellow frame)",
           8.5
          ],
          [
           "50S535 (75\", Orange frame)",
           8.75
          ],
          [
           "UHD UM7300 (50\", Green frame)",
           8.3
          ],
          [
           "65R635 (75\", Orange frame)",
           8.5
          ],
          [
           "55S535 (75\", Blue frame)",
           8.65
          ],
          [
           "OLED CX (50\", White frame)",
           9.2
          ],
          [
           "50PUS7506 (43\", Purple frame)",
           7.8
          ],
          [
           "UHD UN7300 (75\", Orange frame)",
           8.4
          ],
          [
           "8-Series Q825 (43\", Purple frame)",
           8.25
          ],
          [
           "55PUS7334 (65\", Orange frame)",
           8.2
          ],
          [
           "OLED G1 (55\", Green frame)",
           9.2
          ],
          [
           "Q950TS 8K QLED (50\", Black frame)",
           9.2
          ],
          [
           "50S535 (65\", Gray frame)",
           8.75
          ],
          [
           "QLED Q80A (75\", Purple frame)",
           8.7
          ],
          [
           "OLED CX (55\", Gray frame)",
           9.2
          ],
          [
           "55R635 (43\", Black frame)",
           8.75
          ],
          [
           "50S535 (65\", Brown frame)",
           8.75
          ],
          [
           "Bravia A90J (55\", Blue frame)",
           9.3
          ],
          [
           "65PUS8504 (55\", Brown frame)",
           8.5
          ],
          [
           "5-Series S546 (65\", Gray frame)",
           8.45
          ],
          [
           "4-Series 55S435 (50\", Green frame)",
           7.8
          ],
          [
           "Bravia X950H (65\", Black frame)",
           8.75
          ],
          [
           "Bravia X90J (75\", Black frame)",
           8.8
          ],
          [
           "65R635 (43\", Red frame)",
           8.75
          ],
          [
           "55OLED806 (75\", Green frame)",
           8.55
          ],
          [
           "70PUS8505 (75\", Red frame)",
           8.5
          ],
          [
           "8-Series Q825 (65\", Black frame)",
           8.3
          ],
          [
           "Bravia X900H (65\", Yellow frame)",
           8.75
          ],
          [
           "5-Series S546 (50\", Black frame)",
           8.45
          ],
          [
           "Bravia A90J (43\", Yellow frame)",
           9
          ],
          [
           "NanoCell 80 (43\", Yellow frame)",
           8.3
          ],
          [
           "UHD UM7300 (65\", Brown frame)",
           8.75
          ],
          [
           "Bravia X950H (75\", Gray frame)",
           9.2
          ],
          [
           "75PML9506 (55\", Blue frame)",
           8.5
          ],
          [
           "OLED C1 (65\", Gray frame)",
           9.2
          ],
          [
           "QN90A Neo QLED (50\", Orange frame)",
           9.2
          ],
          [
           "The Frame LS03T (55\", Orange frame)",
           8.5
          ],
          [
           "Bravia A80J (50\", Yellow frame)",
           8.75
          ],
          [
           "65PUS8504 (43\", Orange frame)",
           8.2
          ],
          [
           "UHD UM7300 (55\", Red frame)",
           8.25
          ],
          [
           "55R635 (43\", Brown frame)",
           8.4
          ],
          [
           "4-Series 55S435 (50\", Blue frame)",
           8.5
          ],
          [
           "Bravia X80J (43\", Yellow frame)",
           8.4
          ],
          [
           "Bravia X900H (65\", White frame)",
           8.75
          ],
          [
           "Bravia A8H (43\", Brown frame)",
           8.75
          ],
          [
           "70PUS8505 (65\", Green frame)",
           8.25
          ],
          [
           "50S535 (43\", Orange frame)",
           8.2
          ],
          [
           "TU8000 (55\", Brown frame)",
           8.5
          ],
          [
           "Bravia X95J (50\", White frame)",
           9.2
          ],
          [
           "QLED Q60T (43\", Blue frame)",
           8.5
          ],
          [
           "65S535 (65\", Yellow frame)",
           8.45
          ],
          [
           "50PUS7506 (75\", Yellow frame)",
           7.65
          ],
          [
           "OLED A1 (43\", Gray frame)",
           8.5
          ],
          [
           "70PUS6724 (50\", Red frame)",
           7.8
          ],
          [
           "55PUS7956/12 (55\", Green frame)",
           8.2
          ],
          [
           "55S535 (65\", Blue frame)",
           8.2
          ],
          [
           "QLED Q70A (55\", Red frame)",
           8.75
          ],
          [
           "70PUS8505 (75\", Yellow frame)",
           8.5
          ],
          [
           "RU7100 (50\", Blue frame)",
           8.2
          ],
          [
           "OLED B1 (50\", Gray frame)",
           8.75
          ],
          [
           "UHD UM7300 (65\", Gray frame)",
           8.2
          ],
          [
           "QLED Q70A (50\", Blue frame)",
           8.75
          ],
          [
           "NanoCell 80 (65\", Green frame)",
           8.75
          ],
          [
           "Bravia A8H (50\", Yellow frame)",
           8.75
          ],
          [
           "Bravia X85J (65\", Yellow frame)",
           8.5
          ],
          [
           "QN90A Neo QLED (65\", Black frame)",
           9.2
          ],
          [
           "55PUS7956/12 (50\", Orange frame)",
           8.3
          ],
          [
           "QLED Q70A (75\", Yellow frame)",
           8.75
          ],
          [
           "OLED C1 (75\", Blue frame)",
           8.75
          ],
          [
           "65R635 (43\", Green frame)",
           8.75
          ],
          [
           "OLED A1 (55\", Black frame)",
           8.75
          ],
          [
           "OLED A1 (75\", Purple frame)",
           8.4
          ],
          [
           "65OLED936 (43\", Orange frame)",
           7.85
          ],
          [
           "QN85A Neo QLED (75\", White frame)",
           8.7
          ],
          [
           "6-Series R648 (8K) (75\", Green frame)",
           8.75
          ],
          [
           "UHD UN7300 (65\", Brown frame)",
           8.5
          ],
          [
           "OLED G1 (55\", Black frame)",
           9.2
          ],
          [
           "Bravia X85J (75\", Blue frame)",
           8.75
          ],
          [
           "Bravia Z9F (50\", Black frame)",
           8.75
          ],
          [
           "65OLED936 (65\", White frame)",
           8.5
          ],
          [
           "65S535 (75\", Blue frame)",
           8.5
          ],
          [
           "75PML9506 (55\", Purple frame)",
           8.4
          ],
          [
           "QLED Q80A (65\", Black frame)",
           8.7
          ],
          [
           "QLED Q80A (43\", Brown frame)",
           8.75
          ],
          [
           "55PUS7956/12 (43\", Purple frame)",
           7.8
          ],
          [
           "65OLED936 (43\", Yellow frame)",
           8.75
          ],
          [
           "55OLED806 (65\", Brown frame)",
           8.75
          ],
          [
           "Bravia X90J (43\", Purple frame)",
           8.75
          ],
          [
           "QLED Q70A (43\", Orange frame)",
           8.5
          ],
          [
           "Bravia A90J (43\", Red frame)",
           8.75
          ],
          [
           "4-Series 55S435 (55\", Black frame)",
           8.5
          ],
          [
           "8-Series Q825 (75\", Purple frame)",
           8.7
          ],
          [
           "55S535 (43\", Brown frame)",
           8.75
          ],
          [
           "AU8000 (75\", Gray frame)",
           8.25
          ],
          [
           "OLED C1 (75\", Black frame)",
           9.3
          ],
          [
           "QNED MiniLED 90 (43\", Green frame)",
           8.45
          ],
          [
           "55PUS8804 (55\", Red frame)",
           8.5
          ],
          [
           "AU8000 (50\", White frame)",
           8.5
          ],
          [
           "OLED G1 (50\", Purple frame)",
           9.2
          ],
          [
           "55PUS7334 (43\", Gray frame)",
           8.5
          ],
          [
           "75PML9506 (65\", Blue frame)",
           8.5
          ],
          [
           "NanoCell 80 (43\", Black frame)",
           8.5
          ],
          [
           "QLED Q60T (75\", Gray frame)",
           8.75
          ],
          [
           "55PUS7334 (43\", Green frame)",
           7.85
          ],
          [
           "NanoCell 80 (50\", Yellow frame)",
           8.5
          ],
          [
           "Q950TS 8K QLED (55\", Purple frame)",
           8.5
          ],
          [
           "6-Series R648 (8K) (75\", Brown frame)",
           8.6
          ],
          [
           "65OLED936 (65\", Orange frame)",
           8
          ],
          [
           "55S535 (65\", Red frame)",
           8.5
          ],
          [
           "55R635 (65\", Purple frame)",
           8.75
          ],
          [
           "Bravia A8H (50\", Brown frame)",
           8.75
          ],
          [
           "RU7100 (50\", Red frame)",
           8.25
          ],
          [
           "Bravia A80J (65\", White frame)",
           9.2
          ],
          [
           "QNED MiniLED 90 (65\", Gray frame)",
           8.5
          ],
          [
           "OLED B1 (75\", White frame)",
           8.75
          ],
          [
           "Bravia Z9F (43\", Red frame)",
           8.5
          ],
          [
           "6-Series R648 (8K) (75\", Orange frame)",
           8.25
          ],
          [
           "QLED Q80A (75\", Brown frame)",
           8.75
          ],
          [
           "Bravia X90J (65\", Blue frame)",
           8.75
          ],
          [
           "65PUS8504 (65\", Gray frame)",
           8.4
          ],
          [
           "Bravia X80J (50\", Purple frame)",
           8.5
          ],
          [
           "QN90A Neo QLED (65\", Yellow frame)",
           8.75
          ],
          [
           "Bravia Z9F (43\", Black frame)",
           8.5
          ],
          [
           "UHD UN7300 (75\", Red frame)",
           8.45
          ],
          [
           "55R635 (65\", Yellow frame)",
           8.75
          ],
          [
           "OLED A1 (75\", Green frame)",
           8.75
          ],
          [
           "TU8000 (55\", Orange frame)",
           8.25
          ],
          [
           "OLED CX (65\", Purple frame)",
           9.2
          ],
          [
           "RU7100 (43\", Yellow frame)",
           8.5
          ],
          [
           "UHD UN7300 (43\", Green frame)",
           8.75
          ],
          [
           "QLED Q80A (75\", Red frame)",
           8.75
          ],
          [
           "QN85A Neo QLED (43\", Green frame)",
           9.25
          ],
          [
           "5-Series S546 (43\", Black frame)",
           8.45
          ],
          [
           "55PUS8804 (43\", Purple frame)",
           8.2
          ],
          [
           "NanoCell 80 (65\", Red frame)",
           8.2
          ],
          [
           "70PUS6724 (43\", Blue frame)",
           7.8
          ],
          [
           "55S535 (43\", White frame)",
           8.5
          ],
          [
           "The Frame LS03T (65\", Blue frame)",
           8.75
          ],
          [
           "75R635 (43\", Purple frame)",
           8.65
          ],
          [
           "UHD UN7300 (55\", Brown frame)",
           8.5
          ],
          [
           "65R635 (50\", Brown frame)",
           8.5
          ],
          [
           "65S535 (43\", Black frame)",
           8.5
          ],
          [
           "55PUS7334 (65\", Blue frame)",
           8.3
          ],
          [
           "65OLED936 (65\", Brown frame)",
           8.8
          ],
          [
           "65PUS8504 (65\", Yellow frame)",
           7.8
          ],
          [
           "OLED G1 (43\", Yellow frame)",
           9
          ],
          [
           "OLED CX (50\", Gray frame)",
           9.3
          ],
          [
           "NanoCell 90 (75\", White frame)",
           8.4
          ],
          [
           "NanoCell 90 (50\", Gray frame)",
           8.7
          ],
          [
           "Bravia A8H (75\", Yellow frame)",
           8.75
          ],
          [
           "65S535 (65\", Brown frame)",
           8.65
          ],
          [
           "Bravia X900H (65\", Blue frame)",
           9
          ],
          [
           "70PUS6724 (75\", Purple frame)",
           7.8
          ],
          [
           "75PML9506 (75\", Brown frame)",
           8.75
          ],
          [
           "Bravia A80J (43\", Black frame)",
           8.75
          ],
          [
           "NanoCell 90 (75\", Orange frame)",
           8.5
          ],
          [
           "The Frame LS03T (75\", Purple frame)",
           8.5
          ],
          [
           "OLED A1 (75\", Blue frame)",
           8.75
          ],
          [
           "4-Series 55S435 (50\", Orange frame)",
           8.3
          ],
          [
           "QN85A Neo QLED (65\", Green frame)",
           8.75
          ],
          [
           "Bravia X900H (50\", Green frame)",
           8.75
          ],
          [
           "Bravia X950H (50\", Blue frame)",
           8.75
          ],
          [
           "5-Series S546 (43\", Gray frame)",
           8.4
          ],
          [
           "NanoCell 90 (50\", Red frame)",
           8.5
          ],
          [
           "5-Series S546 (65\", Purple frame)",
           8.5
          ],
          [
           "Bravia A90J (65\", Red frame)",
           9.2
          ],
          [
           "75R635 (50\", White frame)",
           8.6
          ],
          [
           "The Frame LS03T (50\", Black frame)",
           8.75
          ],
          [
           "Bravia X95J (50\", Orange frame)",
           8.7
          ],
          [
           "Bravia X80J (50\", Black frame)",
           8.5
          ],
          [
           "OLED B1 (75\", Purple frame)",
           8.5
          ],
          [
           "Bravia Z9F (50\", Red frame)",
           9
          ],
          [
           "QN85A Neo QLED (55\", Gray frame)",
           8.75
          ],
          [
           "Bravia X90J (55\", Yellow frame)",
           8.75
          ],
          [
           "8-Series Q825 (55\", Green frame)",
           8.65
          ],
          [
           "Bravia X80J (75\", Orange frame)",
           8.7
          ],
          [
           "55OLED806 (43\", Yellow frame)",
           8.75
          ],
          [
           "Bravia X95J (50\", Brown frame)",
           8.7
          ],
          [
           "55PUS8804 (75\", Gray frame)",
           7.8
          ],
          [
           "55R635 (75\", Blue frame)",
           8.75
          ],
          [
           "QN90A Neo QLED (75\", Purple frame)",
           8.75
          ],
          [
           "QN90A Neo QLED (75\", Purple frame)",
           8.75
          ],
          [
           "55PUS8804 (75\", Orange frame)",
           8.5
          ],
          [
           "OLED CX (43\", Brown frame)",
           9
          ],
          [
           "AU8000 (43\", White frame)",
           8.5
          ],
          [
           "QN90A Neo QLED (75\", Yellow frame)",
           8.95
          ],
          [
           "6-Series R648 (8K) (65\", Green frame)",
           8.25
          ],
          [
           "RU7100 (50\", Yellow frame)",
           8.5
          ]
         ],
         "hovertemplate": "category=TVs<br>price=%{x}<br>quantity_sold=%{y}<br>revenue=%{marker.size}<br>product_name=%{customdata[0]}<br>rating=%{customdata[1]}<extra></extra>",
         "legendgroup": "TVs",
         "marker": {
          "color": "#EF553B",
          "size": {
           "bdata": "AAAAADSmJ0EAAAAAUoMyQQAAAAA68TZBAAAAAEFIMEEAAAAAkCwmQR+F65HlrTBBAAAAAFgnF0EAAAAAAMkdQQAAAAD08hNBAAAAANDJCkEAAAAAmCEZQQAAAABArSJBAAAAAMQPOEEAAAAAIPEbQQAAAADEyilBSOF61HoYNEEAAAAAlCZCQQAAAABJNDdBAAAAgBoRQkEAAAAA4DkzQQAAAAAAlCFBAAAAADhJKEEAAAAA5cI3QQAAAAB0SiRBAAAAALA7JEEAAAAAXVA4QQAAAACA7i1BAAAAAGAzIkEAAAAAqnwyQVyPwnWJ1yxBAAAAAND6JkEAAAAArJsiQQAAAABAABpBAAAAACBDH0EAAAAATr83QQAAAABw9hFBAAAAAKCwMEEAAAAAtIomQQAAAAA96TFBAAAAAEC+IEEAAAAAkKgyQQAAAAAomBJBAAAAABACG0EAAAAAorUzQQAAAACQCENBAAAAAJjIHkEAAAAAHwQ1QQAAAABqCThBAAAAAEg9EUGamZmZetsmQRSuR0FCiEFBAAAAAHDxJkEAAAAAJAsZQVK4HoVDrwtBAAAAAGphMUEAAAAAIwg0QQAAAAAwIRdBAAAAANzTPEEAAAAAoD8xQQAAAADIOytBFK5H4S68LEE9Ctej4sIdQXE9CldIEC9BAAAAAIAzH0EAAAAABlAwQQAAAABoTUNBAAAAAOlAOUEAAAAAZoE7QQAAAAAcvDVBAAAAAJHINUEAAAAAyvEpQQAAAACgkhhBAAAAACA5FEEAAAAAINkVQQAAAAAAcBdBAAAAADwvIEG4HoVro98qQQAAAAAa/TJBAAAAAFxDJUEAAAAAaE4XQQAAAACacyRBAAAAAIb8KEEAAAAAyCwaQQAAAACi1SxBAAAAAMBKLEEAAAAAFrkvQQAAAACwXR9BAAAAAPCAJkEAAAAA4FMXQQAAAACLxzJBAAAAAGCTK0EAAAAASNYKQQAAAADorS5BAAAAADhFFkEAAAAAVPEhQQAAAAD0fS1BAAAAAPqYPUEAAAAAYp0tQVK4HoUVYj5B4XoUrr4/JUEAAACAgNVBQQAAAADjODdBAAAAAEBoEUEAAAAA0FwoQQAAAABFKj5BAAAAANzxNUEAAAAAxMJCQQAAAACs80NBAAAAACCrKUEAAAAAUgU+QQAAAAAP0z5BAAAAAOjQP0EAAAAAUPpEQQAAAAAp8TVBAAAAAAB4LkEAAAAAMIo2QQAAAABcSSZBAAAAAKgIE0EAAAAAoBYsQQAAAABg8ChBAAAAAGrfIEEAAAAA0kwhQQAAAACMQS1BAAAAAMA/DkEAAAAAcP4oQQAAAADwnxVBPQrXo27JL0HD9Sjc0A45QT0K1yNtsCxBAAAAALrxLEEAAAAAECwUQQAAAABauDFBAAAAAEDBF0Fcj8K1CTIzQQAAAADAwRlBAAAAAO4iMEEAAAAAIDwcQQAAAADAmiNBAAAAgDq9QkEAAAAA2m0uQQAAAAD8cDBBAAAAAAhlGkEfhevRCgohQQAAAADdWThBAAAAAGRREUEAAAAA5jE5QQAAAABwQCZBAAAAABxjKkEAAAAAoIoxQQAAAAAszxlBH4XrsfbOQUEAAAAAf4o8QQAAAABgSCtBhetRuIclIEEAAAAAKkYsQexRuJ6VATNBAAAAAHojL0EAAAAAJIEuQQAAAADgmSxBAAAAAIBKF0EAAAAAkFI4QY/C9Si3BBpBAAAAADB7G0EAAAAAonYqQQAAAAA4SChBCtejcMTnEUEAAAAA2EUkQQAAAAA0hS5BAAAAAJTEIEEzMzMzRiITQQAAAAAB3DhB16NwPQQMHkEAAAAA2BATQQAAAAC8OyBBAAAAAFQXGEEAAAAA0JIfQQAAAACQvj9BAAAAAMDnG0EAAAAA7m8wQQAAAAAgNDVBAAAAAE3NN0EAAAAA/NsrQQAAAICxk0ZBAAAAANy5JEEAAAAA4CcmQQAAAABgUjFBAAAAAHKDMUEVrkfhowooQQAAAADwYDNBAAAAgCAgRkEAAAAAlbQ/QQAAAAAA/g9BAAAAAAJdNUH2KFwPb8ggQT4K16MufSpBAAAAAHjyF0EAAAAAKJgiQQAAAABg1SBBAAAAgH9pQUEAAAAAjNgcQR+F61G0miNBAAAAADrLK0EAAAAAjNMlQQAAAAAn3zhBPQrXg90bQUH2KFzPWwo6QQAAAABKpiZBAAAAAJmLMUEAAAAA+Mw5QQAAAABwejVBAAAAAD/6MkEAAAAAwMgsQQAAAAAW/ypBAAAAgIFcQUEAAACAgVxBQQAAAABAVTBBAAAAAFyMNEE9Ctej9qEOQQAAAAAXBT9BAAAAAJRPJkEAAAAAXHEdQQ==",
           "dtype": "f8"
          },
          "sizemode": "area",
          "sizeref": 9670.1,
          "symbol": "circle"
         },
         "mode": "markers",
         "name": "TVs",
         "showlegend": true,
         "type": "scattergl",
         "x": {
          "bdata": "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",
          "dtype": "f8"
         },
         "xaxis": "x",
         "y": {
          "bdata": "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",
          "dtype": "f8"
         },
         "yaxis": "y"
        },
        {
         "customdata": [
          [
           "Lark Manor End Table (White)",
           7.8
          ],
          [
           "Poäng Armchair (Black)",
           8.27
          ],
          [
           "Draycoll Recliner (Blue)",
           8.75
          ],
          [
           "Ektorp Sofa (Gray)",
           8.5
          ],
          [
           "Darcy Sofa (Black)",
           8.75
          ],
          [
           "Andover Mills Bookcase (Black)",
           8.2
          ],
          [
           "Mercury Row Merwin TV Stand (Red)",
           8.25
          ],
          [
           "Cannery Bridge Storage Chest (Green)",
           8.25
          ],
          [
           "Wade Logan Dining Table (White)",
           8.7
          ],
          [
           "Hemnes TV Bench (Yellow)",
           8.25
          ],
          [
           "Lark Manor End Table (Yellow)",
           8.75
          ],
          [
           "Havalance Coffee Table (Purple)",
           8.25
          ],
          [
           "Darcy Sofa (Black)",
           8.75
          ],
          [
           "Cottage Road Coffee Table (Orange)",
           8.2
          ],
          [
           "Wade Logan Dining Table (Purple)",
           8
          ],
          [
           "Shoal Creek Dresser (Purple)",
           8.25
          ],
          [
           "Billy Bookcase (White)",
           8.7
          ],
          [
           "Greyleigh Coffee Table (Brown)",
           8.45
          ],
          [
           "Alenya Sofa (Green)",
           8.25
          ],
          [
           "Ebern Designs Convertible Sofa (Black)",
           7.8
          ],
          [
           "Lark Manor End Table (Black)",
           8.5
          ],
          [
           "Orchard Hills TV Stand (Black)",
           8.4
          ],
          [
           "Cottage Road Coffee Table (Blue)",
           8.5
          ],
          [
           "Setu Chair (Purple)",
           9.25
          ],
          [
           "Shoal Creek Dresser (Red)",
           8.5
          ],
          [
           "5-Shelf Bookcase (Orange)",
           8.2
          ],
          [
           "Sayl Chair (White)",
           9.25
          ],
          [
           "Computer Desk (Yellow)",
           7.8
          ],
          [
           "Mistana Armchair (Blue)",
           8.5
          ],
          [
           "Verus Chair (Yellow)",
           8.75
          ],
          [
           "Bladen Sofa (Red)",
           8.5
          ],
          [
           "Verus Chair (Blue)",
           8.75
          ],
          [
           "Billy Bookcase (Black)",
           8.75
          ],
          [
           "Setu Chair (Green)",
           8.75
          ],
          [
           "Ektorp Sofa (Purple)",
           8.5
          ],
          [
           "Orchard Hills TV Stand (Brown)",
           8.25
          ],
          [
           "Alenya Sofa (Brown)",
           8.25
          ],
          [
           "Strandmon Wing Chair (Purple)",
           8.75
          ],
          [
           "Ebern Designs Convertible Sofa (Green)",
           7.85
          ],
          [
           "Sand & Stable Bar Stool (Purple)",
           8.5
          ],
          [
           "North Avenue Desk (Gray)",
           8.5
          ],
          [
           "Poäng Armchair (Blue)",
           8.25
          ],
          [
           "Greyleigh Coffee Table (Yellow)",
           8.25
          ],
          [
           "Andover Mills Bookcase (Purple)",
           7.85
          ],
          [
           "Ektorp Sofa (White)",
           8.5
          ],
          [
           "Strandmon Wing Chair (Gray)",
           8.6
          ],
          [
           "Porter Panel Bed (Gray)",
           8.5
          ],
          [
           "Mistana Armchair (Red)",
           8.5
          ],
          [
           "Bjursta Extendable Table (Red)",
           8.5
          ],
          [
           "Pax Wardrobe (White)",
           8.5
          ],
          [
           "Willenburg Upholstered Bed (Blue)",
           8.75
          ],
          [
           "Edge Water Computer Desk (Blue)",
           8.5
          ],
          [
           "Palladia Armoire (Yellow)",
           8.45
          ],
          [
           "Malm Bed Frame (Purple)",
           8.25
          ],
          [
           "Computer Desk (Green)",
           8.25
          ],
          [
           "Darcy Sofa (Green)",
           8.75
          ],
          [
           "Three Posts Reistville Panel Bed (Red)",
           8.5
          ],
          [
           "Porter Panel Bed (Red)",
           8.5
          ],
          [
           "Cottage Road Coffee Table (White)",
           8.25
          ],
          [
           "Edge Water Computer Desk (Green)",
           8.5
          ],
          [
           "Ektorp Sofa (Yellow)",
           8.3
          ],
          [
           "Caper Chair (Red)",
           8.75
          ],
          [
           "5-Shelf Bookcase (Brown)",
           8.5
          ],
          [
           "Mercury Row Merwin TV Stand (Orange)",
           8.75
          ],
          [
           "Shoal Creek Dresser (Brown)",
           8.5
          ],
          [
           "Computer Desk (Brown)",
           8.75
          ],
          [
           "Billy Bookcase (Gray)",
           8.75
          ],
          [
           "Sand & Stable Bar Stool (Black)",
           8.5
          ],
          [
           "Sayl Chair (Yellow)",
           8.75
          ],
          [
           "Embody Chair (Green)",
           9.45
          ],
          [
           "Bladen Sofa (Blue)",
           8.75
          ],
          [
           "Alenya Sofa (Red)",
           8.5
          ],
          [
           "Bolanburg Dining Table (Green)",
           8.5
          ],
          [
           "Eames Lounge Chair (White)",
           9.5
          ],
          [
           "Malm Bed Frame (Gray)",
           8.5
          ],
          [
           "Caper Chair (Brown)",
           8.75
          ],
          [
           "Cosm Chair (Red)",
           9.2
          ],
          [
           "Hemnes TV Bench (Red)",
           8.5
          ],
          [
           "Shoal Creek Dresser (Black)",
           8.5
          ],
          [
           "Wade Logan Dining Table (Blue)",
           8.25
          ],
          [
           "Trinell TV Stand (Blue)",
           8.5
          ],
          [
           "Cannery Bridge Storage Chest (Brown)",
           8.25
          ],
          [
           "Setu Chair (Brown)",
           8.75
          ],
          [
           "Cannery Bridge Storage Chest (Orange)",
           8.45
          ],
          [
           "Hemnes TV Bench (Red)",
           8.5
          ],
          [
           "Mistana Armchair (Orange)",
           8.75
          ],
          [
           "Cottage Road Coffee Table (Purple)",
           7.85
          ],
          [
           "Havalance Coffee Table (Blue)",
           8.5
          ],
          [
           "Zipcode Design Desk (Green)",
           8.25
          ],
          [
           "Ebern Designs Convertible Sofa (Gray)",
           7.8
          ],
          [
           "Three Posts Reistville Panel Bed (Blue)",
           8.5
          ],
          [
           "Edge Water Computer Desk (Gray)",
           8.5
          ],
          [
           "Darcy Sofa (Blue)",
           8.3
          ],
          [
           "Palladia Armoire (Brown)",
           8.5
          ],
          [
           "Bladen Sofa (White)",
           8.75
          ],
          [
           "Trinell TV Stand (Red)",
           8.5
          ],
          [
           "Orchard Hills TV Stand (Orange)",
           8.75
          ],
          [
           "Beginnings TV Stand (Black)",
           8.25
          ],
          [
           "Mirra 2 Chair (Brown)",
           9.2
          ],
          [
           "Sayl Chair (Purple)",
           8.8
          ],
          [
           "Draycoll Recliner (Purple)",
           8.25
          ],
          [
           "Aeron Chair (Purple)",
           9.4
          ],
          [
           "Lack Coffee Table (Blue)",
           8.25
          ],
          [
           "Kallax Shelving Unit (Black)",
           8.75
          ],
          [
           "Strandmon Wing Chair (Black)",
           8.5
          ],
          [
           "Strandmon Wing Chair (White)",
           8.75
          ],
          [
           "Darcy Sofa (Brown)",
           8.45
          ],
          [
           "Aeron Chair (Black)",
           9.5
          ],
          [
           "Havalance Coffee Table (Red)",
           8.5
          ],
          [
           "Ebern Designs Convertible Sofa (Red)",
           7.85
          ],
          [
           "Poäng Armchair (Purple)",
           8.75
          ],
          [
           "Pax Wardrobe (Purple)",
           8.5
          ],
          [
           "Beginnings TV Stand (White)",
           8.25
          ],
          [
           "Billy Bookcase (Purple)",
           8.45
          ],
          [
           "Greyleigh Coffee Table (Gray)",
           8.5
          ],
          [
           "Eames Lounge Chair (Orange)",
           9.75
          ],
          [
           "Zipcode Design Desk (Purple)",
           8.25
          ],
          [
           "Kallax Shelving Unit (Orange)",
           8.4
          ],
          [
           "Mercury Row Merwin TV Stand (Green)",
           8.25
          ],
          [
           "Mercury Row Merwin TV Stand (White)",
           8.2
          ],
          [
           "Bolanburg Dining Table (Gray)",
           8.5
          ],
          [
           "Computer Desk (Gray)",
           8.25
          ],
          [
           "Shoal Creek Dresser (Gray)",
           8.5
          ],
          [
           "Trinell TV Stand (Gray)",
           8.5
          ],
          [
           "Cosm Chair (White)",
           9.2
          ],
          [
           "Pax Wardrobe (Gray)",
           8.5
          ],
          [
           "Poäng Armchair (Yellow)",
           8.5
          ],
          [
           "Chaliene Sofa (Brown)",
           8.25
          ],
          [
           "Edge Water Computer Desk (Yellow)",
           8
          ],
          [
           "Noguchi Table (Gray)",
           9.5
          ],
          [
           "Lack Coffee Table (Brown)",
           8.25
          ],
          [
           "Andover Mills Bookcase (Brown)",
           8.4
          ],
          [
           "Lack Coffee Table (Gray)",
           8.25
          ],
          [
           "Bolanburg Dining Table (Brown)",
           8.35
          ],
          [
           "Chaliene Sofa (Gray)",
           8.5
          ],
          [
           "Beginnings TV Stand (Brown)",
           7.5
          ],
          [
           "Willenburg Upholstered Bed (Yellow)",
           8.25
          ],
          [
           "Pax Wardrobe (Black)",
           8.5
          ],
          [
           "Noguchi Table (Red)",
           9.25
          ],
          [
           "Orchard Hills TV Stand (Yellow)",
           7.85
          ],
          [
           "Willenburg Upholstered Bed (Red)",
           8.2
          ],
          [
           "Draycoll Recliner (Gray)",
           8.25
          ],
          [
           "Aeron Chair (Orange)",
           9.2
          ],
          [
           "5-Shelf Bookcase (Red)",
           8.5
          ],
          [
           "Wade Logan Dining Table (Red)",
           8.5
          ],
          [
           "Mercury Row Merwin TV Stand (Gray)",
           8.3
          ],
          [
           "Draycoll Recliner (Green)",
           7.8
          ],
          [
           "North Avenue Desk (Green)",
           8.5
          ],
          [
           "Three Posts Reistville Panel Bed (White)",
           8.2
          ],
          [
           "Ebern Designs Convertible Sofa (Brown)",
           7.8
          ],
          [
           "Verus Chair (Brown)",
           8.75
          ],
          [
           "Zipcode Design Desk (Orange)",
           8.2
          ],
          [
           "Malm Bed Frame (Red)",
           8.3
          ],
          [
           "Havalance Coffee Table (Brown)",
           8.5
          ],
          [
           "Wade Logan Dining Table (Orange)",
           8.25
          ],
          [
           "Bjursta Extendable Table (Blue)",
           8.75
          ],
          [
           "5-Shelf Bookcase (Purple)",
           8.2
          ],
          [
           "Mirra 2 Chair (White)",
           9.3
          ],
          [
           "Noguchi Table (Green)",
           9.25
          ],
          [
           "Beginnings TV Stand (Yellow)",
           7.5
          ],
          [
           "Porter Panel Bed (Yellow)",
           8.25
          ],
          [
           "Caper Chair (Blue)",
           8.75
          ],
          [
           "Eames Lounge Chair (Brown)",
           9.45
          ],
          [
           "Cosm Chair (Purple)",
           9
          ],
          [
           "Billy Bookcase (Orange)",
           8.25
          ],
          [
           "Darcy Sofa (Purple)",
           8.65
          ],
          [
           "Draycoll Recliner (White)",
           8.35
          ],
          [
           "Caper Chair (Black)",
           8.75
          ],
          [
           "Hemnes TV Bench (Black)",
           8.4
          ],
          [
           "Setu Chair (Orange)",
           9.3
          ],
          [
           "Malm Bed Frame (Blue)",
           8.3
          ],
          [
           "Embody Chair (Black)",
           9.5
          ],
          [
           "Mirra 2 Chair (Green)",
           9.25
          ],
          [
           "North Avenue Desk (Purple)",
           7.85
          ],
          [
           "North Avenue Desk (Yellow)",
           7.85
          ],
          [
           "Chaliene Sofa (Blue)",
           8.5
          ],
          [
           "Mirra 2 Chair (Purple)",
           9.2
          ],
          [
           "Bjursta Extendable Table (Orange)",
           8.25
          ],
          [
           "Three Posts Reistville Panel Bed (Brown)",
           8.2
          ],
          [
           "Lark Manor End Table (Red)",
           8.25
          ],
          [
           "Lack Coffee Table (Purple)",
           7.85
          ],
          [
           "Palladia Armoire (Blue)",
           8.5
          ],
          [
           "Chaliene Sofa (White)",
           8.5
          ],
          [
           "Andover Mills Bookcase (Red)",
           8.45
          ],
          [
           "Computer Desk (Red)",
           8.25
          ],
          [
           "Pax Wardrobe (Orange)",
           8.5
          ],
          [
           "Lark Manor End Table (Purple)",
           8.5
          ],
          [
           "Greyleigh Coffee Table (Orange)",
           8.25
          ],
          [
           "Orchard Hills TV Stand (Gray)",
           7.8
          ],
          [
           "Embody Chair (Red)",
           9.25
          ],
          [
           "Porter Panel Bed (Purple)",
           8.25
          ],
          [
           "Bjursta Extendable Table (Gray)",
           8.3
          ],
          [
           "Kallax Shelving Unit (Yellow)",
           8.75
          ],
          [
           "Embody Chair (Orange)",
           9.25
          ],
          [
           "Chaliene Sofa (Black)",
           8.2
          ],
          [
           "Kallax Shelving Unit (White)",
           8.5
          ],
          [
           "Alenya Sofa (White)",
           8.25
          ]
         ],
         "hovertemplate": "category=Furniture<br>price=%{x}<br>quantity_sold=%{y}<br>revenue=%{marker.size}<br>product_name=%{customdata[0]}<br>rating=%{customdata[1]}<extra></extra>",
         "legendgroup": "Furniture",
         "marker": {
          "color": "#00cc96",
          "size": {
           "bdata": "AAAAAGB+AkEAAAAAQK/2QAAAAAAwShxBAAAAAKjkFEEAAAAACOkdQQAAAAAAgPZAAAAAANDcC0HNzMzMUIoOQQAAAAAUFiJBAAAAAEAZBUEAAAAAAPQKQUjhehT4RRJBAAAAAAjpHUFSuB6FTZ4BQQAAAABYPxNBAAAAALDKEUFmZmZmTq31QAAAAAAoLhNBAAAAAJQQJUEAAAAAAFcXQQAAAADAKwRBAAAAAOBy9kAAAAAAwP4DQQAAAAB4GCpBmpmZmV+MCUEAAAAA4H/4QAAAAADufiVBAAAAAIDY8EAAAAAAgCUJQQAAAACmwCFBKVyPwkehG0EAAAAANJ8tQZDC9Sg4r/FAAAAAAPAnJUEAAAAAbEcjQQAAAAAAJANBAAAAANjdHEEAAAAAYL8ZQQAAAADAyAxBAAAAALBiCkEAAAAAgM4KQQAAAADgVelAAAAAABCeCkEAAAAAYNH5QAAAAAC88hFBAAAAAKA0BkEAAAAArNkgQQAAAACg9BBBAAAAABDrBkEAAAAA8GYSQQAAAADQSiJBAAAAAACkD0FSuB6FTc8OQQAAAAC4/QBBCtejcO0R/UBxPQrXaCYaQQAAAACAhA5BAAAAABgTIUEAAAAAYNH5QAAAAADA2w1BAAAAABSUGEEAAAAAuO0YQQAAAACAhPlAAAAAAIiPFUEAAAAAKDoRQa5H4XrIBwRBmZmZmVFJ9UAAAAAA4JAGQQAAAAD+7idBAAAAgCARQkEAAAAA4CYiQQAAAAA4phJBAAAAAOY8JkEAAAAAACryQAAAAABgyhRBAAAAAEDBF0EAAAAAf4o0QQAAAACQhv9AAAAAAIA5DkEAAAAA+C8UQQAAAAAAYwVB9ihcj1po/UAAAAAA5RkwQQAAAACslPZAAAAAAJCG/0AAAAAAII4PQQAAAABANgFBAAAAAID/BkEAAAAAIJECQQAAAAAgUhBBAAAAAHgZHkEAAAAAoDkHQQrXo3ActBVBAAAAAEAMGEEAAAAA+BgcQQAAAADAHRNBAAAAAOBMDkEAAAAAALT+QAAAAADwITFBAAAAALi1LkEAAAAASNsYQQAAAAC1ajxB4XoUrgfx4kA9CtejFqoAQQAAAAAAcBFBAAAAAOQtGkHhehQufDklQQAAAABYljFBAAAAADh8GUEzMzMz1+YYQQAAAACgtPFAAAAAAIBCEEEAAAAAwHD6QAAAAABga/9AAAAAAAAjFEEAAAAAxIJNQQAAAADASQRB9Shcj/Jr80AAAAAAYFoIQQAAAABIERBBAAAAAJBQIEEAAAAAQA38QAAAAACQPxJBAAAAANjHFEEAAAAAtPszQQAAAACcfBJBAAAAAGD670AAAAAASPwUQQAAAABgCv1AAAAAgMxKQ0GkcD0KN+LbQAAAAAAAbvlA7FG4Hp3z70AAAAAACHYjQQAAAACYyB5BAAAAAMB6AEEAAAAAaLkaQQAAAAD4xBBBAAAAAN3lPkEAAAAAwBP9QAAAAADoSBpBj8L1qOJHIEEAAAAALlM6QQAAAADApANBAAAAAGhUFkEAAAAAgE8SQQAAAABwwBpBAAAAAGAHEUEAAAAAgKIZQY/C9ShaGBdBAAAAAFDoLEEAAAAAUOIIQQAAAABoww9BAAAAAGCBDkEAAAAAgFIeQQAAAADMzhBBKVyPwrNLAkEAAAAAMFgzQQAAAAAWi0NBAAAAAAD44UAAAAAAoBQUQQAAAABMABhBAAAAgA85REEAAAAAKL8tQeF6FK7zs/JAUrgeBXofJEEAAAAAkEEfQQAAAABI4xBBAAAAAGjyC0EAAAAAbgkwQQAAAABAZQ5BAAAAAEu4NUEAAAAA7BU3QQAAAABguQ1B9ihcj1DRBUEAAAAAGm0lQQAAAAD2Dz1BAAAAAMAnBUEAAAAAkBISQQAAAABgQPRAAAAAAABE20AAAAAA6CAQQQAAAACsMCJBAAAAAACp+kAAAAAAcE4EQQAAAAA4CxdBAAAAAEDpAkEAAAAAUAYDQQAAAAD4eQVBAAAAAN8hPUEAAAAAgO0ZQQAAAABwZBNBUrgehXci90AAAAAAUyo5QQAAAAAo5h5BMzMzM8sJAEEAAAAAuFQhQQ==",
           "dtype": "f8"
          },
          "sizemode": "area",
          "sizeref": 9670.1,
          "symbol": "circle"
         },
         "mode": "markers",
         "name": "Furniture",
         "showlegend": true,
         "type": "scattergl",
         "x": {
          "bdata": "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",
          "dtype": "f8"
         },
         "xaxis": "x",
         "y": {
          "bdata": "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",
          "dtype": "f8"
         },
         "yaxis": "y"
        },
        {
         "customdata": [
          [
           "G3 15 (512GB, Gray)",
           7.85
          ],
          [
           "ExpertBook B9 (512GB, Gray)",
           8.7
          ],
          [
           "ENVY 15 (256GB, Purple)",
           8.5
          ],
          [
           "ProBook 450 G7 (128GB, Green)",
           8.25
          ],
          [
           "Latitude 7400 (64GB, Green)",
           8.5
          ],
          [
           "ROG Strix Scar 15 (256GB, Black)",
           8.5
          ],
          [
           "VivoBook 15 X512 (256GB, Brown)",
           8.5
          ],
          [
           "MacBook Pro 14 (2021) (1TB, White)",
           9.2
          ],
          [
           "Inspiron 14 5000 (128GB, Green)",
           8.3
          ],
          [
           "MacBook Air M2 (2022) (512GB, Brown)",
           9.25
          ],
          [
           "XPS 17 (9700) (1TB, Black)",
           8.5
          ],
          [
           "ENVY 13 (1TB, Orange)",
           8.4
          ],
          [
           "EliteBook 840 G6 (64GB, Purple)",
           8.75
          ],
          [
           "MacBook Air (2017) (1TB, Purple)",
           8
          ],
          [
           "VivoBook S15 (512GB, Red)",
           8.3
          ],
          [
           "Yoga 9i (1TB, Purple)",
           8.5
          ],
          [
           "MacBook Pro 13 (2020) (128GB, Purple)",
           8.5
          ],
          [
           "MacBook Pro 16 (2021) (64GB, Green)",
           9.5
          ],
          [
           "Inspiron 14 5000 (256GB, Gray)",
           8.5
          ],
          [
           "Omen 15 (512GB, Yellow)",
           8.75
          ],
          [
           "ROG Zephyrus G14 (256GB, Purple)",
           8.75
          ],
          [
           "ProBook 450 G7 (1TB, Yellow)",
           8
          ],
          [
           "ENVY 13 (256GB, Purple)",
           8.75
          ],
          [
           "Omen 15 (64GB, Green)",
           8.75
          ],
          [
           "Yoga 9i (256GB, Red)",
           8.75
          ],
          [
           "MacBook Pro 14 (2023) (128GB, Purple)",
           9.2
          ],
          [
           "MacBook Air M1 (2020) (256GB, Purple)",
           9.25
          ],
          [
           "ThinkPad X1 Carbon (7th Gen) (64GB, Purple)",
           8.75
          ],
          [
           "Pavilion 15 (128GB, Black)",
           8.25
          ],
          [
           "ZBook Firefly 14 (64GB, Brown)",
           8.5
          ],
          [
           "ZenBook 14 UX425 (128GB, Black)",
           8.75
          ],
          [
           "Spectre x360 13 (256GB, Gray)",
           8.75
          ],
          [
           "ENVY 15 (1TB, White)",
           8.75
          ],
          [
           "MacBook Pro 13 (2022) (64GB, White)",
           8.75
          ],
          [
           "MacBook Pro 13 (2020) (1TB, Green)",
           9.1
          ],
          [
           "MacBook Pro 14 (2021) (512GB, Purple)",
           9.4
          ],
          [
           "Inspiron 15 3000 (1TB, Brown)",
           7.8
          ],
          [
           "MacBook Pro 13 (2020) (256GB, Yellow)",
           8.5
          ],
          [
           "Spectre x360 13 (512GB, Green)",
           8.5
          ],
          [
           "Yoga 9i (1TB, Red)",
           8.65
          ],
          [
           "Pavilion 15 (1TB, Gray)",
           8.5
          ],
          [
           "Spectre x360 13 (64GB, Gray)",
           8.75
          ],
          [
           "Latitude 7400 (1TB, Orange)",
           8.5
          ],
          [
           "Inspiron 14 5000 (512GB, Purple)",
           8.25
          ],
          [
           "ZenBook Pro Duo 15 (1TB, Red)",
           8.75
          ],
          [
           "MacBook Pro 14 (2023) (512GB, White)",
           9.7
          ],
          [
           "EliteBook 840 G6 (64GB, Red)",
           8.5
          ],
          [
           "IdeaPad 5 (128GB, Green)",
           8.5
          ],
          [
           "Pavilion 14 (1TB, Purple)",
           8.25
          ],
          [
           "Chromebook Flip C434 (64GB, Brown)",
           8.5
          ],
          [
           "Spectre x360 15 (512GB, Blue)",
           8.5
          ],
          [
           "G5 15 (1TB, White)",
           8.2
          ],
          [
           "ThinkPad T14 (64GB, Green)",
           8.75
          ],
          [
           "MacBook Air M2 (2022) (256GB, Gray)",
           9.2
          ],
          [
           "MacBook Air M1 (2020) (64GB, Yellow)",
           9.45
          ],
          [
           "IdeaPad 5 (256GB, Brown)",
           8.2
          ],
          [
           "TUF Gaming A15 (128GB, Blue)",
           8.5
          ],
          [
           "ZenBook 14 UX425 (128GB, Gray)",
           8.5
          ],
          [
           "XPS 15 (9500) (64GB, Blue)",
           8.75
          ],
          [
           "EliteBook 840 G6 (64GB, Gray)",
           8.5
          ],
          [
           "MacBook Pro 14 (2023) (128GB, Orange)",
           9.3
          ],
          [
           "IdeaPad 5 (1TB, White)",
           8.25
          ],
          [
           "MacBook Air (2017) (512GB, White)",
           8.5
          ],
          [
           "ZenBook Duo 14 (64GB, Gray)",
           8.75
          ],
          [
           "Alienware m15 R3 (256GB, Black)",
           8.5
          ],
          [
           "MacBook Air M2 (2022) (256GB, Orange)",
           8.75
          ],
          [
           "MacBook Air (2019) (512GB, Green)",
           8.75
          ],
          [
           "Yoga Slim 7 (512GB, Red)",
           8.75
          ],
          [
           "ThinkPad X1 Carbon (7th Gen) (256GB, Red)",
           8.75
          ],
          [
           "ThinkPad X1 Carbon (7th Gen) (128GB, Green)",
           8.75
          ],
          [
           "XPS 13 (9370) (1TB, Black)",
           8.7
          ],
          [
           "MacBook Pro 14 (2021) (128GB, Black)",
           9.25
          ],
          [
           "ExpertBook B9 (128GB, Orange)",
           8.75
          ],
          [
           "MacBook Pro 16 (2021) (128GB, Yellow)",
           8.75
          ],
          [
           "ThinkBook 15 (64GB, Black)",
           8.5
          ],
          [
           "XPS 15 (9500) (256GB, Yellow)",
           8.7
          ],
          [
           "ZenBook 14 UX425 (256GB, White)",
           8.25
          ],
          [
           "XPS 15 (9500) (256GB, White)",
           8.75
          ],
          [
           "Spectre x360 15 (128GB, Yellow)",
           8.25
          ],
          [
           "Legion 7 (512GB, Orange)",
           8.75
          ],
          [
           "ThinkPad X1 Carbon (7th Gen) (512GB, Gray)",
           8.75
          ],
          [
           "XPS 13 (9360) (256GB, Orange)",
           8.5
          ],
          [
           "Pavilion 15 (1TB, Black)",
           8.5
          ],
          [
           "MacBook Pro 13 (2019) (256GB, Blue)",
           8.5
          ],
          [
           "XPS 17 (9700) (64GB, Yellow)",
           8.5
          ],
          [
           "Pavilion 14 (128GB, Green)",
           8.65
          ],
          [
           "Omen 15 (128GB, Black)",
           8.7
          ],
          [
           "Yoga Slim 7 (256GB, Yellow)",
           8.5
          ],
          [
           "ThinkPad T14 (64GB, Brown)",
           9.15
          ],
          [
           "XPS 15 (9500) (64GB, Yellow)",
           8.5
          ],
          [
           "Chromebook Flip C434 (128GB, Black)",
           8.2
          ],
          [
           "ZenBook Duo 14 (512GB, Yellow)",
           8.5
          ],
          [
           "VivoBook 15 X512 (128GB, Purple)",
           8.2
          ],
          [
           "IdeaPad Flex 5 (128GB, Purple)",
           8.25
          ],
          [
           "Legion 5 (64GB, Yellow)",
           8.75
          ],
          [
           "ExpertBook B9 (256GB, Red)",
           8.75
          ],
          [
           "MacBook Air M1 (2020) (256GB, Blue)",
           9.25
          ],
          [
           "XPS 13 (9360) (512GB, Purple)",
           8.5
          ],
          [
           "TUF Gaming A15 (128GB, Yellow)",
           8.5
          ],
          [
           "ThinkPad T14 (256GB, Green)",
           8.5
          ],
          [
           "G3 15 (64GB, Red)",
           8.25
          ],
          [
           "Alienware m15 R3 (1TB, Gray)",
           8.5
          ],
          [
           "Spectre x360 13 (128GB, Purple)",
           8.3
          ],
          [
           "Inspiron 15 3000 (64GB, Green)",
           7.5
          ],
          [
           "ProBook 450 G7 (256GB, Blue)",
           8.2
          ],
          [
           "Spectre x360 13 (64GB, Black)",
           8.7
          ],
          [
           "ThinkPad X1 Yoga (4th Gen) (512GB, Yellow)",
           8.5
          ],
          [
           "IdeaPad 5 (64GB, Purple)",
           8.5
          ],
          [
           "MacBook Pro 13 (2019) (64GB, Green)",
           8.75
          ],
          [
           "MacBook Air M2 (2022) (512GB, Blue)",
           9.2
          ],
          [
           "ENVY 13 (64GB, Black)",
           8.5
          ],
          [
           "Legion 5 (256GB, Blue)",
           8.5
          ],
          [
           "ENVY 13 (1TB, Purple)",
           8.5
          ],
          [
           "Chromebook Flip C434 (1TB, Gray)",
           8.5
          ],
          [
           "MacBook Air (2019) (1TB, Black)",
           8.5
          ],
          [
           "IdeaPad Flex 5 (512GB, Orange)",
           8.25
          ],
          [
           "VivoBook S15 (1TB, Gray)",
           8.2
          ],
          [
           "MacBook Air M1 (2020) (512GB, Yellow)",
           8.75
          ],
          [
           "Latitude 7400 (512GB, Orange)",
           8.5
          ],
          [
           "Yoga 9i (128GB, Brown)",
           8.95
          ],
          [
           "ZenBook Duo 14 (64GB, Green)",
           8.5
          ],
          [
           "Yoga Slim 7 (1TB, Blue)",
           8.75
          ],
          [
           "IdeaPad Flex 5 (1TB, Gray)",
           8.75
          ],
          [
           "VivoBook 15 X512 (1TB, Orange)",
           8.3
          ],
          [
           "VivoBook S15 (256GB, Orange)",
           8.2
          ],
          [
           "ThinkPad X1 Yoga (4th Gen) (256GB, White)",
           8.5
          ],
          [
           "TUF Gaming A15 (128GB, Green)",
           8.5
          ],
          [
           "G3 15 (256GB, Yellow)",
           8.2
          ],
          [
           "Spectre x360 15 (128GB, Blue)",
           8.7
          ],
          [
           "XPS 13 (9360) (1TB, Purple)",
           8.7
          ],
          [
           "ThinkBook 15 (128GB, White)",
           7.8
          ],
          [
           "Yoga 9i (512GB, White)",
           8.75
          ],
          [
           "XPS 17 (9700) (256GB, Red)",
           8.5
          ],
          [
           "ThinkPad X1 Carbon (7th Gen) (64GB, Black)",
           8.5
          ],
          [
           "ROG Zephyrus G14 (64GB, Orange)",
           8.75
          ],
          [
           "Legion 5 (128GB, White)",
           8.75
          ],
          [
           "IdeaPad Flex 5 (128GB, Orange)",
           8.2
          ],
          [
           "MacBook Pro 16 (2021) (1TB, Orange)",
           9.25
          ],
          [
           "XPS 13 (9360) (64GB, Black)",
           8.7
          ],
          [
           "ProBook 450 G7 (1TB, Brown)",
           8.5
          ],
          [
           "MacBook Pro 13 (2022) (256GB, Brown)",
           8.9
          ],
          [
           "VivoBook S15 (512GB, Brown)",
           8.3
          ],
          [
           "ExpertBook B9 (64GB, Green)",
           8.75
          ],
          [
           "ZBook Firefly 14 (512GB, Yellow)",
           8.6
          ],
          [
           "Chromebook Flip C434 (128GB, Red)",
           8
          ],
          [
           "Inspiron 15 3000 (512GB, Black)",
           7.8
          ],
          [
           "Yoga Slim 7 (1TB, Red)",
           8.5
          ],
          [
           "MacBook Air (2019) (128GB, Orange)",
           8.5
          ],
          [
           "Omen 15 (1TB, Green)",
           8.6
          ],
          [
           "Inspiron 15 3000 (256GB, Black)",
           7.8
          ],
          [
           "ZenBook Pro Duo 15 (64GB, White)",
           8.75
          ],
          [
           "TUF Gaming A15 (1TB, Orange)",
           8.5
          ],
          [
           "ROG Strix Scar 15 (256GB, Red)",
           8.6
          ],
          [
           "Pavilion 15 (64GB, Orange)",
           8.2
          ],
          [
           "ZBook Firefly 14 (128GB, Blue)",
           8.5
          ],
          [
           "Legion 5 (512GB, Green)",
           8.75
          ],
          [
           "MacBook Pro 13 (2019) (256GB, Black)",
           8.7
          ],
          [
           "ThinkPad T14 (256GB, White)",
           8.75
          ],
          [
           "XPS 13 (9370) (64GB, Purple)",
           8.5
          ],
          [
           "Latitude 7400 (128GB, Gray)",
           8.75
          ],
          [
           "ROG Strix Scar 15 (512GB, Green)",
           9.2
          ],
          [
           "MacBook Air M1 (2020) (512GB, Orange)",
           9.2
          ],
          [
           "MacBook Air (2019) (128GB, Yellow)",
           8.5
          ],
          [
           "MacBook Pro 13 (2019) (128GB, Yellow)",
           9.1
          ],
          [
           "ENVY 15 (128GB, Black)",
           8.5
          ],
          [
           "G5 15 (64GB, Green)",
           8.75
          ],
          [
           "ROG Zephyrus G14 (512GB, Brown)",
           8.75
          ],
          [
           "MacBook Pro 14 (2021) (256GB, Blue)",
           9.25
          ],
          [
           "ZenBook 14 UX425 (1TB, White)",
           9.2
          ],
          [
           "Alienware m15 R3 (1TB, Brown)",
           8.5
          ],
          [
           "Omen 15 (64GB, Blue)",
           8.75
          ],
          [
           "MacBook Air (2017) (1TB, White)",
           8
          ],
          [
           "ENVY 15 (64GB, White)",
           8.5
          ],
          [
           "ThinkPad X1 Yoga (4th Gen) (128GB, Yellow)",
           8.5
          ],
          [
           "ThinkPad T14 (1TB, Gray)",
           8.75
          ],
          [
           "IdeaPad 5 (128GB, Purple)",
           8.5
          ],
          [
           "Alienware m15 R3 (1TB, Brown)",
           8.5
          ],
          [
           "G5 15 (512GB, Blue)",
           8.5
          ],
          [
           "Pavilion 15 (1TB, Yellow)",
           8.2
          ],
          [
           "MacBook Pro 16 (2021) (512GB, Gray)",
           9.25
          ],
          [
           "Pavilion 14 (1TB, Orange)",
           8.2
          ],
          [
           "MacBook Air (2017) (128GB, Purple)",
           8.5
          ],
          [
           "ROG Zephyrus G14 (1TB, Red)",
           8.75
          ],
          [
           "Inspiron 15 3000 (1TB, Gray)",
           7.5
          ],
          [
           "TUF Gaming A15 (1TB, Red)",
           8.5
          ],
          [
           "G3 15 (128GB, Yellow)",
           7.8
          ],
          [
           "ZBook Firefly 14 (64GB, Yellow)",
           8.5
          ],
          [
           "XPS 13 (9360) (256GB, Blue)",
           8.5
          ],
          [
           "ENVY 15 (64GB, Black)",
           8.5
          ],
          [
           "XPS 13 (9370) (64GB, Yellow)",
           8.75
          ],
          [
           "ZenBook Pro Duo 15 (256GB, White)",
           8.5
          ],
          [
           "ThinkBook 15 (256GB, Green)",
           8.5
          ],
          [
           "ThinkPad X1 Yoga (4th Gen) (128GB, Black)",
           8.5
          ],
          [
           "Pavilion 14 (256GB, White)",
           8.3
          ],
          [
           "ZenBook 14 UX425 (128GB, Purple)",
           8.75
          ],
          [
           "MacBook Pro 13 (2022) (1TB, Orange)",
           9.25
          ],
          [
           "Legion 7 (64GB, Red)",
           8.75
          ],
          [
           "Inspiron 14 5000 (256GB, Blue)",
           8.5
          ],
          [
           "ROG Strix Scar 15 (256GB, Orange)",
           9.2
          ],
          [
           "EliteBook 840 G6 (128GB, Orange)",
           8.5
          ],
          [
           "XPS 15 (9500) (128GB, Blue)",
           8.75
          ],
          [
           "Pavilion 14 (1TB, White)",
           7.5
          ],
          [
           "Yoga Slim 7 (512GB, Gray)",
           8.7
          ],
          [
           "MacBook Air M2 (2022) (512GB, Red)",
           9.3
          ],
          [
           "IdeaPad Flex 5 (1TB, Purple)",
           8.5
          ],
          [
           "Chromebook Flip C434 (1TB, Blue)",
           8.5
          ],
          [
           "XPS 13 (9370) (512GB, Gray)",
           8.5
          ],
          [
           "Spectre x360 15 (64GB, Black)",
           8.5
          ],
          [
           "ROG Strix Scar 15 (512GB, Brown)",
           8.5
          ],
          [
           "VivoBook 15 X512 (64GB, White)",
           8.5
          ],
          [
           "MacBook Pro 13 (2022) (1TB, Purple)",
           9.2
          ],
          [
           "Alienware m15 R3 (128GB, Blue)",
           8.75
          ],
          [
           "ZenBook Pro Duo 15 (256GB, Gray)",
           8.5
          ],
          [
           "XPS 17 (9700) (512GB, Red)",
           8.5
          ],
          [
           "Legion 5 (512GB, Black)",
           8.5
          ],
          [
           "VivoBook S15 (64GB, Red)",
           8.5
          ],
          [
           "G5 15 (1TB, Brown)",
           8.4
          ],
          [
           "Latitude 7400 (256GB, Black)",
           8.5
          ],
          [
           "ZenBook Pro Duo 15 (256GB, Brown)",
           8.5
          ],
          [
           "G5 15 (64GB, White)",
           8.5
          ],
          [
           "ZBook Firefly 14 (128GB, Black)",
           8.2
          ],
          [
           "ThinkBook 15 (512GB, Gray)",
           8.5
          ],
          [
           "MacBook Pro 13 (2022) (128GB, Red)",
           8.5
          ],
          [
           "MacBook Pro 13 (2019) (256GB, Red)",
           8.5
          ],
          [
           "VivoBook 15 X512 (64GB, Purple)",
           8.35
          ],
          [
           "MacBook Pro 13 (2020) (64GB, Green)",
           8.75
          ],
          [
           "MacBook Pro 13 (2020) (128GB, Orange)",
           8.75
          ]
         ],
         "hovertemplate": "category=Laptops<br>price=%{x}<br>quantity_sold=%{y}<br>revenue=%{marker.size}<br>product_name=%{customdata[0]}<br>rating=%{customdata[1]}<extra></extra>",
         "legendgroup": "Laptops",
         "marker": {
          "color": "#ab63fa",
          "size": {
           "bdata": "AAAAAFABGEEAAAAA0GspQQAAAABMRStBAAAAAHx5KUEAAAAA6Hk2QQAAAAAAwz5BAAAAAHhuJEEAAACA97ZEQQAAAAAglB5BAAAAAPnWNUEAAAAAUNoxQQAAAADimTVBAAAAAKDdOEEAAAAA4MUNQQAAAACQyClBAAAAAAAOL0EAAAAAEsgzQQAAAAD+pEpBAAAAACy0FkEAAAAADN0xQQAAAAAgzzBBAAAAAFhlJUHsUbieF/IxQQAAAABYLz5BexSuRzbMMUEAAAAAPSwxQQAAAAAB4zJBAAAAAPjaPUEAAAAA8B0aQQAAAABWYkBBAAAAAPyTKkGamZkZ4EIoQQAAAAAwCTJBAAAAAOmvNUEAAAAArMA0QQAAAAAelTNBAAAAAGBuH0EAAAAATCQnQQAAAAAF+TZBAAAAANTzP0EAAAAAGE4sQQAAAAAO8zJBAAAAANyHNEEAAAAAoCAiQQAAAIAoQkVBAAAAAO4LNUEAAAAAIPY2QQAAAAA47CdBhetRuCMdJEEAAAAAHIoZQQAAAADAnCtBAAAAAHMFNUEAAAAAMMYoQQAAAABMJDdBAAAAAN98NkEAAAAAcIwiQQAAAAAmaiZBAAAAAHzlJUEAAAAAHhJBQQAAAADA2ilBAAAAAPywMUEAAAAAhGsgQQAAAADYTCdBAAAAAKBuLkEAAAAAZK41QQAAAAAOPjdBAAAAAMr3NUEAAAAA0IIhQQAAAACA3yNBAAAAAGACJkEAAAAAcGsoQQAAAACJzkBBAAAAAKQTO0EAAAAA/0o2QQAAAACgVCpBAAAAAByzMkEAAAAA3ikqQQAAAADoVSxBAAAAAFCcM0EAAAAAPR42QQAAAABwjDJBAAAAAJzIJUEAAAAAKD0dQQAAAAAasyVBAAAAACT1PUEAAAAAIJwmQQAAAADZuDNBAAAAAGpTJUEAAAAATFpDQQAAAADM40NBPgrXo7eVIkEAAAAAtDc0QQAAAACA7RlBAAAAABQWIkEAAAAA8B4+QQAAAACwbDBBAAAAAD1pNEEAAAAAFvIwQQAAAAAz2zJBAAAAAGB+IkFSuB4FXicpQQAAAABA+z5BAAAAABjtG0EAAAAAgAoBQQAAAABEbSdBAAAAANLRMUEAAAAAoH8nQQAAAABodS1BAAAAALwCP0EAAAAAjvM3QQAAAADSOiFBAAAAAMLxLkEAAAAAxJc0QQAAAADufSRBAAAAAC6eKEEAAAAAaP8fQQAAAADQcCRBAAAAAA48JEEAAAAAKmcxQQAAAAA0oydBAAAAANzaO0EAAAAAGBEsQQAAAAAASSFBAAAAAJh+JkEAAAAANDIiQQAAAAAAjyZBAAAAAKiOLkEAAAAAcHYfQQAAAADAoSZBAAAAAIBKN0EAAAAAtpslQQAAAACAGi9BAAAAALB0J0EAAAAAwHQxQQAAAACqDkRBAAAAAMzNL0EAAAAAvCEUQQAAAAC2NTRBAAAAADRzPEEAAAAALLwnQQAAAADCeitBAAAAACpMIEEAAAAAZPo5QQAAAAAo+CtBAAAAAECbFUEAAAAArFYhQQAAAABAJCRBAAAAABfYMEEAAAAA6I4vQQAAAAAIUSBBAAAAAA8SQEEAAAAAwOw2QQAAAAA4CzdBAAAAAIQBIUEAAAAAsL83QQAAAAAUBi1BAAAAAB5HL0EAAAAAkPMyQQAAAAAgcjNBAAAAAHAoIkEAAAAASJUzQQAAAABGPDpBAAAAAG9PMEEAAAAAGP42QQAAAACEUiBBAAAAAIAZK0EAAAAAcgw9QQAAAIA2kUNBAAAAAHTPNkEAAAAAmH42QQAAAACgDTFBAAAAAPByIEEAAAAAsCEwQQAAAADg+yRBAAAAANTHLUEAAAAAYBwaQQAAAACYfjZBAAAAALQrMUEAAAAAbN0hQQAAAADJhEhBAAAAAIh9GEEAAAAAEA8dQQAAAAAYHjRBAAAAAIAMCUEAAAAA0t4vQQAAAACQwBxBAAAAAKCsLEEAAAAAAHUiQQAAAABgAjZBAAAAAKyVM0EAAAAAIEFHQQAAAACYqidBAAAAAACXLUEAAAAAUKklQQAAAAAAdSJBAAAAAD2rPkEAAACA15dFQQAAAAD4midBAAAAgEjcRUEAAAAAILAhQQAAAADANydBAAAAAOAVCUEAAAAAFOAqQQAAAAAirD1BAAAAAODCIUEAAAAAYDspQQAAAACAIzFBAAAAAJgZMkEAAAAAIC86QQAAAABQAhxBAAAAgJEjQ0EAAAAAcFs2QQAAAABAACpBAAAAgES6QUEAAAAAqFMiQQAAAABoIxpBAAAAALClM0EAAAAAgEUsQQAAAABQLSlBAAAAAMCCJ0EAAAAA9Hc2QQAAAABcuiZBAAAAAPYXOUEAAAAA4QA4QQAAAAAsHS1BAAAAAJyYJkEAAAAA0h8qQQ==",
           "dtype": "f8"
          },
          "sizemode": "area",
          "sizeref": 9670.1,
          "symbol": "circle"
         },
         "mode": "markers",
         "name": "Laptops",
         "showlegend": true,
         "type": "scattergl",
         "x": {
          "bdata": "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",
          "dtype": "f8"
         },
         "xaxis": "x",
         "y": {
          "bdata": "AAAAAADgeUAAAAAAAKB+QAAAAAAAEI9AAAAAAABkkUAAAAAAALCOQAAAAAAAgI9AAAAAAADslEAAAAAAAHSSQAAAAAAAGIpAAAAAAACUkEAAAAAAAEB9QAAAAAAAPJNAAAAAAAA4lUAAAAAAAPCAQAAAAAAAoJFAAAAAAADgg0AAAAAAADCPQAAAAAAAoIpAAAAAAABog0AAAAAAANCPQAAAAAAAsIxAAAAAAAAQh0AAAAAAAFiTQAAAAAAALJFAAAAAAABgjkAAAAAAAJiBQAAAAAAAXJNAAAAAAAD8kEAAAAAAAFCIQAAAAAAA2IpAAAAAAAAIkUAAAAAAANiIQAAAAAAAyI5AAAAAAAA4hkAAAAAAAKCHQAAAAAAAEIRAAAAAAAAgkEAAAAAAAJCFQAAAAAAAHJJAAAAAAAAwkkAAAAAAALSUQAAAAAAAqJFAAAAAAAAIjEAAAAAAAMCIQAAAAAAAbJFAAAAAAACQhUAAAAAAAJiTQAAAAAAA2JJAAAAAAACwj0AAAAAAALiIQAAAAAAAwIVAAAAAAAD0kUAAAAAAADB8QAAAAAAAkJVAAAAAAAD0lEAAAAAAAKiPQAAAAAAAiIlAAAAAAAAQjEAAAAAAAPiLQAAAAAAAEIZAAAAAAAAggkAAAAAAAMiDQAAAAAAA0I9AAAAAAABQgUAAAAAAABSRQAAAAAAAqJVAAAAAAAB4lEAAAAAAAOCCQAAAAAAAgIJAAAAAAADIgkAAAAAAAECDQAAAAAAAOJFAAAAAAAB8kkAAAAAAAAiDQAAAAAAAeIZAAAAAAACIiUAAAAAAAMSQQAAAAAAAWINAAAAAAAC8kEAAAAAAADiOQAAAAAAAqI9AAAAAAADQiEAAAAAAAAiHQAAAAAAAOIRAAAAAAAAohUAAAAAAAKyUQAAAAAAAGI9AAAAAAADYiEAAAAAAAASSQAAAAAAAKItAAAAAAAAIk0AAAAAAAOCPQAAAAAAAmJBAAAAAAACUlEAAAAAAAJCUQAAAAAAACIxAAAAAAADslEAAAAAAAESSQAAAAAAAVJNAAAAAAACQf0AAAAAAACyRQAAAAAAAoJFAAAAAAACgfEAAAAAAANB1QAAAAAAAdJJAAAAAAABwjkAAAAAAADCBQAAAAAAAjJVAAAAAAACgi0AAAAAAAIiRQAAAAAAAyIRAAAAAAAC4j0AAAAAAADCTQAAAAAAAhJFAAAAAAABog0AAAAAAANiFQAAAAAAAoIhAAAAAAABIgUAAAAAAAHCLQAAAAAAAMIRAAAAAAAAEk0AAAAAAACCGQAAAAAAAIIZAAAAAAAC4kUAAAAAAANiIQAAAAAAAQINAAAAAAAB4kEAAAAAAACCAQAAAAAAAUINAAAAAAADgk0AAAAAAAAyRQAAAAAAAwIZAAAAAAACwekAAAAAAAOCBQAAAAAAAcJBAAAAAAAAkkUAAAAAAAKiEQAAAAAAAkIBAAAAAAABsk0AAAAAAAJiMQAAAAAAAeIdAAAAAAABIhkAAAAAAAEiFQAAAAAAAGINAAAAAAAAghkAAAAAAACSQQAAAAAAAMIFAAAAAAABEkUAAAAAAAPCHQAAAAAAA0JFAAAAAAADQgkAAAAAAAJCTQAAAAAAAOIpAAAAAAAA4h0AAAAAAAESUQAAAAAAA2IlAAAAAAACoiEAAAAAAACyQQAAAAAAAIIZAAAAAAADghUAAAAAAAEiGQAAAAAAAaJZAAAAAAACUkkAAAAAAACCSQAAAAAAAmIFAAAAAAAAgh0AAAAAAANiTQAAAAAAADJRAAAAAAAA8lUAAAAAAAJiJQAAAAAAAwH9AAAAAAAAQiEAAAAAAAIiLQAAAAAAA4IdAAAAAAAAIhUAAAAAAAEiGQAAAAAAAmIlAAAAAAAD4j0AAAAAAADCMQAAAAAAAGJRAAAAAAAC4gEAAAAAAAIiQQAAAAAAAQIhAAAAAAACAfEAAAAAAADiLQAAAAAAAYIBAAAAAAABQgEAAAAAAAACFQAAAAAAAyJJAAAAAAACYh0AAAAAAAMCPQAAAAAAAKJBAAAAAAABAiUAAAAAAABCRQAAAAAAAoIdAAAAAAAB8kkAAAAAAAEiHQAAAAAAAmJJAAAAAAABclEAAAAAAADB+QAAAAAAA0INAAAAAAAAgcUAAAAAAAPiMQAAAAAAAuJVAAAAAAABAiEAAAAAAAOCTQAAAAAAAQI1AAAAAAACYhEAAAAAAANCKQAAAAAAAEIZAAAAAAACklEAAAAAAAHCJQAAAAAAAoHpAAAAAAABMkUAAAAAAAOCEQAAAAAAA2IFAAAAAAADEkEAAAAAAACCIQAAAAAAAoHRAAAAAAAAQhEAAAAAAAGiSQAAAAAAACI9AAAAAAADIk0AAAAAAAOySQAAAAAAAqJJAAAAAAADQgUAAAAAAAJiEQA==",
          "dtype": "f8"
         },
         "yaxis": "y"
        }
       ],
       "layout": {
        "legend": {
         "itemsizing": "constant",
         "title": {
          "text": "category"
         },
         "tracegroupgap": 0
        },
        "template": {
         "data": {
          "bar": [
           {
            "error_x": {
             "color": "#2a3f5f"
            },
            "error_y": {
             "color": "#2a3f5f"
            },
            "marker": {
             "line": {
              "color": "#E5ECF6",
              "width": 0.5
             },
             "pattern": {
              "fillmode": "overlay",
              "size": 10,
              "solidity": 0.2
             }
            },
            "type": "bar"
           }
          ],
          "barpolar": [
           {
            "marker": {
             "line": {
              "color": "#E5ECF6",
              "width": 0.5
             },
             "pattern": {
              "fillmode": "overlay",
              "size": 10,
              "solidity": 0.2
             }
            },
            "type": "barpolar"
           }
          ],
          "carpet": [
           {
            "aaxis": {
             "endlinecolor": "#2a3f5f",
             "gridcolor": "white",
             "linecolor": "white",
             "minorgridcolor": "white",
             "startlinecolor": "#2a3f5f"
            },
            "baxis": {
             "endlinecolor": "#2a3f5f",
             "gridcolor": "white",
             "linecolor": "white",
             "minorgridcolor": "white",
             "startlinecolor": "#2a3f5f"
            },
            "type": "carpet"
           }
          ],
          "choropleth": [
           {
            "colorbar": {
             "outlinewidth": 0,
             "ticks": ""
            },
            "type": "choropleth"
           }
          ],
          "contour": [
           {
            "colorbar": {
             "outlinewidth": 0,
             "ticks": ""
            },
            "colorscale": [
             [
              0,
              "#0d0887"
             ],
             [
              0.1111111111111111,
              "#46039f"
             ],
             [
              0.2222222222222222,
              "#7201a8"
             ],
             [
              0.3333333333333333,
              "#9c179e"
             ],
             [
              0.4444444444444444,
              "#bd3786"
             ],
             [
              0.5555555555555556,
              "#d8576b"
             ],
             [
              0.6666666666666666,
              "#ed7953"
             ],
             [
              0.7777777777777778,
              "#fb9f3a"
             ],
             [
              0.8888888888888888,
              "#fdca26"
             ],
             [
              1,
              "#f0f921"
             ]
            ],
            "type": "contour"
           }
          ],
          "contourcarpet": [
           {
            "colorbar": {
             "outlinewidth": 0,
             "ticks": ""
            },
            "type": "contourcarpet"
           }
          ],
          "heatmap": [
           {
            "colorbar": {
             "outlinewidth": 0,
             "ticks": ""
            },
            "colorscale": [
             [
              0,
              "#0d0887"
             ],
             [
              0.1111111111111111,
              "#46039f"
             ],
             [
              0.2222222222222222,
              "#7201a8"
             ],
             [
              0.3333333333333333,
              "#9c179e"
             ],
             [
              0.4444444444444444,
              "#bd3786"
             ],
             [
              0.5555555555555556,
              "#d8576b"
             ],
             [
              0.6666666666666666,
              "#ed7953"
             ],
             [
              0.7777777777777778,
              "#fb9f3a"
             ],
             [
              0.8888888888888888,
              "#fdca26"
             ],
             [
              1,
              "#f0f921"
             ]
            ],
            "type": "heatmap"
           }
          ],
          "histogram": [
           {
            "marker": {
             "pattern": {
              "fillmode": "overlay",
              "size": 10,
              "solidity": 0.2
             }
            },
            "type": "histogram"
           }
          ],
          "histogram2d": [
           {
            "colorbar": {
             "outlinewidth": 0,
             "ticks": ""
            },
            "colorscale": [
             [
              0,
              "#0d0887"
             ],
             [
              0.1111111111111111,
              "#46039f"
             ],
             [
              0.2222222222222222,
              "#7201a8"
             ],
             [
              0.3333333333333333,
              "#9c179e"
             ],
             [
              0.4444444444444444,
              "#bd3786"
             ],
             [
              0.5555555555555556,
              "#d8576b"
             ],
             [
              0.6666666666666666,
              "#ed7953"
             ],
             [
              0.7777777777777778,
              "#fb9f3a"
             ],
             [
              0.8888888888888888,
              "#fdca26"
             ],
             [
              1,
              "#f0f921"
             ]
            ],
            "type": "histogram2d"
           }
          ],
          "histogram2dcontour": [
           {
            "colorbar": {
             "outlinewidth": 0,
             "ticks": ""
            },
            "colorscale": [
             [
              0,
              "#0d0887"
             ],
             [
              0.1111111111111111,
              "#46039f"
             ],
             [
              0.2222222222222222,
              "#7201a8"
             ],
             [
              0.3333333333333333,
              "#9c179e"
             ],
             [
              0.4444444444444444,
              "#bd3786"
             ],
             [
              0.5555555555555556,
              "#d8576b"
             ],
             [
              0.6666666666666666,
              "#ed7953"
             ],
             [
              0.7777777777777778,
              "#fb9f3a"
             ],
             [
              0.8888888888888888,
              "#fdca26"
             ],
             [
              1,
              "#f0f921"
             ]
            ],
            "type": "histogram2dcontour"
           }
          ],
          "mesh3d": [
           {
            "colorbar": {
             "outlinewidth": 0,
             "ticks": ""
            },
            "type": "mesh3d"
           }
          ],
          "parcoords": [
           {
            "line": {
             "colorbar": {
              "outlinewidth": 0,
              "ticks": ""
             }
            },
            "type": "parcoords"
           }
          ],
          "pie": [
           {
            "automargin": true,
            "type": "pie"
           }
          ],
          "scatter": [
           {
            "fillpattern": {
             "fillmode": "overlay",
             "size": 10,
             "solidity": 0.2
            },
            "type": "scatter"
           }
          ],
          "scatter3d": [
           {
            "line": {
             "colorbar": {
              "outlinewidth": 0,
              "ticks": ""
             }
            },
            "marker": {
             "colorbar": {
              "outlinewidth": 0,
              "ticks": ""
             }
            },
            "type": "scatter3d"
           }
          ],
          "scattercarpet": [
           {
            "marker": {
             "colorbar": {
              "outlinewidth": 0,
              "ticks": ""
             }
            },
            "type": "scattercarpet"
           }
          ],
          "scattergeo": [
           {
            "marker": {
             "colorbar": {
              "outlinewidth": 0,
              "ticks": ""
             }
            },
            "type": "scattergeo"
           }
          ],
          "scattergl": [
           {
            "marker": {
             "colorbar": {
              "outlinewidth": 0,
              "ticks": ""
             }
            },
            "type": "scattergl"
           }
          ],
          "scattermap": [
           {
            "marker": {
             "colorbar": {
              "outlinewidth": 0,
              "ticks": ""
             }
            },
            "type": "scattermap"
           }
          ],
          "scattermapbox": [
           {
            "marker": {
             "colorbar": {
              "outlinewidth": 0,
              "ticks": ""
             }
            },
            "type": "scattermapbox"
           }
          ],
          "scatterpolar": [
           {
            "marker": {
             "colorbar": {
              "outlinewidth": 0,
              "ticks": ""
             }
            },
            "type": "scatterpolar"
           }
          ],
          "scatterpolargl": [
           {
            "marker": {
             "colorbar": {
              "outlinewidth": 0,
              "ticks": ""
             }
            },
            "type": "scatterpolargl"
           }
          ],
          "scatterternary": [
           {
            "marker": {
             "colorbar": {
              "outlinewidth": 0,
              "ticks": ""
             }
            },
            "type": "scatterternary"
           }
          ],
          "surface": [
           {
            "colorbar": {
             "outlinewidth": 0,
             "ticks": ""
            },
            "colorscale": [
             [
              0,
              "#0d0887"
             ],
             [
              0.1111111111111111,
              "#46039f"
             ],
             [
              0.2222222222222222,
              "#7201a8"
             ],
             [
              0.3333333333333333,
              "#9c179e"
             ],
             [
              0.4444444444444444,
              "#bd3786"
             ],
             [
              0.5555555555555556,
              "#d8576b"
             ],
             [
              0.6666666666666666,
              "#ed7953"
             ],
             [
              0.7777777777777778,
              "#fb9f3a"
             ],
             [
              0.8888888888888888,
              "#fdca26"
             ],
             [
              1,
              "#f0f921"
             ]
            ],
            "type": "surface"
           }
          ],
          "table": [
           {
            "cells": {
             "fill": {
              "color": "#EBF0F8"
             },
             "line": {
              "color": "white"
             }
            },
            "header": {
             "fill": {
              "color": "#C8D4E3"
             },
             "line": {
              "color": "white"
             }
            },
            "type": "table"
           }
          ]
         },
         "layout": {
          "annotationdefaults": {
           "arrowcolor": "#2a3f5f",
           "arrowhead": 0,
           "arrowwidth": 1
          },
          "autotypenumbers": "strict",
          "coloraxis": {
           "colorbar": {
            "outlinewidth": 0,
            "ticks": ""
           }
          },
          "colorscale": {
           "diverging": [
            [
             0,
             "#8e0152"
            ],
            [
             0.1,
             "#c51b7d"
            ],
            [
             0.2,
             "#de77ae"
            ],
            [
             0.3,
             "#f1b6da"
            ],
            [
             0.4,
             "#fde0ef"
            ],
            [
             0.5,
             "#f7f7f7"
            ],
            [
             0.6,
             "#e6f5d0"
            ],
            [
             0.7,
             "#b8e186"
            ],
            [
             0.8,
             "#7fbc41"
            ],
            [
             0.9,
             "#4d9221"
            ],
            [
             1,
             "#276419"
            ]
           ],
           "sequential": [
            [
             0,
             "#0d0887"
            ],
            [
             0.1111111111111111,
             "#46039f"
            ],
            [
             0.2222222222222222,
             "#7201a8"
            ],
            [
             0.3333333333333333,
             "#9c179e"
            ],
            [
             0.4444444444444444,
             "#bd3786"
            ],
            [
             0.5555555555555556,
             "#d8576b"
            ],
            [
             0.6666666666666666,
             "#ed7953"
            ],
            [
             0.7777777777777778,
             "#fb9f3a"
            ],
            [
             0.8888888888888888,
             "#fdca26"
            ],
            [
             1,
             "#f0f921"
            ]
           ],
           "sequentialminus": [
            [
             0,
             "#0d0887"
            ],
            [
             0.1111111111111111,
             "#46039f"
            ],
            [
             0.2222222222222222,
             "#7201a8"
            ],
            [
             0.3333333333333333,
             "#9c179e"
            ],
            [
             0.4444444444444444,
             "#bd3786"
            ],
            [
             0.5555555555555556,
             "#d8576b"
            ],
            [
             0.6666666666666666,
             "#ed7953"
            ],
            [
             0.7777777777777778,
             "#fb9f3a"
            ],
            [
             0.8888888888888888,
             "#fdca26"
            ],
            [
             1,
             "#f0f921"
            ]
           ]
          },
          "colorway": [
           "#636efa",
           "#EF553B",
           "#00cc96",
           "#ab63fa",
           "#FFA15A",
           "#19d3f3",
           "#FF6692",
           "#B6E880",
           "#FF97FF",
           "#FECB52"
          ],
          "font": {
           "color": "#2a3f5f"
          },
          "geo": {
           "bgcolor": "white",
           "lakecolor": "white",
           "landcolor": "#E5ECF6",
           "showlakes": true,
           "showland": true,
           "subunitcolor": "white"
          },
          "hoverlabel": {
           "align": "left"
          },
          "hovermode": "closest",
          "mapbox": {
           "style": "light"
          },
          "paper_bgcolor": "white",
          "plot_bgcolor": "#E5ECF6",
          "polar": {
           "angularaxis": {
            "gridcolor": "white",
            "linecolor": "white",
            "ticks": ""
           },
           "bgcolor": "#E5ECF6",
           "radialaxis": {
            "gridcolor": "white",
            "linecolor": "white",
            "ticks": ""
           }
          },
          "scene": {
           "xaxis": {
            "backgroundcolor": "#E5ECF6",
            "gridcolor": "white",
            "gridwidth": 2,
            "linecolor": "white",
            "showbackground": true,
            "ticks": "",
            "zerolinecolor": "white"
           },
           "yaxis": {
            "backgroundcolor": "#E5ECF6",
            "gridcolor": "white",
            "gridwidth": 2,
            "linecolor": "white",
            "showbackground": true,
            "ticks": "",
            "zerolinecolor": "white"
           },
           "zaxis": {
            "backgroundcolor": "#E5ECF6",
            "gridcolor": "white",
            "gridwidth": 2,
            "linecolor": "white",
            "showbackground": true,
            "ticks": "",
            "zerolinecolor": "white"
           }
          },
          "shapedefaults": {
           "line": {
            "color": "#2a3f5f"
           }
          },
          "ternary": {
           "aaxis": {
            "gridcolor": "white",
            "linecolor": "white",
            "ticks": ""
           },
           "baxis": {
            "gridcolor": "white",
            "linecolor": "white",
            "ticks": ""
           },
           "bgcolor": "#E5ECF6",
           "caxis": {
            "gridcolor": "white",
            "linecolor": "white",
            "ticks": ""
           }
          },
          "title": {
           "x": 0.05
          },
          "xaxis": {
           "automargin": true,
           "gridcolor": "white",
           "linecolor": "white",
           "ticks": "",
           "title": {
            "standoff": 15
           },
           "zerolinecolor": "white",
           "zerolinewidth": 2
          },
          "yaxis": {
           "automargin": true,
           "gridcolor": "white",
           "linecolor": "white",
           "ticks": "",
           "title": {
            "standoff": 15
           },
           "zerolinecolor": "white",
           "zerolinewidth": 2
          }
         }
        },
        "title": {
         "text": "Interactive: Price vs Quantity Sold"
        },
        "xaxis": {
         "anchor": "y",
         "domain": [
          0,
          1
         ],
         "title": {
          "text": "price"
         }
        },
        "yaxis": {
         "anchor": "x",
         "domain": [
          0,
          1
         ],
         "title": {
          "text": "quantity_sold"
         }
        }
       }
      }
     },
     "metadata": {},
     "output_type": "display_data"
    }
   ],
   "source": [
    "fig = px.scatter(\n",
    "    df,\n",
    "    x='price',\n",
    "    y='quantity_sold',\n",
    "    size='revenue',\n",
    "    color='category',\n",
    "    hover_data=['product_name', 'rating'],\n",
    "    title='Interactive: Price vs Quantity Sold'\n",
    ")\n",
    "fig.show()"
   ]
  },
  {
   "cell_type": "markdown",
   "id": "8057b739",
   "metadata": {},
   "source": [
    "## Final Conclusions 🧠\n",
    "After conducting this analysis, here’s what I’ve discovered:\n",
    "\n",
    "🔝 A few products clearly stand out as top sellers — this became evident through both histograms and boxplots.\n",
    "\n",
    "🥇 Categories like Smartphones and Tablets appear to dominate in terms of sales volume, based on category-level comparisons.\n",
    "\n",
    "📊 There is a strong correlation between revenue, units sold, user ratings, and price — suggesting these are major drivers of success.\n",
    "\n",
    "💡 In general, high-rated products with moderate pricing tend to perform significantly better — a trend confirmed by the scatter plots.\n",
    "\n",
    "## 🎯 Business Implications\n",
    "-I recommend focusing marketing efforts on categories that consistently perform well and have high user satisfaction.\n",
    "\n",
    "-Introducing dynamic pricing for high-rated but lower-volume products could help increase their sales potential.\n",
    "\n",
    "-It’s important to actively monitor stock levels for popular items — running out of stock could mean missed revenue opportunities.\n",
    "\n",
    "*By going beyond the basic analysis — through annotations, interactive visuals, and extra insights — I can make the report not just informative, but also engaging and actionable. These enhancements help the team spot key patterns faster and make better decisions with confidence."
   ]
  }
 ],
 "metadata": {
  "kernelspec": {
   "display_name": "Python 3",
   "language": "python",
   "name": "python3"
  },
  "language_info": {
   "codemirror_mode": {
    "name": "ipython",
    "version": 3
   },
   "file_extension": ".py",
   "mimetype": "text/x-python",
   "name": "python",
   "nbconvert_exporter": "python",
   "pygments_lexer": "ipython3",
   "version": "3.13.2"
  }
 },
 "nbformat": 4,
 "nbformat_minor": 5
}
